{
    "cells": [
        {
            "cell_type": "markdown",
            "metadata": {},
            "source": [
                "<div id=\"instructions\">\n",
                "Complete all **Exercises**, and submit answers to **Questions** on the Coursera \n",
                "platform.\n",
                "</div>\n",
                "\n",
                "Some define statistics as the field that focuses on turning information into\n",
                "knowledge. The first step in that process is to summarize and describe the raw\n",
                "information - the data. In this lab we explore flights, specifically a random\n",
                "sample of domestic flights that departed from the three major \n",
                "New York City airport in 2013. We will generate simple graphical and numerical \n",
                "summaries of data on these flights and explore delay times. As this is a large \n",
                "data set, along the way you'll also learn the indispensable skills of data \n",
                "processing and subsetting.\n",
                "\n",
                "## Getting started\n",
                "\n",
                "### Load packages\n",
                "\n",
                "In this lab we will explore the data using the `dplyr` package and visualize it \n",
                "using the `ggplot2` package for data visualization. The data can be found in the\n",
                "companion package for this course, `statsr`.\n",
                "\n",
                "Let's load the packages.\n"
            ]
        },
        {
            "cell_type": "code",
            "execution_count": 35,
            "metadata": {},
            "outputs": [],
            "source": [
                "library(statsr)\n",
                "library(dplyr)\n",
                "library(ggplot2)"
            ]
        },
        {
            "cell_type": "markdown",
            "metadata": {},
            "source": [
                "### Data\n",
                "\n",
                "The [Bureau of Transportation Statistics](http://www.rita.dot.gov/bts/about/) \n",
                "(BTS) is a statistical agency that is a part of the Research and Innovative \n",
                "Technology Administration (RITA). As its name implies, BTS collects and makes \n",
                "available transportation data, such as the flights data we will be working with \n",
                "in this lab.\n",
                "\n",
                "We begin by loading the `nycflights` data frame. Type the following in your console\n",
                "to load the data:\n"
            ]
        },
        {
            "cell_type": "code",
            "execution_count": 36,
            "metadata": {},
            "outputs": [],
            "source": [
                "data(nycflights)"
            ]
        },
        {
            "cell_type": "markdown",
            "metadata": {},
            "source": [
                "The data frame containing `r nrow(nycflights)` flights that shows up in your \n",
                "workspace is a *data matrix*, with each row representing an *observation* and each \n",
                "column representing a *variable*. R calls this data format a **data frame**, which is \n",
                "a term that will be used throughout the labs.\n",
                "\n",
                "To view the names of the variables, type the command\n"
            ]
        },
        {
            "cell_type": "code",
            "execution_count": 37,
            "metadata": {},
            "outputs": [
                {
                    "data": {
                        "text/html": [
                            "<style>\n",
                            ".list-inline {list-style: none; margin:0; padding: 0}\n",
                            ".list-inline>li {display: inline-block}\n",
                            ".list-inline>li:not(:last-child)::after {content: \"\\00b7\"; padding: 0 .5ex}\n",
                            "</style>\n",
                            "<ol class=list-inline><li>'year'</li><li>'month'</li><li>'day'</li><li>'dep_time'</li><li>'dep_delay'</li><li>'arr_time'</li><li>'arr_delay'</li><li>'carrier'</li><li>'tailnum'</li><li>'flight'</li><li>'origin'</li><li>'dest'</li><li>'air_time'</li><li>'distance'</li><li>'hour'</li><li>'minute'</li></ol>\n"
                        ],
                        "text/latex": [
                            "\\begin{enumerate*}\n",
                            "\\item 'year'\n",
                            "\\item 'month'\n",
                            "\\item 'day'\n",
                            "\\item 'dep\\_time'\n",
                            "\\item 'dep\\_delay'\n",
                            "\\item 'arr\\_time'\n",
                            "\\item 'arr\\_delay'\n",
                            "\\item 'carrier'\n",
                            "\\item 'tailnum'\n",
                            "\\item 'flight'\n",
                            "\\item 'origin'\n",
                            "\\item 'dest'\n",
                            "\\item 'air\\_time'\n",
                            "\\item 'distance'\n",
                            "\\item 'hour'\n",
                            "\\item 'minute'\n",
                            "\\end{enumerate*}\n"
                        ],
                        "text/markdown": [
                            "1. 'year'\n",
                            "2. 'month'\n",
                            "3. 'day'\n",
                            "4. 'dep_time'\n",
                            "5. 'dep_delay'\n",
                            "6. 'arr_time'\n",
                            "7. 'arr_delay'\n",
                            "8. 'carrier'\n",
                            "9. 'tailnum'\n",
                            "10. 'flight'\n",
                            "11. 'origin'\n",
                            "12. 'dest'\n",
                            "13. 'air_time'\n",
                            "14. 'distance'\n",
                            "15. 'hour'\n",
                            "16. 'minute'\n",
                            "\n",
                            "\n"
                        ],
                        "text/plain": [
                            " [1] \"year\"      \"month\"     \"day\"       \"dep_time\"  \"dep_delay\" \"arr_time\" \n",
                            " [7] \"arr_delay\" \"carrier\"   \"tailnum\"   \"flight\"    \"origin\"    \"dest\"     \n",
                            "[13] \"air_time\"  \"distance\"  \"hour\"      \"minute\"   "
                        ]
                    },
                    "metadata": {},
                    "output_type": "display_data"
                }
            ],
            "source": [
                "names(nycflights)"
            ]
        },
        {
            "cell_type": "markdown",
            "metadata": {},
            "source": [
                "This returns the names of the variables in this data frame. The **codebook**\n",
                "(description of the variables) is included below. This information can also be\n",
                "found in the help file for the data frame which can be accessed by typing\n",
                "`?nycflights` in the console.\n",
                "\n",
                "- `year`, `month`, `day`: Date of departure\n",
                "- `dep_time`, `arr_time`: Departure and arrival times, local timezone.\n",
                "- `dep_delay`, `arr_delay`: Departure and arrival delays, in minutes. Negative times represent early departures/arrivals.\n",
                "- `carrier`: Two letter carrier abbreviation.\n",
                "    + `9E`:           Endeavor Air Inc.\n",
                "    + `AA`:      American Airlines Inc.\n",
                "    + `AS`:        Alaska Airlines Inc.\n",
                "    + `B6`:             JetBlue Airways\n",
                "    + `DL`:        Delta Air Lines Inc.\n",
                "    + `EV`:    ExpressJet Airlines Inc.\n",
                "    + `F9`:      Frontier Airlines Inc.\n",
                "    + `FL`: AirTran Airways Corporation\n",
                "    + `HA`:      Hawaiian Airlines Inc.\n",
                "    + `MQ`:                   Envoy Air\n",
                "    + `OO`:       SkyWest Airlines Inc.\n",
                "    + `UA`:       United Air Lines Inc.\n",
                "    + `US`:             US Airways Inc.\n",
                "    + `VX`:              Virgin America\n",
                "    + `WN`:      Southwest Airlines Co.\n",
                "    + `YV`:          Mesa Airlines Inc.\n",
                "- `tailnum`: Plane tail number\n",
                "- `flight`: Flight number\n",
                "- `origin`, `dest`: Airport codes for origin and destination. (Google can help\n",
                "you with what code stands for which airport.)\n",
                "- `air_time`: Amount of time spent in the air, in minutes.\n",
                "- `distance`: Distance flown, in miles.\n",
                "- `hour`, `minute`: Time of departure broken in to hour and minutes.\n",
                "\n",
                "A very useful function for taking a quick peek at your data frame, and viewing\n",
                "its dimensions and data types is `str`, which stands for **str**ucture.\n"
            ]
        },
        {
            "cell_type": "code",
            "execution_count": 38,
            "metadata": {},
            "outputs": [
                {
                    "name": "stdout",
                    "output_type": "stream",
                    "text": [
                        "tibble [32,735 x 16] (S3: tbl_df/data.frame)\n",
                        " $ year     : int [1:32735] 2013 2013 2013 2013 2013 2013 2013 2013 2013 2013 ...\n",
                        " $ month    : int [1:32735] 6 5 12 5 7 1 12 8 9 4 ...\n",
                        " $ day      : int [1:32735] 30 7 8 14 21 1 9 13 26 30 ...\n",
                        " $ dep_time : int [1:32735] 940 1657 859 1841 1102 1817 1259 1920 725 1323 ...\n",
                        " $ dep_delay: num [1:32735] 15 -3 -1 -4 -3 -3 14 85 -10 62 ...\n",
                        " $ arr_time : int [1:32735] 1216 2104 1238 2122 1230 2008 1617 2032 1027 1549 ...\n",
                        " $ arr_delay: num [1:32735] -4 10 11 -34 -8 3 22 71 -8 60 ...\n",
                        " $ carrier  : chr [1:32735] \"VX\" \"DL\" \"DL\" \"DL\" ...\n",
                        " $ tailnum  : chr [1:32735] \"N626VA\" \"N3760C\" \"N712TW\" \"N914DL\" ...\n",
                        " $ flight   : int [1:32735] 407 329 422 2391 3652 353 1428 1407 2279 4162 ...\n",
                        " $ origin   : chr [1:32735] \"JFK\" \"JFK\" \"JFK\" \"JFK\" ...\n",
                        " $ dest     : chr [1:32735] \"LAX\" \"SJU\" \"LAX\" \"TPA\" ...\n",
                        " $ air_time : num [1:32735] 313 216 376 135 50 138 240 48 148 110 ...\n",
                        " $ distance : num [1:32735] 2475 1598 2475 1005 296 ...\n",
                        " $ hour     : num [1:32735] 9 16 8 18 11 18 12 19 7 13 ...\n",
                        " $ minute   : num [1:32735] 40 57 59 41 2 17 59 20 25 23 ...\n"
                    ]
                }
            ],
            "source": [
                "str(nycflights)"
            ]
        },
        {
            "cell_type": "markdown",
            "metadata": {},
            "source": [
                "The `nycflights` data frame is a massive trove of information. Let's think about \n",
                "some questions we might want to answer with these data:\n",
                "\n",
                "- We might want to find out how delayed flights headed to a particular \n",
                "destination tend to be. \n",
                "- We might want to evaluate how departure delays vary over months. \n",
                "- Or we might want to determine which of the three major NYC airports has a better \n",
                "on time percentage for departing flights.\n",
                "\n",
                "### Seven verbs\n",
                "\n",
                "The `dplyr` package offers seven verbs (functions) for basic data \n",
                "manipulation:\n",
                "\n",
                "- `filter()`\n",
                "- `arrange()`\n",
                "- `select()` \n",
                "- `distinct()`\n",
                "- `mutate()`\n",
                "- `summarise()`\n",
                "- `sample_n()`\n",
                "\n",
                "We will use some of these functions in this lab, and learn about others in a \n",
                "future lab.\n",
                "\n",
                "\n",
                "## Analysis\n",
                "\n",
                "### Departure delays in flights to Raleigh-Durham (RDU)\n",
                "\n",
                "We can examine the distribution of departure delays of all flights with a \n",
                "histogram.\n"
            ]
        },
        {
            "cell_type": "code",
            "execution_count": 39,
            "metadata": {},
            "outputs": [
                {
                    "name": "stderr",
                    "output_type": "stream",
                    "text": [
                        "`stat_bin()` using `bins = 30`. Pick better value with `binwidth`.\n",
                        "\n"
                    ]
                },
                {
                    "data": {
                        "image/png": "[encoded data removed]",
                        "text/plain": [
                            "plot without title"
                        ]
                    },
                    "metadata": {
                        "image/png": {
                            "height": 420,
                            "width": 420
                        }
                    },
                    "output_type": "display_data"
                }
            ],
            "source": [
                "ggplot(data = nycflights, aes(x = dep_delay)) +\n",
                "  geom_histogram()"
            ]
        },
        {
            "cell_type": "markdown",
            "metadata": {},
            "source": [
                "This function says to plot the `dep_delay` variable from the `nycflights` data \n",
                "frame on the x-axis. It also defines a `geom` (short for geometric object), \n",
                "which describes the type of plot you will produce. \n",
                "\n",
                "Histograms are generally a very good way to see the shape of a single \n",
                "distribution, but that shape can change depending on how the data is split \n",
                "between the different bins. You can easily define the binwidth you want to use:\n"
            ]
        },
        {
            "cell_type": "code",
            "execution_count": 40,
            "metadata": {},
            "outputs": [
                {
                    "data": {
                        "image/png": "[encoded data removed]",
                        "text/plain": [
                            "plot without title"
                        ]
                    },
                    "metadata": {
                        "image/png": {
                            "height": 420,
                            "width": 420
                        }
                    },
                    "output_type": "display_data"
                },
                {
                    "data": {
                        "image/png": "[encoded data removed]",
                        "text/plain": [
                            "plot without title"
                        ]
                    },
                    "metadata": {
                        "image/png": {
                            "height": 420,
                            "width": 420
                        }
                    },
                    "output_type": "display_data"
                }
            ],
            "source": [
                "ggplot(data = nycflights, aes(x = dep_delay)) +\n",
                "  geom_histogram(binwidth = 15)\n",
                "ggplot(data = nycflights, aes(x = dep_delay)) +\n",
                "  geom_histogram(binwidth = 150)"
            ]
        },
        {
            "cell_type": "markdown",
            "metadata": {},
            "source": [
                "<div id=\"exercise\">\n",
                "**Exercise**: How do these three histograms with the various binwidths compare?\n",
                "</div>\n",
                "\n",
                "If we want to focus on departure delays of flights headed to RDU only, we need to\n",
                "first `filter` the data for flights headed to RDU (`dest == \"RDU\"`) and then make\n",
                "a histogram of only departure delays of only those flights.\n"
            ]
        },
        {
            "cell_type": "code",
            "execution_count": 41,
            "metadata": {},
            "outputs": [
                {
                    "name": "stderr",
                    "output_type": "stream",
                    "text": [
                        "`stat_bin()` using `bins = 30`. Pick better value with `binwidth`.\n",
                        "\n"
                    ]
                },
                {
                    "data": {
                        "image/png": "[encoded data removed]",
                        "text/plain": [
                            "plot without title"
                        ]
                    },
                    "metadata": {
                        "image/png": {
                            "height": 420,
                            "width": 420
                        }
                    },
                    "output_type": "display_data"
                }
            ],
            "source": [
                "rdu_flights <- nycflights %>%\n",
                "  filter(dest == \"RDU\")\n",
                "ggplot(data = rdu_flights, aes(x = dep_delay)) +\n",
                "  geom_histogram()"
            ]
        },
        {
            "cell_type": "markdown",
            "metadata": {},
            "source": [
                "Let's decipher these three lines of code:\n",
                "\n",
                "- Line 1: Take the `nycflights` data frame, `filter` for flights headed to RDU, and \n",
                "save the result as a new data frame called `rdu_flights`.\n",
                "    + `==` means \"if it's equal to\".\n",
                "    + `RDU` is in quotation marks since it is a character string.\n",
                "- Line 2: Basically the same `ggplot` call from earlier for making a histogram, \n",
                "except that it uses the data frame for flights headed to RDU instead of all\n",
                "flights.\n",
                "\n",
                "<div id=\"boxedtext\">\n",
                "**Logical operators: ** Filtering for certain observations (e.g. flights from a \n",
                "particular airport) is often of interest in data frames where we might want to \n",
                "examine observations with certain characteristics separately from the rest of \n",
                "the data. To do so we use the `filter` function and a series of \n",
                "**logical operators**. The most commonly used logical operators for data \n",
                "analysis are as follows:\n",
                "\n",
                "- `==` means \"equal to\"\n",
                "- `!=` means \"not equal to\"\n",
                "- `>` or `<` means \"greater than\" or \"less than\"\n",
                "- `>=` or `<=` means \"greater than or equal to\" or \"less than or equal to\"\n",
                "</div>\n",
                "\n",
                "We can also obtain numerical summaries for these flights:\n"
            ]
        },
        {
            "cell_type": "code",
            "execution_count": 42,
            "metadata": {},
            "outputs": [
                {
                    "data": {
                        "text/html": [
                            "<table class=\"dataframe\">\n",
                            "<caption>A tibble: 1 × 3</caption>\n",
                            "<thead>\n",
                            "\t<tr><th scope=col>mean_dd</th><th scope=col>sd_dd</th><th scope=col>n</th></tr>\n",
                            "\t<tr><th scope=col>&lt;dbl&gt;</th><th scope=col>&lt;dbl&gt;</th><th scope=col>&lt;int&gt;</th></tr>\n",
                            "</thead>\n",
                            "<tbody>\n",
                            "\t<tr><td>11.69913</td><td>35.55567</td><td>801</td></tr>\n",
                            "</tbody>\n",
                            "</table>\n"
                        ],
                        "text/latex": [
                            "A tibble: 1 × 3\n",
                            "\\begin{tabular}{lll}\n",
                            " mean\\_dd & sd\\_dd & n\\\\\n",
                            " <dbl> & <dbl> & <int>\\\\\n",
                            "\\hline\n",
                            "\t 11.69913 & 35.55567 & 801\\\\\n",
                            "\\end{tabular}\n"
                        ],
                        "text/markdown": [
                            "\n",
                            "A tibble: 1 × 3\n",
                            "\n",
                            "| mean_dd &lt;dbl&gt; | sd_dd &lt;dbl&gt; | n &lt;int&gt; |\n",
                            "|---|---|---|\n",
                            "| 11.69913 | 35.55567 | 801 |\n",
                            "\n"
                        ],
                        "text/plain": [
                            "  mean_dd  sd_dd    n  \n",
                            "1 11.69913 35.55567 801"
                        ]
                    },
                    "metadata": {},
                    "output_type": "display_data"
                }
            ],
            "source": [
                "rdu_flights %>%\n",
                "  summarise(mean_dd = mean(dep_delay), sd_dd = sd(dep_delay), n = n())"
            ]
        },
        {
            "cell_type": "markdown",
            "metadata": {},
            "source": [
                "Note that in the `summarise` function we created a list of two elements. The \n",
                "names of these elements are user defined, like `mean_dd`, `sd_dd`, `n`, and \n",
                "you could customize these names as you like (just don't use spaces in your \n",
                "names). Calculating these summary statistics also require that you know the \n",
                "function calls. Note that `n()` reports the sample size.\n",
                "\n",
                "<div id=\"boxedtext\">\n",
                "**Summary statistics: ** Some useful function calls for summary statistics for a \n",
                "single numerical variable are as follows:\n",
                "\n",
                "- `mean`\n",
                "- `median`\n",
                "- `sd`\n",
                "- `var`\n",
                "- `IQR`\n",
                "- `range`\n",
                "- `min`\n",
                "- `max`\n",
                "</div>\n",
                "\n",
                "We can also filter based on multiple criteria. Suppose we are interested in\n",
                "flights headed to San Francisco (SFO) in February:\n"
            ]
        },
        {
            "cell_type": "code",
            "execution_count": 43,
            "metadata": {},
            "outputs": [],
            "source": [
                "sfo_feb_flights <- nycflights %>%\n",
                "  filter(dest == \"SFO\", month == 2)"
            ]
        },
        {
            "cell_type": "markdown",
            "metadata": {},
            "source": [
                "Note that we can separate the conditions using commas if we want flights that\n",
                "are both headed to SFO **and** in February. If we are interested in either\n",
                "flights headed to SFO **or** in February we can use the `|` instead of the comma.\n",
                "\n",
                "1. Create a new data frame that includes flights headed to SFO in February, and save \n",
                "this data frame as `sfo_feb_flights`. How many flights meet these criteria? \n",
                "<ol>\n",
                "<li> >>68 </li> \n",
                "<li> 1345 </li> \n",
                "<li> 2286 </li> \n",
                "<li> 3563 </li>\n",
                "<li> 32735 </li>\n",
                "</ol>\n"
            ]
        },
        {
            "cell_type": "code",
            "execution_count": 44,
            "metadata": {},
            "outputs": [
                {
                    "data": {
                        "text/html": [
                            "68"
                        ],
                        "text/latex": [
                            "68"
                        ],
                        "text/markdown": [
                            "68"
                        ],
                        "text/plain": [
                            "[1] 68"
                        ]
                    },
                    "metadata": {},
                    "output_type": "display_data"
                },
                {
                    "data": {
                        "text/html": [
                            "<style>\n",
                            ".list-inline {list-style: none; margin:0; padding: 0}\n",
                            ".list-inline>li {display: inline-block}\n",
                            ".list-inline>li:not(:last-child)::after {content: \"\\00b7\"; padding: 0 .5ex}\n",
                            "</style>\n",
                            "<ol class=list-inline><li>'year'</li><li>'month'</li><li>'day'</li><li>'dep_time'</li><li>'dep_delay'</li><li>'arr_time'</li><li>'arr_delay'</li><li>'carrier'</li><li>'tailnum'</li><li>'flight'</li><li>'origin'</li><li>'dest'</li><li>'air_time'</li><li>'distance'</li><li>'hour'</li><li>'minute'</li></ol>\n"
                        ],
                        "text/latex": [
                            "\\begin{enumerate*}\n",
                            "\\item 'year'\n",
                            "\\item 'month'\n",
                            "\\item 'day'\n",
                            "\\item 'dep\\_time'\n",
                            "\\item 'dep\\_delay'\n",
                            "\\item 'arr\\_time'\n",
                            "\\item 'arr\\_delay'\n",
                            "\\item 'carrier'\n",
                            "\\item 'tailnum'\n",
                            "\\item 'flight'\n",
                            "\\item 'origin'\n",
                            "\\item 'dest'\n",
                            "\\item 'air\\_time'\n",
                            "\\item 'distance'\n",
                            "\\item 'hour'\n",
                            "\\item 'minute'\n",
                            "\\end{enumerate*}\n"
                        ],
                        "text/markdown": [
                            "1. 'year'\n",
                            "2. 'month'\n",
                            "3. 'day'\n",
                            "4. 'dep_time'\n",
                            "5. 'dep_delay'\n",
                            "6. 'arr_time'\n",
                            "7. 'arr_delay'\n",
                            "8. 'carrier'\n",
                            "9. 'tailnum'\n",
                            "10. 'flight'\n",
                            "11. 'origin'\n",
                            "12. 'dest'\n",
                            "13. 'air_time'\n",
                            "14. 'distance'\n",
                            "15. 'hour'\n",
                            "16. 'minute'\n",
                            "\n",
                            "\n"
                        ],
                        "text/plain": [
                            " [1] \"year\"      \"month\"     \"day\"       \"dep_time\"  \"dep_delay\" \"arr_time\" \n",
                            " [7] \"arr_delay\" \"carrier\"   \"tailnum\"   \"flight\"    \"origin\"    \"dest\"     \n",
                            "[13] \"air_time\"  \"distance\"  \"hour\"      \"minute\"   "
                        ]
                    },
                    "metadata": {},
                    "output_type": "display_data"
                }
            ],
            "source": [
                "sfo_feb_flights <- nycflights %>%\n",
                "  filter(dest == \"SFO\", month == 2)\n",
                "\n",
                "#sfo_feb_flights %>% summarise(n = n())\n",
                "nrow(sfo_feb_flights)\n",
                "\n",
                "names(sfo_feb_flights)"
            ]
        },
        {
            "cell_type": "markdown",
            "metadata": {},
            "source": [
                "2. Make a histogram and calculate appropriate summary statistics for **arrival** \n",
                "delays of `sfo_feb_flights`. Which of the following is false? \n",
                "<ol>\n",
                "<li> The distribution is unimodal. </li> \n",
                "<li> The distribution is right skewed. </li> \n",
                "<li> >>No flight is delayed more than 2 hours. </li> \n",
                "<li> The distribution has several extreme values on the right side. </li>\n",
                "<li> More than 50% of flights arrive on time or earlier than scheduled. </li>\n",
                "</ol>\n"
            ]
        },
        {
            "cell_type": "code",
            "execution_count": 45,
            "metadata": {},
            "outputs": [
                {
                    "name": "stderr",
                    "output_type": "stream",
                    "text": [
                        "`stat_bin()` using `bins = 30`. Pick better value with `binwidth`.\n",
                        "\n"
                    ]
                },
                {
                    "data": {
                        "image/png": "[encoded data removed]",
                        "text/plain": [
                            "plot without title"
                        ]
                    },
                    "metadata": {
                        "image/png": {
                            "height": 420,
                            "width": 420
                        }
                    },
                    "output_type": "display_data"
                }
            ],
            "source": [
                "ggplot(data=sfo_feb_flights, aes(x=arr_delay)) +geom_histogram()"
            ]
        },
        {
            "cell_type": "markdown",
            "metadata": {},
            "source": [
                "Another useful functionality is being able to quickly calculate summary \n",
                "statistics for various groups in your data frame. For example, we can modify the \n",
                "above command using the `group_by` function to get the same summary stats for \n",
                "each origin airport:\n"
            ]
        },
        {
            "cell_type": "code",
            "execution_count": 46,
            "metadata": {},
            "outputs": [
                {
                    "data": {
                        "text/html": [
                            "<table class=\"dataframe\">\n",
                            "<caption>A tibble: 3 × 4</caption>\n",
                            "<thead>\n",
                            "\t<tr><th scope=col>origin</th><th scope=col>mean_dd</th><th scope=col>sd_dd</th><th scope=col>n</th></tr>\n",
                            "\t<tr><th scope=col>&lt;chr&gt;</th><th scope=col>&lt;dbl&gt;</th><th scope=col>&lt;dbl&gt;</th><th scope=col>&lt;int&gt;</th></tr>\n",
                            "</thead>\n",
                            "<tbody>\n",
                            "\t<tr><td>EWR</td><td>13.365517</td><td>32.08492</td><td>145</td></tr>\n",
                            "\t<tr><td>JFK</td><td>15.396667</td><td>40.30535</td><td>300</td></tr>\n",
                            "\t<tr><td>LGA</td><td> 7.904494</td><td>32.18620</td><td>356</td></tr>\n",
                            "</tbody>\n",
                            "</table>\n"
                        ],
                        "text/latex": [
                            "A tibble: 3 × 4\n",
                            "\\begin{tabular}{llll}\n",
                            " origin & mean\\_dd & sd\\_dd & n\\\\\n",
                            " <chr> & <dbl> & <dbl> & <int>\\\\\n",
                            "\\hline\n",
                            "\t EWR & 13.365517 & 32.08492 & 145\\\\\n",
                            "\t JFK & 15.396667 & 40.30535 & 300\\\\\n",
                            "\t LGA &  7.904494 & 32.18620 & 356\\\\\n",
                            "\\end{tabular}\n"
                        ],
                        "text/markdown": [
                            "\n",
                            "A tibble: 3 × 4\n",
                            "\n",
                            "| origin &lt;chr&gt; | mean_dd &lt;dbl&gt; | sd_dd &lt;dbl&gt; | n &lt;int&gt; |\n",
                            "|---|---|---|---|\n",
                            "| EWR | 13.365517 | 32.08492 | 145 |\n",
                            "| JFK | 15.396667 | 40.30535 | 300 |\n",
                            "| LGA |  7.904494 | 32.18620 | 356 |\n",
                            "\n"
                        ],
                        "text/plain": [
                            "  origin mean_dd   sd_dd    n  \n",
                            "1 EWR    13.365517 32.08492 145\n",
                            "2 JFK    15.396667 40.30535 300\n",
                            "3 LGA     7.904494 32.18620 356"
                        ]
                    },
                    "metadata": {},
                    "output_type": "display_data"
                }
            ],
            "source": [
                "rdu_flights %>%\n",
                "  group_by(origin) %>%\n",
                "  summarise(mean_dd = mean(dep_delay), sd_dd = sd(dep_delay), n = n())"
            ]
        },
        {
            "cell_type": "markdown",
            "metadata": {},
            "source": [
                "Here, we first grouped the data by `origin`, and then calculated the summary \n",
                "statistics.\n",
                "\n",
                "3.  Calculate the median and interquartile range for `arr_delay`s of flights in the \n",
                "`sfo_feb_flights` data frame, grouped by carrier. Which carrier has the hights \n",
                "IQR of arrival delays? \n",
                "<ol>\n",
                "<li> American Airlines </li> \n",
                "<li> JetBlue Airways </li> \n",
                "<li> Virgin America </li> \n",
                "<li> >>Delta and United Airlines </li>\n",
                "<li> Frontier Airlines </li>\n",
                "</ol>\n"
            ]
        },
        {
            "cell_type": "code",
            "execution_count": 47,
            "metadata": {},
            "outputs": [
                {
                    "data": {
                        "text/html": [
                            "<table class=\"dataframe\">\n",
                            "<caption>A tibble: 5 × 3</caption>\n",
                            "<thead>\n",
                            "\t<tr><th scope=col>carrier</th><th scope=col>median_dd</th><th scope=col>IQR_dd</th></tr>\n",
                            "\t<tr><th scope=col>&lt;chr&gt;</th><th scope=col>&lt;dbl&gt;</th><th scope=col>&lt;dbl&gt;</th></tr>\n",
                            "</thead>\n",
                            "<tbody>\n",
                            "\t<tr><td>DL</td><td>-15.0</td><td>22.00</td></tr>\n",
                            "\t<tr><td>UA</td><td>-10.0</td><td>22.00</td></tr>\n",
                            "\t<tr><td>VX</td><td>-22.5</td><td>21.25</td></tr>\n",
                            "\t<tr><td>AA</td><td>  5.0</td><td>17.50</td></tr>\n",
                            "\t<tr><td>B6</td><td>-10.5</td><td>12.25</td></tr>\n",
                            "</tbody>\n",
                            "</table>\n"
                        ],
                        "text/latex": [
                            "A tibble: 5 × 3\n",
                            "\\begin{tabular}{lll}\n",
                            " carrier & median\\_dd & IQR\\_dd\\\\\n",
                            " <chr> & <dbl> & <dbl>\\\\\n",
                            "\\hline\n",
                            "\t DL & -15.0 & 22.00\\\\\n",
                            "\t UA & -10.0 & 22.00\\\\\n",
                            "\t VX & -22.5 & 21.25\\\\\n",
                            "\t AA &   5.0 & 17.50\\\\\n",
                            "\t B6 & -10.5 & 12.25\\\\\n",
                            "\\end{tabular}\n"
                        ],
                        "text/markdown": [
                            "\n",
                            "A tibble: 5 × 3\n",
                            "\n",
                            "| carrier &lt;chr&gt; | median_dd &lt;dbl&gt; | IQR_dd &lt;dbl&gt; |\n",
                            "|---|---|---|\n",
                            "| DL | -15.0 | 22.00 |\n",
                            "| UA | -10.0 | 22.00 |\n",
                            "| VX | -22.5 | 21.25 |\n",
                            "| AA |   5.0 | 17.50 |\n",
                            "| B6 | -10.5 | 12.25 |\n",
                            "\n"
                        ],
                        "text/plain": [
                            "  carrier median_dd IQR_dd\n",
                            "1 DL      -15.0     22.00 \n",
                            "2 UA      -10.0     22.00 \n",
                            "3 VX      -22.5     21.25 \n",
                            "4 AA        5.0     17.50 \n",
                            "5 B6      -10.5     12.25 "
                        ]
                    },
                    "metadata": {},
                    "output_type": "display_data"
                }
            ],
            "source": [
                "sfo_feb_flights %>% group_by(carrier) %>% \n",
                "summarise(median_dd = median(arr_delay), IQR_dd=IQR(arr_delay)) %>% arrange((desc(IQR_dd)))"
            ]
        },
        {
            "cell_type": "markdown",
            "metadata": {},
            "source": [
                "### Departure delays over months\n",
                "\n",
                "Which month would you expect to have the highest average delay departing \n",
                "from an NYC airport?\n",
                "\n",
                "Let's think about how we would answer this question:\n",
                "\n",
                "- First, calculate monthly averages for departure delays. With the new language\n",
                "we are learning, we need to\n",
                "    + `group_by` months, then\n",
                "    + `summarise` mean departure delays.\n",
                "- Then, we need to `arrange` these average delays in `desc`ending order\n"
            ]
        },
        {
            "cell_type": "code",
            "execution_count": 48,
            "metadata": {},
            "outputs": [
                {
                    "data": {
                        "text/html": [
                            "<table class=\"dataframe\">\n",
                            "<caption>A tibble: 12 × 2</caption>\n",
                            "<thead>\n",
                            "\t<tr><th scope=col>month</th><th scope=col>mean_dd</th></tr>\n",
                            "\t<tr><th scope=col>&lt;int&gt;</th><th scope=col>&lt;dbl&gt;</th></tr>\n",
                            "</thead>\n",
                            "<tbody>\n",
                            "\t<tr><td> 7</td><td>20.754559</td></tr>\n",
                            "\t<tr><td> 6</td><td>20.350293</td></tr>\n",
                            "\t<tr><td>12</td><td>17.368189</td></tr>\n",
                            "\t<tr><td> 4</td><td>14.554477</td></tr>\n",
                            "\t<tr><td> 3</td><td>13.517602</td></tr>\n",
                            "\t<tr><td> 5</td><td>13.264800</td></tr>\n",
                            "\t<tr><td> 8</td><td>12.619097</td></tr>\n",
                            "\t<tr><td> 2</td><td>10.687227</td></tr>\n",
                            "\t<tr><td> 1</td><td>10.233333</td></tr>\n",
                            "\t<tr><td> 9</td><td> 6.872436</td></tr>\n",
                            "\t<tr><td>11</td><td> 6.103183</td></tr>\n",
                            "\t<tr><td>10</td><td> 5.880374</td></tr>\n",
                            "</tbody>\n",
                            "</table>\n"
                        ],
                        "text/latex": [
                            "A tibble: 12 × 2\n",
                            "\\begin{tabular}{ll}\n",
                            " month & mean\\_dd\\\\\n",
                            " <int> & <dbl>\\\\\n",
                            "\\hline\n",
                            "\t  7 & 20.754559\\\\\n",
                            "\t  6 & 20.350293\\\\\n",
                            "\t 12 & 17.368189\\\\\n",
                            "\t  4 & 14.554477\\\\\n",
                            "\t  3 & 13.517602\\\\\n",
                            "\t  5 & 13.264800\\\\\n",
                            "\t  8 & 12.619097\\\\\n",
                            "\t  2 & 10.687227\\\\\n",
                            "\t  1 & 10.233333\\\\\n",
                            "\t  9 &  6.872436\\\\\n",
                            "\t 11 &  6.103183\\\\\n",
                            "\t 10 &  5.880374\\\\\n",
                            "\\end{tabular}\n"
                        ],
                        "text/markdown": [
                            "\n",
                            "A tibble: 12 × 2\n",
                            "\n",
                            "| month &lt;int&gt; | mean_dd &lt;dbl&gt; |\n",
                            "|---|---|\n",
                            "|  7 | 20.754559 |\n",
                            "|  6 | 20.350293 |\n",
                            "| 12 | 17.368189 |\n",
                            "|  4 | 14.554477 |\n",
                            "|  3 | 13.517602 |\n",
                            "|  5 | 13.264800 |\n",
                            "|  8 | 12.619097 |\n",
                            "|  2 | 10.687227 |\n",
                            "|  1 | 10.233333 |\n",
                            "|  9 |  6.872436 |\n",
                            "| 11 |  6.103183 |\n",
                            "| 10 |  5.880374 |\n",
                            "\n"
                        ],
                        "text/plain": [
                            "   month mean_dd  \n",
                            "1   7    20.754559\n",
                            "2   6    20.350293\n",
                            "3  12    17.368189\n",
                            "4   4    14.554477\n",
                            "5   3    13.517602\n",
                            "6   5    13.264800\n",
                            "7   8    12.619097\n",
                            "8   2    10.687227\n",
                            "9   1    10.233333\n",
                            "10  9     6.872436\n",
                            "11 11     6.103183\n",
                            "12 10     5.880374"
                        ]
                    },
                    "metadata": {},
                    "output_type": "display_data"
                }
            ],
            "source": [
                "nycflights %>%\n",
                "  group_by(month) %>%\n",
                "  summarise(mean_dd = mean(dep_delay)) %>%\n",
                "  arrange(desc(mean_dd))"
            ]
        },
        {
            "cell_type": "markdown",
            "metadata": {},
            "source": [
                "4.  Which month has the highest average departure delay from an NYC airport? \n",
                "<ol>\n",
                "<li> January </li> \n",
                "<li> March </li> \n",
                "<li> >>July </li> \n",
                "<li> October </li>\n",
                "<li> December </li>\n",
                "</ol>\n"
            ]
        },
        {
            "cell_type": "markdown",
            "metadata": {},
            "source": [
                "5.  Which month has the highest median departure delay from an NYC airport?\n",
                "<ol>\n",
                "<li> January </li> \n",
                "<li> March </li> \n",
                "<li> July </li> \n",
                "<li> October </li>\n",
                "<li> >>December </li>\n",
                "</ol>\n"
            ]
        },
        {
            "cell_type": "code",
            "execution_count": 49,
            "metadata": {},
            "outputs": [
                {
                    "data": {
                        "text/html": [
                            "<table class=\"dataframe\">\n",
                            "<caption>A tibble: 12 × 2</caption>\n",
                            "<thead>\n",
                            "\t<tr><th scope=col>month</th><th scope=col>median_dd</th></tr>\n",
                            "\t<tr><th scope=col>&lt;int&gt;</th><th scope=col>&lt;dbl&gt;</th></tr>\n",
                            "</thead>\n",
                            "<tbody>\n",
                            "\t<tr><td>12</td><td> 1</td></tr>\n",
                            "\t<tr><td> 6</td><td> 0</td></tr>\n",
                            "\t<tr><td> 7</td><td> 0</td></tr>\n",
                            "\t<tr><td> 3</td><td>-1</td></tr>\n",
                            "\t<tr><td> 5</td><td>-1</td></tr>\n",
                            "\t<tr><td> 8</td><td>-1</td></tr>\n",
                            "\t<tr><td> 1</td><td>-2</td></tr>\n",
                            "\t<tr><td> 2</td><td>-2</td></tr>\n",
                            "\t<tr><td> 4</td><td>-2</td></tr>\n",
                            "\t<tr><td>11</td><td>-2</td></tr>\n",
                            "\t<tr><td> 9</td><td>-3</td></tr>\n",
                            "\t<tr><td>10</td><td>-3</td></tr>\n",
                            "</tbody>\n",
                            "</table>\n"
                        ],
                        "text/latex": [
                            "A tibble: 12 × 2\n",
                            "\\begin{tabular}{ll}\n",
                            " month & median\\_dd\\\\\n",
                            " <int> & <dbl>\\\\\n",
                            "\\hline\n",
                            "\t 12 &  1\\\\\n",
                            "\t  6 &  0\\\\\n",
                            "\t  7 &  0\\\\\n",
                            "\t  3 & -1\\\\\n",
                            "\t  5 & -1\\\\\n",
                            "\t  8 & -1\\\\\n",
                            "\t  1 & -2\\\\\n",
                            "\t  2 & -2\\\\\n",
                            "\t  4 & -2\\\\\n",
                            "\t 11 & -2\\\\\n",
                            "\t  9 & -3\\\\\n",
                            "\t 10 & -3\\\\\n",
                            "\\end{tabular}\n"
                        ],
                        "text/markdown": [
                            "\n",
                            "A tibble: 12 × 2\n",
                            "\n",
                            "| month &lt;int&gt; | median_dd &lt;dbl&gt; |\n",
                            "|---|---|\n",
                            "| 12 |  1 |\n",
                            "|  6 |  0 |\n",
                            "|  7 |  0 |\n",
                            "|  3 | -1 |\n",
                            "|  5 | -1 |\n",
                            "|  8 | -1 |\n",
                            "|  1 | -2 |\n",
                            "|  2 | -2 |\n",
                            "|  4 | -2 |\n",
                            "| 11 | -2 |\n",
                            "|  9 | -3 |\n",
                            "| 10 | -3 |\n",
                            "\n"
                        ],
                        "text/plain": [
                            "   month median_dd\n",
                            "1  12     1       \n",
                            "2   6     0       \n",
                            "3   7     0       \n",
                            "4   3    -1       \n",
                            "5   5    -1       \n",
                            "6   8    -1       \n",
                            "7   1    -2       \n",
                            "8   2    -2       \n",
                            "9   4    -2       \n",
                            "10 11    -2       \n",
                            "11  9    -3       \n",
                            "12 10    -3       "
                        ]
                    },
                    "metadata": {},
                    "output_type": "display_data"
                }
            ],
            "source": [
                "nycflights %>%\n",
                "  group_by(month) %>%\n",
                "  summarise(median_dd = median(dep_delay)) %>%\n",
                "  arrange(desc(median_dd))"
            ]
        },
        {
            "cell_type": "markdown",
            "metadata": {},
            "source": [
                "6.  Is the mean or the median a more reliable measure for deciding which month(s) to \n",
                "avoid flying if you really dislike delayed flights, and why? \n",
                "<ol>\n",
                "<li> Mean would be more reliable as it gives us the true average. </li> \n",
                "<li> Mean would be more reliable as the distribution of delays is symmetric. </li> \n",
                "<li> >>Median would be more reliable as the distribution of delays is skewed. </li> \n",
                "<li> Median would be more reliable as the distribution of delays is symmetric. </li>\n",
                "<li> Both give us useful information. </li>\n",
                "</ol>\n",
                "\n",
                "\n",
                "We can also visualize the distributions of departure delays across months using \n",
                "side-by-side box plots:\n"
            ]
        },
        {
            "cell_type": "code",
            "execution_count": 50,
            "metadata": {},
            "outputs": [
                {
                    "data": {
                        "image/png": "[encoded data removed]",
                        "text/plain": [
                            "plot without title"
                        ]
                    },
                    "metadata": {
                        "image/png": {
                            "height": 420,
                            "width": 420
                        }
                    },
                    "output_type": "display_data"
                }
            ],
            "source": [
                "ggplot(nycflights, aes(x = factor(month), y = dep_delay)) +\n",
                "  geom_boxplot()"
            ]
        },
        {
            "cell_type": "markdown",
            "metadata": {},
            "source": [
                "There is some new syntax here: We want departure delays on the y-axis and the\n",
                "months on the x-axis to produce side-by-side box plots. Side-by-side box plots\n",
                "require a categorical variable on the x-axis, however in the data frame `month` is \n",
                "stored as a numerical variable (numbers 1 - 12). Therefore we can force R to treat\n",
                "this variable as categorical, what R calls a **factor**, variable with \n",
                "`factor(month)`.\n",
                "\n",
                "### On time departure rate for NYC airports\n",
                "\n",
                "Suppose you will be flying out of NYC and want to know which of the \n",
                "three major NYC airports has the best on time departure rate of departing flights. \n",
                "Suppose also that for you a flight that is delayed for less than 5 minutes is \n",
                "basically \"on time\". You consider any flight delayed for 5 minutes of more to be \n",
                "\"delayed\".\n",
                "\n",
                "In order to determine which airport has the best on time departure rate, \n",
                "we need to \n",
                "\n",
                "- first classify each flight as \"on time\" or \"delayed\",\n",
                "- then group flights by origin airport,\n",
                "- then calculate on time departure rates for each origin airport,\n",
                "- and finally arrange the airports in descending order for on time departure\n",
                "percentage.\n",
                "\n",
                "Let's start with classifying each flight as \"on time\" or \"delayed\" by\n",
                "creating a new variable with the `mutate` function.\n"
            ]
        },
        {
            "cell_type": "code",
            "execution_count": 51,
            "metadata": {},
            "outputs": [],
            "source": [
                "nycflights <- nycflights %>%\n",
                "  mutate(dep_type = ifelse(dep_delay < 5, \"on time\", \"delayed\"))"
            ]
        },
        {
            "cell_type": "markdown",
            "metadata": {},
            "source": [
                "The first argument in the `mutate` function is the name of the new variable\n",
                "we want to create, in this case `dep_type`. Then if `dep_delay < 5` we classify \n",
                "the flight as `\"on time\"` and `\"delayed\"` if not, i.e. if the flight is delayed \n",
                "for 5 or more minutes.\n",
                "\n",
                "Note that we are also overwriting the `nycflights` data frame with the new \n",
                "version of this data frame that includes the new `dep_type` variable.\n",
                "\n",
                "We can handle all the remaining steps in one code chunk:\n"
            ]
        },
        {
            "cell_type": "code",
            "execution_count": 52,
            "metadata": {},
            "outputs": [
                {
                    "data": {
                        "text/html": [
                            "<table class=\"dataframe\">\n",
                            "<caption>A tibble: 3 × 2</caption>\n",
                            "<thead>\n",
                            "\t<tr><th scope=col>origin</th><th scope=col>ot_dep_rate</th></tr>\n",
                            "\t<tr><th scope=col>&lt;chr&gt;</th><th scope=col>&lt;dbl&gt;</th></tr>\n",
                            "</thead>\n",
                            "<tbody>\n",
                            "\t<tr><td>LGA</td><td>0.7279229</td></tr>\n",
                            "\t<tr><td>JFK</td><td>0.6935854</td></tr>\n",
                            "\t<tr><td>EWR</td><td>0.6369892</td></tr>\n",
                            "</tbody>\n",
                            "</table>\n"
                        ],
                        "text/latex": [
                            "A tibble: 3 × 2\n",
                            "\\begin{tabular}{ll}\n",
                            " origin & ot\\_dep\\_rate\\\\\n",
                            " <chr> & <dbl>\\\\\n",
                            "\\hline\n",
                            "\t LGA & 0.7279229\\\\\n",
                            "\t JFK & 0.6935854\\\\\n",
                            "\t EWR & 0.6369892\\\\\n",
                            "\\end{tabular}\n"
                        ],
                        "text/markdown": [
                            "\n",
                            "A tibble: 3 × 2\n",
                            "\n",
                            "| origin &lt;chr&gt; | ot_dep_rate &lt;dbl&gt; |\n",
                            "|---|---|\n",
                            "| LGA | 0.7279229 |\n",
                            "| JFK | 0.6935854 |\n",
                            "| EWR | 0.6369892 |\n",
                            "\n"
                        ],
                        "text/plain": [
                            "  origin ot_dep_rate\n",
                            "1 LGA    0.7279229  \n",
                            "2 JFK    0.6935854  \n",
                            "3 EWR    0.6369892  "
                        ]
                    },
                    "metadata": {},
                    "output_type": "display_data"
                }
            ],
            "source": [
                "nycflights %>%\n",
                "  group_by(origin) %>%\n",
                "  summarise(ot_dep_rate = sum(dep_type == \"on time\") / n()) %>%\n",
                "  arrange(desc(ot_dep_rate))"
            ]
        },
        {
            "cell_type": "markdown",
            "metadata": {},
            "source": [
                "**The summarise step is telling R to count up how many records of the currently found group are on time - sum(dep_type == \"on time”) - and divide that result by the total number of elements in the currently found group - n() - to get a proportion, then to store the answer in a new variable called ot_dep_rate.**\n",
                "\n",
                "7.  If you were selecting an airport simply based on on time departure percentage, \n",
                "which NYC airport would you choose to fly out of? \n",
                "<ol>\n",
                "<li> EWR </li> \n",
                "<li> JFK </li> \n",
                "<li> >>LGA </li> \n",
                "</ol>\n"
            ]
        },
        {
            "cell_type": "markdown",
            "metadata": {},
            "source": [
                "We can also visualize the distribution of on on time departure rate across \n",
                "the three airports using a segmented bar plot.\n"
            ]
        },
        {
            "cell_type": "code",
            "execution_count": 53,
            "metadata": {},
            "outputs": [
                {
                    "data": {
                        "image/png": "[encoded data removed]",
                        "text/plain": [
                            "plot without title"
                        ]
                    },
                    "metadata": {
                        "image/png": {
                            "height": 420,
                            "width": 420
                        }
                    },
                    "output_type": "display_data"
                }
            ],
            "source": [
                "ggplot(data = nycflights, aes(x = origin, fill = dep_type)) +\n",
                "  geom_bar()"
            ]
        },
        {
            "cell_type": "markdown",
            "metadata": {},
            "source": [
                "8.  Mutate the data frame so that it includes a new variable that contains the \n",
                "average speed, `avg_speed` traveled by the plane for each flight (in mph). What is \n",
                "the tail number of the plane with the fastest `avg_speed`? **Hint:** Average speed \n",
                "can be calculated as distance divided by number of hours of travel, and note that \n",
                "`air_time` is given in minutes. If you just want to show the `avg_speed` and \n",
                "`tailnum` and none of the other variables, use the select function at the end of your \n",
                "pipe to select just these two variables with `select(avg_speed, tailnum)`. You can \n",
                "Google this tail number to find out more about the aircraft. \n",
                "<ol>\n",
                "<li> >>N666DN </li> \n",
                "<li> N755US </li> \n",
                "<li> N779JB </li> \n",
                "<li> N947UW </li> \n",
                "<li> N959UW </li> \n",
                "</ol>\n"
            ]
        },
        {
            "cell_type": "code",
            "execution_count": 54,
            "metadata": {},
            "outputs": [],
            "source": [
                "nycflights <- nycflights %>%\n",
                "    mutate(avg_speed = distance*60/air_time)"
            ]
        },
        {
            "cell_type": "code",
            "execution_count": 57,
            "metadata": {},
            "outputs": [
                {
                    "data": {
                        "text/html": [
                            "<table class=\"dataframe\">\n",
                            "<caption>A tibble: 3 × 2</caption>\n",
                            "<thead>\n",
                            "\t<tr><th scope=col>avg_speed</th><th scope=col>tailnum</th></tr>\n",
                            "\t<tr><th scope=col>&lt;dbl&gt;</th><th scope=col>&lt;chr&gt;</th></tr>\n",
                            "</thead>\n",
                            "<tbody>\n",
                            "\t<tr><td>703.3846</td><td>N666DN</td></tr>\n",
                            "\t<tr><td>557.4419</td><td>N779JB</td></tr>\n",
                            "\t<tr><td>554.2197</td><td>N571JB</td></tr>\n",
                            "</tbody>\n",
                            "</table>\n"
                        ],
                        "text/latex": [
                            "A tibble: 3 × 2\n",
                            "\\begin{tabular}{ll}\n",
                            " avg\\_speed & tailnum\\\\\n",
                            " <dbl> & <chr>\\\\\n",
                            "\\hline\n",
                            "\t 703.3846 & N666DN\\\\\n",
                            "\t 557.4419 & N779JB\\\\\n",
                            "\t 554.2197 & N571JB\\\\\n",
                            "\\end{tabular}\n"
                        ],
                        "text/markdown": [
                            "\n",
                            "A tibble: 3 × 2\n",
                            "\n",
                            "| avg_speed &lt;dbl&gt; | tailnum &lt;chr&gt; |\n",
                            "|---|---|\n",
                            "| 703.3846 | N666DN |\n",
                            "| 557.4419 | N779JB |\n",
                            "| 554.2197 | N571JB |\n",
                            "\n"
                        ],
                        "text/plain": [
                            "  avg_speed tailnum\n",
                            "1 703.3846  N666DN \n",
                            "2 557.4419  N779JB \n",
                            "3 554.2197  N571JB "
                        ]
                    },
                    "metadata": {},
                    "output_type": "display_data"
                }
            ],
            "source": [
                "avgnycflights <- nycflights %>%\n",
                "  arrange(desc(avg_speed)) %>%\n",
                "  select(avg_speed, tailnum)\n",
                "\n",
                "head(avgnycflights,3)"
            ]
        },
        {
            "cell_type": "markdown",
            "metadata": {},
            "source": [
                "9.  Make a scatterplot of `avg_speed` vs. `distance`. Which of the following is true \n",
                "about the relationship between average speed and distance. \n",
                "<ol>\n",
                "<li> As distance increases the average speed of flights decreases. </li> \n",
                "<li> The relationship is linear. </li> \n",
                "<li> >>There is an overall postive association between distance and average speed.</li> \n",
                "<li> There are no outliers. </li> \n",
                "<li> The distribution of distances are uniform over 0 to 5000 miles. </li> \n",
                "</ol>\n"
            ]
        },
        {
            "cell_type": "code",
            "execution_count": 59,
            "metadata": {},
            "outputs": [
                {
                    "data": {
                        "image/png": "[encoded data removed]",
                        "text/plain": [
                            "plot without title"
                        ]
                    },
                    "metadata": {
                        "image/png": {
                            "height": 420,
                            "width": 420
                        }
                    },
                    "output_type": "display_data"
                }
            ],
            "source": [
                "ggplot(data=nycflights, aes(x=distance,y=avg_speed))+geom_point()"
            ]
        },
        {
            "cell_type": "markdown",
            "metadata": {},
            "source": [
                "10.  Suppose you define a flight to be \"on time\" if it gets to the destination on \n",
                "time or earlier than expected, regardless of any departure delays. Mutate the data \n",
                "frame to create a new variable called `arr_type` with levels `\"on time\"` and \n",
                "`\"delayed\"` based on this definition. Then, determine the on time arrival percentage \n",
                "based on whether the flight departed on time or not. What proportion of flights  that \n",
                "were `\"delayed\"` departing arrive `\"on time\"`? \n",
                "[NUMERIC INPUT]\n"
            ]
        },
        {
            "cell_type": "code",
            "execution_count": 63,
            "metadata": {},
            "outputs": [],
            "source": [
                "nycflights <- nycflights %>%\n",
                "    mutate(arr_type = ifelse(arr_delay>0, \"delayed\", \"on time\")) %>%"
            ]
        },
        {
            "cell_type": "code",
            "execution_count": 70,
            "metadata": {},
            "outputs": [
                {
                    "data": {
                        "text/plain": [
                            "         \n",
                            "          delayed on time\n",
                            "  delayed    8453    5009\n",
                            "  on time    1898   17375"
                        ]
                    },
                    "metadata": {},
                    "output_type": "display_data"
                }
            ],
            "source": [
                "table(nycflights$arr_type, nycflights$dep_type)"
            ]
        },
        {
            "cell_type": "code",
            "execution_count": 72,
            "metadata": {},
            "outputs": [
                {
                    "data": {
                        "text/html": [
                            "<table class=\"dataframe\">\n",
                            "<caption>A tibble: 1 × 1</caption>\n",
                            "<thead>\n",
                            "\t<tr><th scope=col>prop_ot_dep</th></tr>\n",
                            "\t<tr><th scope=col>&lt;dbl&gt;</th></tr>\n",
                            "</thead>\n",
                            "<tbody>\n",
                            "\t<tr><td>0.05798075</td></tr>\n",
                            "</tbody>\n",
                            "</table>\n"
                        ],
                        "text/latex": [
                            "A tibble: 1 × 1\n",
                            "\\begin{tabular}{l}\n",
                            " prop\\_ot\\_dep\\\\\n",
                            " <dbl>\\\\\n",
                            "\\hline\n",
                            "\t 0.05798075\\\\\n",
                            "\\end{tabular}\n"
                        ],
                        "text/markdown": [
                            "\n",
                            "A tibble: 1 × 1\n",
                            "\n",
                            "| prop_ot_dep &lt;dbl&gt; |\n",
                            "|---|\n",
                            "| 0.05798075 |\n",
                            "\n"
                        ],
                        "text/plain": [
                            "  prop_ot_dep\n",
                            "1 0.05798075 "
                        ]
                    },
                    "metadata": {},
                    "output_type": "display_data"
                }
            ],
            "source": [
                "nycflights %>%\n",
                "summarise(prop_ot_dep = sum(arr_type ==\"on time\" & dep_type == \"delayed\")/n())"
            ]
        }
    ],
    "metadata": {
        "anaconda-cloud": "",
        "kernelspec": {
            "display_name": "R",
            "langauge": "R",
            "language": "R",
            "name": "ir"
        },
        "language_info": {
            "codemirror_mode": "r",
            "file_extension": ".r",
            "mimetype": "text/x-r-source",
            "name": "R",
            "pygments_lexer": "r",
            "version": "4.1.2"
        }
    },
    "nbformat": 4,
    "nbformat_minor": 1
}
