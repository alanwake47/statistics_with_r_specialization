{
    "cells": [
        {
            "cell_type": "markdown",
            "metadata": {},
            "source": [
                "<div id=\"instructions\">\n",
                "This is an unmarked optional tutorial to show the kind of thinking that goes into\n",
                "an exploratory data analysis\n",
                "</div>\n",
                "\n",
                "The goal of this tutorial document is to walk through some of the common issues encountered\n",
                "in the early stages of an exploratory analysis on a set of data. It gives examples of common problem areas in:\n",
                "\n",
                "* reading in data\n",
                "* dealing with blanks\n",
                "* dealing with factors\n",
                "\n",
                "This data is a modified version of data from the New Zealand Election Survey, deliberately modified to introduce problems that occur naturally in many data sets.\n",
                "\n",
                "## Step One. Learn something about the data set.\n",
                "\n",
                "In this case, the New Zealand Election Survey takes place every three years as a postal survey of a sample of registered electors. Some sampled electors were part of a sample panel of people surveyed at the previous election as part of a longitudinal study, others were randomly chosen from the electoral roll. Those electors that were part of the longitudinal panel group were randomly selected in previous elections. \n",
                "\n",
                "As well as survey results, the data set includes information from the electoral roll, and weighting values for adjusting results. The full NZES data set has been reduced to a selected group of variables, making 3101 observations of 107 variables.\n",
                "\n",
                "## Step Two. Contemplate some questions.\n",
                "\n",
                "Examining the codebook (or in this case the appendix at the end of the document to check out the variables).\n",
                "\n",
                "For example, we might decide that since New Zealand is a Mixed Member Proportional voting system, where people get to vote for both an electorate (local) representative and a nationwide political party, that it would be interesting to look at strategic voting under conditions where there are many political parties to choose from. We identify some relevant variables of interest in the data, and investigate the nature of the individual variables before we explore their interactions. The kind of variables they are is going to shape our question. \n",
                "\n",
                "### Read in the data\n",
                "\n",
                "There are many different kinds of data files in the world. Each one has its own issues when being read in by R. In this case the data is saved as a .RData file, which can be read in by using the `load()` command.\n",
                "\n",
                "As with most reading in file commands, inside the parentheses needs to go a piece of text, in quotes, that is the path to the file from the working directory (the working directory is the folder that R is currently paying attention to). The easiest way to get a R Markdown (Rmd) Document and console cooperating about this is to place the file with the data in it in the same folder as the R Markdown (Rmd) Document, open the R Markdown (Rmd) document in RStudio so we are looking at the contents of the document in the editing window, then in the RStudio Session menu, use the __Set Working Directory - To Source File Location__ command to make a common starting point. Then the code in the R Markdown (Rmd) document will use the same working space regardless of whether we knit the document or run code chunks in the Console. In this case, if the `nzes2011.RData` file is in the same folder as the R Markdown (Rmd) document, hence it can be read into R with the following command:\n"
            ]
        },
        {
            "cell_type": "code",
            "execution_count": 1,
            "metadata": {},
            "outputs": [],
            "source": [
                "load(\"selected_nzes2011.Rdata\")"
            ]
        },
        {
            "cell_type": "markdown",
            "metadata": {},
            "source": [
                "We also want to load packages that have functions in them we want to use. For this particular analysis we will only need the `dplyr` package, but for your project you will also likely need other packages as well, e.g. `ggplot2`.\n",
                "\n"
            ]
        },
        {
            "cell_type": "code",
            "execution_count": 3,
            "metadata": {},
            "outputs": [],
            "source": [
                "library(dplyr)"
            ]
        },
        {
            "cell_type": "markdown",
            "metadata": {},
            "source": [
                "## Step Three. Prepare for the first question\n",
                "\n",
                "As a first question, we might be interested in exploring the relationship between the party the person voted for, the party that was their favourite, and if they believed that their vote makes a difference -- focusing on the question that are people who believe their vote makes a difference more likely to strategically vote for a party not their favourite. To achieve this, we familiarise ourselves with the variables `jpartyvote`, `jdiffvoting`, and `_singlefav`. First we check the codebook (see Appendix), then we explore the data.\n",
                "\n",
                "Viewing the entire dataset in the Data Viewer window by clicking on the data frame's name in the Environment or running the `View()` command in the Console can be ineffective since the Data Viewer only shows the first 100 columns of the data frame. \n",
                "\n",
                "Using the `str()` command on the entire dataset can also be equally ineffective. However we can subset the columns of interest and take a closer look at them. We can use the `dplyr` chain to select the variables of interest and investigate only their structure by adding `str()` at the end of the chain:\n"
            ]
        },
        {
            "cell_type": "code",
            "execution_count": 15,
            "metadata": {},
            "outputs": [
                {
                    "ename": "ERROR",
                    "evalue": "Error in parse(text = x, srcfile = src): <text>:2:35: unexpected input\n1: selected_nzes2011 %>% \n2:   select(jpartyvote, jdiffvoting, _\n                                     ^\n",
                    "output_type": "error",
                    "traceback": [
                        "Error in parse(text = x, srcfile = src): <text>:2:35: unexpected input\n1: selected_nzes2011 %>% \n2:   select(jpartyvote, jdiffvoting, _\n                                     ^\nTraceback:\n"
                    ]
                }
            ],
            "source": [
                "selected_nzes2011 %>% \n",
                "  select(jpartyvote, jdiffvoting, _singlefav) %>% \n",
                "  str()"
            ]
        },
        {
            "cell_type": "markdown",
            "metadata": {},
            "source": [
                "If we try to run that line, we will get an error message about unexpected input or missing object.\n",
                "\n",
                "We next need to diagnose where the problem lies -- in the R code or in the data? The best way to troubleshoot this issue is to run each line of the `dplyr` chain one by one.\n"
            ]
        },
        {
            "cell_type": "code",
            "execution_count": null,
            "metadata": {},
            "outputs": [],
            "source": [
                "selected_nzes2011"
            ]
        },
        {
            "cell_type": "markdown",
            "metadata": {},
            "source": [
                "The first line runs without any erros, but the second line gives an error\n",
                "\n"
            ]
        },
        {
            "cell_type": "code",
            "execution_count": 17,
            "metadata": {},
            "outputs": [
                {
                    "ename": "ERROR",
                    "evalue": "Error in parse(text = x, srcfile = src): <text>:2:35: unexpected input\n1: selected_nzes2011 %>% \n2:   select(jpartyvote, jdiffvoting, _\n                                     ^\n",
                    "output_type": "error",
                    "traceback": [
                        "Error in parse(text = x, srcfile = src): <text>:2:35: unexpected input\n1: selected_nzes2011 %>% \n2:   select(jpartyvote, jdiffvoting, _\n                                     ^\nTraceback:\n"
                    ]
                }
            ],
            "source": [
                "selected_nzes2011 %>% \n",
                "  select(jpartyvote, jdiffvoting, _singlefav)"
            ]
        },
        {
            "cell_type": "markdown",
            "metadata": {},
            "source": [
                "We know that `select()` is a valid `dplyr` function, so that cannot be the problem. This means the problem might be the variable names. The issue is that R has rules about what variable names are legal (e.g. no spaces, starting with a letter) and when data is loaded, R will often fix variable names to make them legal. This happened to the `_singlefav` at the time of loading the data.\n",
                "\n",
                "We could check this by looking through every single variable name in the data with the `names()` command.\n"
            ]
        },
        {
            "cell_type": "code",
            "execution_count": 18,
            "metadata": {},
            "outputs": [
                {
                    "data": {
                        "text/html": [
                            "<style>\n",
                            ".list-inline {list-style: none; margin:0; padding: 0}\n",
                            ".list-inline>li {display: inline-block}\n",
                            ".list-inline>li:not(:last-child)::after {content: \"\\00b7\"; padding: 0 .5ex}\n",
                            "</style>\n",
                            "<ol class=list-inline><li>'Jelect'</li><li>'jblogel'</li><li>'jnewspaper'</li><li>'jnatradio'</li><li>'jtalkback'</li><li>'jdiscussp'</li><li>'jrallies'</li><li>'jpersuade'</li><li>'jpcmoney'</li><li>'jpcposter'</li><li>'jlablike'</li><li>'jnatlike'</li><li>'jgrnlike'</li><li>'jnzflike'</li><li>'jactlike'</li><li>'junflike'</li><li>'jmaolike'</li><li>'jmnplike'</li><li>'jmostlike'</li><li>'jmostlikex'</li><li>'jrepublic'</li><li>'jsphealth'</li><li>'jspedu'</li><li>'jspunemp'</li><li>'jspdefence'</li><li>'jspsuper'</li><li>'jspbusind'</li><li>'jsppolice'</li><li>'jspwelfare'</li><li>'jspenviro'</li><li>'jgovpdk'</li><li>'jgovplab'</li><li>'jgovpnat'</li><li>'jgovpgrn'</li><li>'jgovpnzf'</li><li>'jgovpact'</li><li>'jgovunf'</li><li>'jgovpmao'</li><li>'jgovpmnp'</li><li>'jnevervoteno'</li><li>'jnevervotelab'</li><li>'jnevervotenat'</li><li>'jnevervotegrn'</li><li>'jnevervotenzf'</li><li>'jnevervoteact'</li><li>'jnevervoteunf'</li><li>'jnevervotemao'</li><li>'jnevervotemnp'</li><li>'jnevervoteoth'</li><li>'jnevervoteothx'</li><li>'jfirstpx'</li><li>'jsecondp'</li><li>'jage'</li><li>'jlanguage'</li><li>'jlanguagex'</li><li>'jrollsex'</li><li>'jhqual'</li><li>'jwkft'</li><li>'jwkpt'</li><li>'jwkun'</li><li>'jwkret'</li><li>'jwkdis'</li><li>'jwksch'</li><li>'jwkunpo'</li><li>'jwkunpi'</li><li>'jhhincome'</li><li>'jhhadults'</li><li>'jhhchn'</li><li>'jmarital'</li><li>'r_jind'</li><li>'jlablr'</li><li>'jnatlr'</li><li>'jgrnlr'</li><li>'jnzflr'</li><li>'jactlr'</li><li>'junflr'</li><li>'jmaolr'</li><li>'jmnplr'</li><li>'jslflr'</li><li>'jrelservices'</li><li>'jrelnone'</li><li>'jrelang'</li><li>'jrelpres'</li><li>'jrelcath'</li><li>'jrelmeth'</li><li>'jrelbap'</li><li>'jrellat'</li><li>'jrelrat'</li><li>'jrelfun'</li><li>'jrelothc'</li><li>'jrelnonc'</li><li>'jreligionx'</li><li>'jreligiousity'</li><li>'jethnicity_e'</li><li>'jethnicity_m'</li><li>'jethnicity_p'</li><li>'jethnicity_a'</li><li>'jethnicity_o'</li><li>'jethnicityx'</li><li>'jethnicmost'</li><li>'jethnicmostx'</li><li>'jpartyvote'</li><li>'jelecvote'</li><li>'njptyvote'</li><li>'njelecvote'</li><li>'jdiffvoting'</li><li>'X_singlefav'</li></ol>\n"
                        ],
                        "text/latex": [
                            "\\begin{enumerate*}\n",
                            "\\item 'Jelect'\n",
                            "\\item 'jblogel'\n",
                            "\\item 'jnewspaper'\n",
                            "\\item 'jnatradio'\n",
                            "\\item 'jtalkback'\n",
                            "\\item 'jdiscussp'\n",
                            "\\item 'jrallies'\n",
                            "\\item 'jpersuade'\n",
                            "\\item 'jpcmoney'\n",
                            "\\item 'jpcposter'\n",
                            "\\item 'jlablike'\n",
                            "\\item 'jnatlike'\n",
                            "\\item 'jgrnlike'\n",
                            "\\item 'jnzflike'\n",
                            "\\item 'jactlike'\n",
                            "\\item 'junflike'\n",
                            "\\item 'jmaolike'\n",
                            "\\item 'jmnplike'\n",
                            "\\item 'jmostlike'\n",
                            "\\item 'jmostlikex'\n",
                            "\\item 'jrepublic'\n",
                            "\\item 'jsphealth'\n",
                            "\\item 'jspedu'\n",
                            "\\item 'jspunemp'\n",
                            "\\item 'jspdefence'\n",
                            "\\item 'jspsuper'\n",
                            "\\item 'jspbusind'\n",
                            "\\item 'jsppolice'\n",
                            "\\item 'jspwelfare'\n",
                            "\\item 'jspenviro'\n",
                            "\\item 'jgovpdk'\n",
                            "\\item 'jgovplab'\n",
                            "\\item 'jgovpnat'\n",
                            "\\item 'jgovpgrn'\n",
                            "\\item 'jgovpnzf'\n",
                            "\\item 'jgovpact'\n",
                            "\\item 'jgovunf'\n",
                            "\\item 'jgovpmao'\n",
                            "\\item 'jgovpmnp'\n",
                            "\\item 'jnevervoteno'\n",
                            "\\item 'jnevervotelab'\n",
                            "\\item 'jnevervotenat'\n",
                            "\\item 'jnevervotegrn'\n",
                            "\\item 'jnevervotenzf'\n",
                            "\\item 'jnevervoteact'\n",
                            "\\item 'jnevervoteunf'\n",
                            "\\item 'jnevervotemao'\n",
                            "\\item 'jnevervotemnp'\n",
                            "\\item 'jnevervoteoth'\n",
                            "\\item 'jnevervoteothx'\n",
                            "\\item 'jfirstpx'\n",
                            "\\item 'jsecondp'\n",
                            "\\item 'jage'\n",
                            "\\item 'jlanguage'\n",
                            "\\item 'jlanguagex'\n",
                            "\\item 'jrollsex'\n",
                            "\\item 'jhqual'\n",
                            "\\item 'jwkft'\n",
                            "\\item 'jwkpt'\n",
                            "\\item 'jwkun'\n",
                            "\\item 'jwkret'\n",
                            "\\item 'jwkdis'\n",
                            "\\item 'jwksch'\n",
                            "\\item 'jwkunpo'\n",
                            "\\item 'jwkunpi'\n",
                            "\\item 'jhhincome'\n",
                            "\\item 'jhhadults'\n",
                            "\\item 'jhhchn'\n",
                            "\\item 'jmarital'\n",
                            "\\item 'r\\_jind'\n",
                            "\\item 'jlablr'\n",
                            "\\item 'jnatlr'\n",
                            "\\item 'jgrnlr'\n",
                            "\\item 'jnzflr'\n",
                            "\\item 'jactlr'\n",
                            "\\item 'junflr'\n",
                            "\\item 'jmaolr'\n",
                            "\\item 'jmnplr'\n",
                            "\\item 'jslflr'\n",
                            "\\item 'jrelservices'\n",
                            "\\item 'jrelnone'\n",
                            "\\item 'jrelang'\n",
                            "\\item 'jrelpres'\n",
                            "\\item 'jrelcath'\n",
                            "\\item 'jrelmeth'\n",
                            "\\item 'jrelbap'\n",
                            "\\item 'jrellat'\n",
                            "\\item 'jrelrat'\n",
                            "\\item 'jrelfun'\n",
                            "\\item 'jrelothc'\n",
                            "\\item 'jrelnonc'\n",
                            "\\item 'jreligionx'\n",
                            "\\item 'jreligiousity'\n",
                            "\\item 'jethnicity\\_e'\n",
                            "\\item 'jethnicity\\_m'\n",
                            "\\item 'jethnicity\\_p'\n",
                            "\\item 'jethnicity\\_a'\n",
                            "\\item 'jethnicity\\_o'\n",
                            "\\item 'jethnicityx'\n",
                            "\\item 'jethnicmost'\n",
                            "\\item 'jethnicmostx'\n",
                            "\\item 'jpartyvote'\n",
                            "\\item 'jelecvote'\n",
                            "\\item 'njptyvote'\n",
                            "\\item 'njelecvote'\n",
                            "\\item 'jdiffvoting'\n",
                            "\\item 'X\\_singlefav'\n",
                            "\\end{enumerate*}\n"
                        ],
                        "text/markdown": [
                            "1. 'Jelect'\n",
                            "2. 'jblogel'\n",
                            "3. 'jnewspaper'\n",
                            "4. 'jnatradio'\n",
                            "5. 'jtalkback'\n",
                            "6. 'jdiscussp'\n",
                            "7. 'jrallies'\n",
                            "8. 'jpersuade'\n",
                            "9. 'jpcmoney'\n",
                            "10. 'jpcposter'\n",
                            "11. 'jlablike'\n",
                            "12. 'jnatlike'\n",
                            "13. 'jgrnlike'\n",
                            "14. 'jnzflike'\n",
                            "15. 'jactlike'\n",
                            "16. 'junflike'\n",
                            "17. 'jmaolike'\n",
                            "18. 'jmnplike'\n",
                            "19. 'jmostlike'\n",
                            "20. 'jmostlikex'\n",
                            "21. 'jrepublic'\n",
                            "22. 'jsphealth'\n",
                            "23. 'jspedu'\n",
                            "24. 'jspunemp'\n",
                            "25. 'jspdefence'\n",
                            "26. 'jspsuper'\n",
                            "27. 'jspbusind'\n",
                            "28. 'jsppolice'\n",
                            "29. 'jspwelfare'\n",
                            "30. 'jspenviro'\n",
                            "31. 'jgovpdk'\n",
                            "32. 'jgovplab'\n",
                            "33. 'jgovpnat'\n",
                            "34. 'jgovpgrn'\n",
                            "35. 'jgovpnzf'\n",
                            "36. 'jgovpact'\n",
                            "37. 'jgovunf'\n",
                            "38. 'jgovpmao'\n",
                            "39. 'jgovpmnp'\n",
                            "40. 'jnevervoteno'\n",
                            "41. 'jnevervotelab'\n",
                            "42. 'jnevervotenat'\n",
                            "43. 'jnevervotegrn'\n",
                            "44. 'jnevervotenzf'\n",
                            "45. 'jnevervoteact'\n",
                            "46. 'jnevervoteunf'\n",
                            "47. 'jnevervotemao'\n",
                            "48. 'jnevervotemnp'\n",
                            "49. 'jnevervoteoth'\n",
                            "50. 'jnevervoteothx'\n",
                            "51. 'jfirstpx'\n",
                            "52. 'jsecondp'\n",
                            "53. 'jage'\n",
                            "54. 'jlanguage'\n",
                            "55. 'jlanguagex'\n",
                            "56. 'jrollsex'\n",
                            "57. 'jhqual'\n",
                            "58. 'jwkft'\n",
                            "59. 'jwkpt'\n",
                            "60. 'jwkun'\n",
                            "61. 'jwkret'\n",
                            "62. 'jwkdis'\n",
                            "63. 'jwksch'\n",
                            "64. 'jwkunpo'\n",
                            "65. 'jwkunpi'\n",
                            "66. 'jhhincome'\n",
                            "67. 'jhhadults'\n",
                            "68. 'jhhchn'\n",
                            "69. 'jmarital'\n",
                            "70. 'r_jind'\n",
                            "71. 'jlablr'\n",
                            "72. 'jnatlr'\n",
                            "73. 'jgrnlr'\n",
                            "74. 'jnzflr'\n",
                            "75. 'jactlr'\n",
                            "76. 'junflr'\n",
                            "77. 'jmaolr'\n",
                            "78. 'jmnplr'\n",
                            "79. 'jslflr'\n",
                            "80. 'jrelservices'\n",
                            "81. 'jrelnone'\n",
                            "82. 'jrelang'\n",
                            "83. 'jrelpres'\n",
                            "84. 'jrelcath'\n",
                            "85. 'jrelmeth'\n",
                            "86. 'jrelbap'\n",
                            "87. 'jrellat'\n",
                            "88. 'jrelrat'\n",
                            "89. 'jrelfun'\n",
                            "90. 'jrelothc'\n",
                            "91. 'jrelnonc'\n",
                            "92. 'jreligionx'\n",
                            "93. 'jreligiousity'\n",
                            "94. 'jethnicity_e'\n",
                            "95. 'jethnicity_m'\n",
                            "96. 'jethnicity_p'\n",
                            "97. 'jethnicity_a'\n",
                            "98. 'jethnicity_o'\n",
                            "99. 'jethnicityx'\n",
                            "100. 'jethnicmost'\n",
                            "101. 'jethnicmostx'\n",
                            "102. 'jpartyvote'\n",
                            "103. 'jelecvote'\n",
                            "104. 'njptyvote'\n",
                            "105. 'njelecvote'\n",
                            "106. 'jdiffvoting'\n",
                            "107. 'X_singlefav'\n",
                            "\n",
                            "\n"
                        ],
                        "text/plain": [
                            "  [1] \"Jelect\"         \"jblogel\"        \"jnewspaper\"     \"jnatradio\"     \n",
                            "  [5] \"jtalkback\"      \"jdiscussp\"      \"jrallies\"       \"jpersuade\"     \n",
                            "  [9] \"jpcmoney\"       \"jpcposter\"      \"jlablike\"       \"jnatlike\"      \n",
                            " [13] \"jgrnlike\"       \"jnzflike\"       \"jactlike\"       \"junflike\"      \n",
                            " [17] \"jmaolike\"       \"jmnplike\"       \"jmostlike\"      \"jmostlikex\"    \n",
                            " [21] \"jrepublic\"      \"jsphealth\"      \"jspedu\"         \"jspunemp\"      \n",
                            " [25] \"jspdefence\"     \"jspsuper\"       \"jspbusind\"      \"jsppolice\"     \n",
                            " [29] \"jspwelfare\"     \"jspenviro\"      \"jgovpdk\"        \"jgovplab\"      \n",
                            " [33] \"jgovpnat\"       \"jgovpgrn\"       \"jgovpnzf\"       \"jgovpact\"      \n",
                            " [37] \"jgovunf\"        \"jgovpmao\"       \"jgovpmnp\"       \"jnevervoteno\"  \n",
                            " [41] \"jnevervotelab\"  \"jnevervotenat\"  \"jnevervotegrn\"  \"jnevervotenzf\" \n",
                            " [45] \"jnevervoteact\"  \"jnevervoteunf\"  \"jnevervotemao\"  \"jnevervotemnp\" \n",
                            " [49] \"jnevervoteoth\"  \"jnevervoteothx\" \"jfirstpx\"       \"jsecondp\"      \n",
                            " [53] \"jage\"           \"jlanguage\"      \"jlanguagex\"     \"jrollsex\"      \n",
                            " [57] \"jhqual\"         \"jwkft\"          \"jwkpt\"          \"jwkun\"         \n",
                            " [61] \"jwkret\"         \"jwkdis\"         \"jwksch\"         \"jwkunpo\"       \n",
                            " [65] \"jwkunpi\"        \"jhhincome\"      \"jhhadults\"      \"jhhchn\"        \n",
                            " [69] \"jmarital\"       \"r_jind\"         \"jlablr\"         \"jnatlr\"        \n",
                            " [73] \"jgrnlr\"         \"jnzflr\"         \"jactlr\"         \"junflr\"        \n",
                            " [77] \"jmaolr\"         \"jmnplr\"         \"jslflr\"         \"jrelservices\"  \n",
                            " [81] \"jrelnone\"       \"jrelang\"        \"jrelpres\"       \"jrelcath\"      \n",
                            " [85] \"jrelmeth\"       \"jrelbap\"        \"jrellat\"        \"jrelrat\"       \n",
                            " [89] \"jrelfun\"        \"jrelothc\"       \"jrelnonc\"       \"jreligionx\"    \n",
                            " [93] \"jreligiousity\"  \"jethnicity_e\"   \"jethnicity_m\"   \"jethnicity_p\"  \n",
                            " [97] \"jethnicity_a\"   \"jethnicity_o\"   \"jethnicityx\"    \"jethnicmost\"   \n",
                            "[101] \"jethnicmostx\"   \"jpartyvote\"     \"jelecvote\"      \"njptyvote\"     \n",
                            "[105] \"njelecvote\"     \"jdiffvoting\"    \"X_singlefav\"   "
                        ]
                    },
                    "metadata": {},
                    "output_type": "display_data"
                }
            ],
            "source": [
                "names(selected_nzes2011)"
            ]
        },
        {
            "cell_type": "markdown",
            "metadata": {},
            "source": [
                "However, when we have hundreds of column names, a useful tip is to just search out only possible names. We can search the names for a fragment of the name by using the `grep(\"FRAGMENT\", variable, value = TRUE)` command, which in this case might be:\n",
                "\n"
            ]
        },
        {
            "cell_type": "code",
            "execution_count": 19,
            "metadata": {},
            "outputs": [
                {
                    "data": {
                        "text/html": [
                            "'X_singlefav'"
                        ],
                        "text/latex": [
                            "'X\\_singlefav'"
                        ],
                        "text/markdown": [
                            "'X_singlefav'"
                        ],
                        "text/plain": [
                            "[1] \"X_singlefav\""
                        ]
                    },
                    "metadata": {},
                    "output_type": "display_data"
                }
            ],
            "source": [
                "grep(\"singlefav\", names(selected_nzes2011), value = TRUE)"
            ]
        },
        {
            "cell_type": "markdown",
            "metadata": {},
            "source": [
                "The `value = TRUE` argument, as described in the help for the `grep()` function reports the matching character string, as opposed to the index number for that string.\n",
                "\n",
                "We can now confirm that the variable is called `X_singlefav`, so that is how we should be referring to it.\n"
            ]
        },
        {
            "cell_type": "code",
            "execution_count": 20,
            "metadata": {},
            "outputs": [
                {
                    "name": "stdout",
                    "output_type": "stream",
                    "text": [
                        "'data.frame':\t3101 obs. of  3 variables:\n",
                        " $ jpartyvote : chr  \"National\" \"National\" \"National\" \"NZ First\" ...\n",
                        " $ jdiffvoting: chr  \"Voting can make a reasonable amount of difference to what happens\" \"Voting can make some difference to what happens\" \"Voting can make a big difference to what happens\" \"Voting can make some difference to what happens\" ...\n",
                        " $ X_singlefav: chr  \"National\" \"National\" \"National\" \"Labour\" ...\n"
                    ]
                }
            ],
            "source": [
                "selected_nzes2011 %>% \n",
                "  select(jpartyvote, jdiffvoting, X_singlefav) %>% \n",
                "  str()"
            ]
        },
        {
            "cell_type": "markdown",
            "metadata": {},
            "source": [
                "These are all categorical data, however they are recorded as characters (text strings) as opposed to factors.\n",
                "\n",
                "An easy way of tabulating these data to see how many times each level of is to use the `group_by()` function along with the `summarise()` command:\n"
            ]
        },
        {
            "cell_type": "code",
            "execution_count": 21,
            "metadata": {},
            "outputs": [
                {
                    "data": {
                        "text/html": [
                            "<table class=\"dataframe\">\n",
                            "<caption>A tibble: 14 × 2</caption>\n",
                            "<thead>\n",
                            "\t<tr><th scope=col>jpartyvote</th><th scope=col>count</th></tr>\n",
                            "\t<tr><th scope=col>&lt;chr&gt;</th><th scope=col>&lt;int&gt;</th></tr>\n",
                            "</thead>\n",
                            "<tbody>\n",
                            "\t<tr><td>Act          </td><td>  29</td></tr>\n",
                            "\t<tr><td>ALC          </td><td>  10</td></tr>\n",
                            "\t<tr><td>Alliance     </td><td>   2</td></tr>\n",
                            "\t<tr><td>Another party</td><td>   8</td></tr>\n",
                            "\t<tr><td>Conservative </td><td>  74</td></tr>\n",
                            "\t<tr><td>Don't know   </td><td>  23</td></tr>\n",
                            "\t<tr><td>Green        </td><td> 348</td></tr>\n",
                            "\t<tr><td>Labour       </td><td> 749</td></tr>\n",
                            "\t<tr><td>Mana         </td><td>  62</td></tr>\n",
                            "\t<tr><td>Maori Party  </td><td> 128</td></tr>\n",
                            "\t<tr><td>National     </td><td>1130</td></tr>\n",
                            "\t<tr><td>NZ First     </td><td> 216</td></tr>\n",
                            "\t<tr><td>United Future</td><td>  14</td></tr>\n",
                            "\t<tr><td>NA           </td><td> 308</td></tr>\n",
                            "</tbody>\n",
                            "</table>\n"
                        ],
                        "text/latex": [
                            "A tibble: 14 × 2\n",
                            "\\begin{tabular}{ll}\n",
                            " jpartyvote & count\\\\\n",
                            " <chr> & <int>\\\\\n",
                            "\\hline\n",
                            "\t Act           &   29\\\\\n",
                            "\t ALC           &   10\\\\\n",
                            "\t Alliance      &    2\\\\\n",
                            "\t Another party &    8\\\\\n",
                            "\t Conservative  &   74\\\\\n",
                            "\t Don't know    &   23\\\\\n",
                            "\t Green         &  348\\\\\n",
                            "\t Labour        &  749\\\\\n",
                            "\t Mana          &   62\\\\\n",
                            "\t Maori Party   &  128\\\\\n",
                            "\t National      & 1130\\\\\n",
                            "\t NZ First      &  216\\\\\n",
                            "\t United Future &   14\\\\\n",
                            "\t NA            &  308\\\\\n",
                            "\\end{tabular}\n"
                        ],
                        "text/markdown": [
                            "\n",
                            "A tibble: 14 × 2\n",
                            "\n",
                            "| jpartyvote &lt;chr&gt; | count &lt;int&gt; |\n",
                            "|---|---|\n",
                            "| Act           |   29 |\n",
                            "| ALC           |   10 |\n",
                            "| Alliance      |    2 |\n",
                            "| Another party |    8 |\n",
                            "| Conservative  |   74 |\n",
                            "| Don't know    |   23 |\n",
                            "| Green         |  348 |\n",
                            "| Labour        |  749 |\n",
                            "| Mana          |   62 |\n",
                            "| Maori Party   |  128 |\n",
                            "| National      | 1130 |\n",
                            "| NZ First      |  216 |\n",
                            "| United Future |   14 |\n",
                            "| NA            |  308 |\n",
                            "\n"
                        ],
                        "text/plain": [
                            "   jpartyvote    count\n",
                            "1  Act             29 \n",
                            "2  ALC             10 \n",
                            "3  Alliance         2 \n",
                            "4  Another party    8 \n",
                            "5  Conservative    74 \n",
                            "6  Don't know      23 \n",
                            "7  Green          348 \n",
                            "8  Labour         749 \n",
                            "9  Mana            62 \n",
                            "10 Maori Party    128 \n",
                            "11 National      1130 \n",
                            "12 NZ First       216 \n",
                            "13 United Future   14 \n",
                            "14 NA             308 "
                        ]
                    },
                    "metadata": {},
                    "output_type": "display_data"
                }
            ],
            "source": [
                "selected_nzes2011 %>% \n",
                "  group_by(jpartyvote) %>% \n",
                "  summarise(count = n())"
            ]
        },
        {
            "cell_type": "markdown",
            "metadata": {},
            "source": [
                "We can see that 23 people answered `\"Don't know\"`. Since our question is about people who knew which party they voted for, we might want to exclude these observations from our analysis. We can do so by `filter`ing them out.\n",
                "\n"
            ]
        },
        {
            "cell_type": "code",
            "execution_count": 22,
            "metadata": {},
            "outputs": [
                {
                    "data": {
                        "text/html": [
                            "<table class=\"dataframe\">\n",
                            "<caption>A tibble: 12 × 2</caption>\n",
                            "<thead>\n",
                            "\t<tr><th scope=col>jpartyvote</th><th scope=col>count</th></tr>\n",
                            "\t<tr><th scope=col>&lt;chr&gt;</th><th scope=col>&lt;int&gt;</th></tr>\n",
                            "</thead>\n",
                            "<tbody>\n",
                            "\t<tr><td>Act          </td><td>  29</td></tr>\n",
                            "\t<tr><td>ALC          </td><td>  10</td></tr>\n",
                            "\t<tr><td>Alliance     </td><td>   2</td></tr>\n",
                            "\t<tr><td>Another party</td><td>   8</td></tr>\n",
                            "\t<tr><td>Conservative </td><td>  74</td></tr>\n",
                            "\t<tr><td>Green        </td><td> 348</td></tr>\n",
                            "\t<tr><td>Labour       </td><td> 749</td></tr>\n",
                            "\t<tr><td>Mana         </td><td>  62</td></tr>\n",
                            "\t<tr><td>Maori Party  </td><td> 128</td></tr>\n",
                            "\t<tr><td>National     </td><td>1130</td></tr>\n",
                            "\t<tr><td>NZ First     </td><td> 216</td></tr>\n",
                            "\t<tr><td>United Future</td><td>  14</td></tr>\n",
                            "</tbody>\n",
                            "</table>\n"
                        ],
                        "text/latex": [
                            "A tibble: 12 × 2\n",
                            "\\begin{tabular}{ll}\n",
                            " jpartyvote & count\\\\\n",
                            " <chr> & <int>\\\\\n",
                            "\\hline\n",
                            "\t Act           &   29\\\\\n",
                            "\t ALC           &   10\\\\\n",
                            "\t Alliance      &    2\\\\\n",
                            "\t Another party &    8\\\\\n",
                            "\t Conservative  &   74\\\\\n",
                            "\t Green         &  348\\\\\n",
                            "\t Labour        &  749\\\\\n",
                            "\t Mana          &   62\\\\\n",
                            "\t Maori Party   &  128\\\\\n",
                            "\t National      & 1130\\\\\n",
                            "\t NZ First      &  216\\\\\n",
                            "\t United Future &   14\\\\\n",
                            "\\end{tabular}\n"
                        ],
                        "text/markdown": [
                            "\n",
                            "A tibble: 12 × 2\n",
                            "\n",
                            "| jpartyvote &lt;chr&gt; | count &lt;int&gt; |\n",
                            "|---|---|\n",
                            "| Act           |   29 |\n",
                            "| ALC           |   10 |\n",
                            "| Alliance      |    2 |\n",
                            "| Another party |    8 |\n",
                            "| Conservative  |   74 |\n",
                            "| Green         |  348 |\n",
                            "| Labour        |  749 |\n",
                            "| Mana          |   62 |\n",
                            "| Maori Party   |  128 |\n",
                            "| National      | 1130 |\n",
                            "| NZ First      |  216 |\n",
                            "| United Future |   14 |\n",
                            "\n"
                        ],
                        "text/plain": [
                            "   jpartyvote    count\n",
                            "1  Act             29 \n",
                            "2  ALC             10 \n",
                            "3  Alliance         2 \n",
                            "4  Another party    8 \n",
                            "5  Conservative    74 \n",
                            "6  Green          348 \n",
                            "7  Labour         749 \n",
                            "8  Mana            62 \n",
                            "9  Maori Party    128 \n",
                            "10 National      1130 \n",
                            "11 NZ First       216 \n",
                            "12 United Future   14 "
                        ]
                    },
                    "metadata": {},
                    "output_type": "display_data"
                }
            ],
            "source": [
                "selected_nzes2011 %>% \n",
                "  filter(jpartyvote != \"Don't know\") %>%\n",
                "  group_by(jpartyvote) %>% \n",
                "  summarise(count = n())"
            ]
        },
        {
            "cell_type": "markdown",
            "metadata": {},
            "source": [
                "Because there is a `%>%` at the end of the line, R knows to continue on to the next line, as with any other 'to be continued' symbol at the end of the line.\n",
                "\n",
                "Note that adding the filter also got rid of the `NA` entries. NA (Not Available) is used to indicate blank entries -- those observations for which there is no data recorded. It is always a good plan to be aware of NAs and deliberately include them in or exclude them from the analysis so that the final results are not surprising. In this case since NA indicates that these people did not answer the question about which party they voted for, exluding them from the analysis makes sense.\n",
                "\n",
                "We can also similarly view the levels and number of occurances of these levels in the  `X_singlefav` variable:\n"
            ]
        },
        {
            "cell_type": "code",
            "execution_count": 23,
            "metadata": {},
            "outputs": [
                {
                    "data": {
                        "text/html": [
                            "<table class=\"dataframe\">\n",
                            "<caption>A tibble: 8 × 2</caption>\n",
                            "<thead>\n",
                            "\t<tr><th scope=col>X_singlefav</th><th scope=col>count</th></tr>\n",
                            "\t<tr><th scope=col>&lt;chr&gt;</th><th scope=col>&lt;int&gt;</th></tr>\n",
                            "</thead>\n",
                            "<tbody>\n",
                            "\t<tr><td>Act          </td><td>  33</td></tr>\n",
                            "\t<tr><td>Green        </td><td> 388</td></tr>\n",
                            "\t<tr><td>Labour       </td><td>1043</td></tr>\n",
                            "\t<tr><td>Mana         </td><td>  47</td></tr>\n",
                            "\t<tr><td>National     </td><td>1266</td></tr>\n",
                            "\t<tr><td>NZ First     </td><td> 138</td></tr>\n",
                            "\t<tr><td>United Future</td><td> 128</td></tr>\n",
                            "\t<tr><td>NA           </td><td>  58</td></tr>\n",
                            "</tbody>\n",
                            "</table>\n"
                        ],
                        "text/latex": [
                            "A tibble: 8 × 2\n",
                            "\\begin{tabular}{ll}\n",
                            " X\\_singlefav & count\\\\\n",
                            " <chr> & <int>\\\\\n",
                            "\\hline\n",
                            "\t Act           &   33\\\\\n",
                            "\t Green         &  388\\\\\n",
                            "\t Labour        & 1043\\\\\n",
                            "\t Mana          &   47\\\\\n",
                            "\t National      & 1266\\\\\n",
                            "\t NZ First      &  138\\\\\n",
                            "\t United Future &  128\\\\\n",
                            "\t NA            &   58\\\\\n",
                            "\\end{tabular}\n"
                        ],
                        "text/markdown": [
                            "\n",
                            "A tibble: 8 × 2\n",
                            "\n",
                            "| X_singlefav &lt;chr&gt; | count &lt;int&gt; |\n",
                            "|---|---|\n",
                            "| Act           |   33 |\n",
                            "| Green         |  388 |\n",
                            "| Labour        | 1043 |\n",
                            "| Mana          |   47 |\n",
                            "| National      | 1266 |\n",
                            "| NZ First      |  138 |\n",
                            "| United Future |  128 |\n",
                            "| NA            |   58 |\n",
                            "\n"
                        ],
                        "text/plain": [
                            "  X_singlefav   count\n",
                            "1 Act             33 \n",
                            "2 Green          388 \n",
                            "3 Labour        1043 \n",
                            "4 Mana            47 \n",
                            "5 National      1266 \n",
                            "6 NZ First       138 \n",
                            "7 United Future  128 \n",
                            "8 NA              58 "
                        ]
                    },
                    "metadata": {},
                    "output_type": "display_data"
                }
            ],
            "source": [
                "selected_nzes2011 %>% \n",
                "  group_by(X_singlefav) %>% \n",
                "  summarise(count = n())"
            ]
        },
        {
            "cell_type": "markdown",
            "metadata": {},
            "source": [
                "This set also has `NA` entries, but in this case we don't want to get rid of anything but the `NA`s so we need to target them directly. `NA` entries need special targeting because they do not actually exist (they are different to the text `\"NA\"` or a variable saved with the name `NA`). \n",
                "\n",
                "If we only wanted to find the `NA`s we would use the `is.na()` function with the name of the variable inside the parentheses. \n",
                "\n",
                "However since we want the entries that are **not** `NA`s we can use the __Not__ operator, `!`, to indicate \"we want all the ones that are not NA\":`!is.na()`. Hence we can `filter` out all non NAs in our `dplyr` chain:\n"
            ]
        },
        {
            "cell_type": "code",
            "execution_count": 24,
            "metadata": {},
            "outputs": [
                {
                    "data": {
                        "text/html": [
                            "<table class=\"dataframe\">\n",
                            "<caption>A tibble: 7 × 2</caption>\n",
                            "<thead>\n",
                            "\t<tr><th scope=col>X_singlefav</th><th scope=col>count</th></tr>\n",
                            "\t<tr><th scope=col>&lt;chr&gt;</th><th scope=col>&lt;int&gt;</th></tr>\n",
                            "</thead>\n",
                            "<tbody>\n",
                            "\t<tr><td>Act          </td><td>  33</td></tr>\n",
                            "\t<tr><td>Green        </td><td> 388</td></tr>\n",
                            "\t<tr><td>Labour       </td><td>1043</td></tr>\n",
                            "\t<tr><td>Mana         </td><td>  47</td></tr>\n",
                            "\t<tr><td>National     </td><td>1266</td></tr>\n",
                            "\t<tr><td>NZ First     </td><td> 138</td></tr>\n",
                            "\t<tr><td>United Future</td><td> 128</td></tr>\n",
                            "</tbody>\n",
                            "</table>\n"
                        ],
                        "text/latex": [
                            "A tibble: 7 × 2\n",
                            "\\begin{tabular}{ll}\n",
                            " X\\_singlefav & count\\\\\n",
                            " <chr> & <int>\\\\\n",
                            "\\hline\n",
                            "\t Act           &   33\\\\\n",
                            "\t Green         &  388\\\\\n",
                            "\t Labour        & 1043\\\\\n",
                            "\t Mana          &   47\\\\\n",
                            "\t National      & 1266\\\\\n",
                            "\t NZ First      &  138\\\\\n",
                            "\t United Future &  128\\\\\n",
                            "\\end{tabular}\n"
                        ],
                        "text/markdown": [
                            "\n",
                            "A tibble: 7 × 2\n",
                            "\n",
                            "| X_singlefav &lt;chr&gt; | count &lt;int&gt; |\n",
                            "|---|---|\n",
                            "| Act           |   33 |\n",
                            "| Green         |  388 |\n",
                            "| Labour        | 1043 |\n",
                            "| Mana          |   47 |\n",
                            "| National      | 1266 |\n",
                            "| NZ First      |  138 |\n",
                            "| United Future |  128 |\n",
                            "\n"
                        ],
                        "text/plain": [
                            "  X_singlefav   count\n",
                            "1 Act             33 \n",
                            "2 Green          388 \n",
                            "3 Labour        1043 \n",
                            "4 Mana            47 \n",
                            "5 National      1266 \n",
                            "6 NZ First       138 \n",
                            "7 United Future  128 "
                        ]
                    },
                    "metadata": {},
                    "output_type": "display_data"
                }
            ],
            "source": [
                "selected_nzes2011 %>% \n",
                "  filter(!is.na(X_singlefav)) %>%\n",
                "  group_by(X_singlefav) %>% \n",
                "  summarise(count = n())"
            ]
        },
        {
            "cell_type": "markdown",
            "metadata": {},
            "source": [
                "And remember that we can `filter` for multiple characteristics at once:\n",
                "\n"
            ]
        },
        {
            "cell_type": "code",
            "execution_count": 25,
            "metadata": {},
            "outputs": [
                {
                    "data": {
                        "text/html": [
                            "<table class=\"dataframe\">\n",
                            "<caption>A tibble: 7 × 2</caption>\n",
                            "<thead>\n",
                            "\t<tr><th scope=col>X_singlefav</th><th scope=col>count</th></tr>\n",
                            "\t<tr><th scope=col>&lt;chr&gt;</th><th scope=col>&lt;int&gt;</th></tr>\n",
                            "</thead>\n",
                            "<tbody>\n",
                            "\t<tr><td>Act          </td><td>  29</td></tr>\n",
                            "\t<tr><td>Green        </td><td> 354</td></tr>\n",
                            "\t<tr><td>Labour       </td><td> 914</td></tr>\n",
                            "\t<tr><td>Mana         </td><td>  42</td></tr>\n",
                            "\t<tr><td>National     </td><td>1172</td></tr>\n",
                            "\t<tr><td>NZ First     </td><td> 119</td></tr>\n",
                            "\t<tr><td>United Future</td><td> 115</td></tr>\n",
                            "</tbody>\n",
                            "</table>\n"
                        ],
                        "text/latex": [
                            "A tibble: 7 × 2\n",
                            "\\begin{tabular}{ll}\n",
                            " X\\_singlefav & count\\\\\n",
                            " <chr> & <int>\\\\\n",
                            "\\hline\n",
                            "\t Act           &   29\\\\\n",
                            "\t Green         &  354\\\\\n",
                            "\t Labour        &  914\\\\\n",
                            "\t Mana          &   42\\\\\n",
                            "\t National      & 1172\\\\\n",
                            "\t NZ First      &  119\\\\\n",
                            "\t United Future &  115\\\\\n",
                            "\\end{tabular}\n"
                        ],
                        "text/markdown": [
                            "\n",
                            "A tibble: 7 × 2\n",
                            "\n",
                            "| X_singlefav &lt;chr&gt; | count &lt;int&gt; |\n",
                            "|---|---|\n",
                            "| Act           |   29 |\n",
                            "| Green         |  354 |\n",
                            "| Labour        |  914 |\n",
                            "| Mana          |   42 |\n",
                            "| National      | 1172 |\n",
                            "| NZ First      |  119 |\n",
                            "| United Future |  115 |\n",
                            "\n"
                        ],
                        "text/plain": [
                            "  X_singlefav   count\n",
                            "1 Act             29 \n",
                            "2 Green          354 \n",
                            "3 Labour         914 \n",
                            "4 Mana            42 \n",
                            "5 National      1172 \n",
                            "6 NZ First       119 \n",
                            "7 United Future  115 "
                        ]
                    },
                    "metadata": {},
                    "output_type": "display_data"
                }
            ],
            "source": [
                "selected_nzes2011 %>% \n",
                "  filter(!is.na(X_singlefav), jpartyvote != \"Don't know\") %>%\n",
                "  group_by(X_singlefav) %>% \n",
                "  summarise(count=n())"
            ]
        },
        {
            "cell_type": "markdown",
            "metadata": {},
            "source": [
                "If we examine the categories in `jdiffvoting` we can see that this variable has levels such as both `\"Don't know\"` and `NA`.\n",
                "\n"
            ]
        },
        {
            "cell_type": "code",
            "execution_count": 26,
            "metadata": {},
            "outputs": [
                {
                    "data": {
                        "text/html": [
                            "<table class=\"dataframe\">\n",
                            "<caption>A tibble: 7 × 2</caption>\n",
                            "<thead>\n",
                            "\t<tr><th scope=col>jdiffvoting</th><th scope=col>count</th></tr>\n",
                            "\t<tr><th scope=col>&lt;chr&gt;</th><th scope=col>&lt;int&gt;</th></tr>\n",
                            "</thead>\n",
                            "<tbody>\n",
                            "\t<tr><td>Don't know                                                       </td><td>  63</td></tr>\n",
                            "\t<tr><td>Voting can make a big difference to what happens                 </td><td>1605</td></tr>\n",
                            "\t<tr><td>Voting can make a reasonable amount of difference to what happens</td><td> 841</td></tr>\n",
                            "\t<tr><td>Voting can make some difference to what happens                  </td><td> 339</td></tr>\n",
                            "\t<tr><td>Voting won't make any difference to what happens                 </td><td> 119</td></tr>\n",
                            "\t<tr><td>Voting won't make much difference to what happens                </td><td> 106</td></tr>\n",
                            "\t<tr><td>NA                                                               </td><td>  28</td></tr>\n",
                            "</tbody>\n",
                            "</table>\n"
                        ],
                        "text/latex": [
                            "A tibble: 7 × 2\n",
                            "\\begin{tabular}{ll}\n",
                            " jdiffvoting & count\\\\\n",
                            " <chr> & <int>\\\\\n",
                            "\\hline\n",
                            "\t Don't know                                                        &   63\\\\\n",
                            "\t Voting can make a big difference to what happens                  & 1605\\\\\n",
                            "\t Voting can make a reasonable amount of difference to what happens &  841\\\\\n",
                            "\t Voting can make some difference to what happens                   &  339\\\\\n",
                            "\t Voting won't make any difference to what happens                  &  119\\\\\n",
                            "\t Voting won't make much difference to what happens                 &  106\\\\\n",
                            "\t NA                                                                &   28\\\\\n",
                            "\\end{tabular}\n"
                        ],
                        "text/markdown": [
                            "\n",
                            "A tibble: 7 × 2\n",
                            "\n",
                            "| jdiffvoting &lt;chr&gt; | count &lt;int&gt; |\n",
                            "|---|---|\n",
                            "| Don't know                                                        |   63 |\n",
                            "| Voting can make a big difference to what happens                  | 1605 |\n",
                            "| Voting can make a reasonable amount of difference to what happens |  841 |\n",
                            "| Voting can make some difference to what happens                   |  339 |\n",
                            "| Voting won't make any difference to what happens                  |  119 |\n",
                            "| Voting won't make much difference to what happens                 |  106 |\n",
                            "| NA                                                                |   28 |\n",
                            "\n"
                        ],
                        "text/plain": [
                            "  jdiffvoting                                                       count\n",
                            "1 Don't know                                                          63 \n",
                            "2 Voting can make a big difference to what happens                  1605 \n",
                            "3 Voting can make a reasonable amount of difference to what happens  841 \n",
                            "4 Voting can make some difference to what happens                    339 \n",
                            "5 Voting won't make any difference to what happens                   119 \n",
                            "6 Voting won't make much difference to what happens                  106 \n",
                            "7 NA                                                                  28 "
                        ]
                    },
                    "metadata": {},
                    "output_type": "display_data"
                }
            ],
            "source": [
                "selected_nzes2011 %>% \n",
                "  group_by(jdiffvoting) %>% \n",
                "  summarise(count = n())"
            ]
        },
        {
            "cell_type": "markdown",
            "metadata": {},
            "source": [
                "We need to decide how we want to handle these levels in our analysis.\n",
                "\n",
                "Remember that our main question is about whether people vote for their favorite party or a diffent one. Hence a straighforwrd approach would be to first determine whether each observation in the data represents a person who voted for the party same as their favorite party or different. This requires creating a new variable with the `mutate()` function.\n",
                "\n",
                "In creating this variable we want to evaluate if for a given observation the values in the `jpartyvote` and `X_singlefav` variables are the same, or different:\n"
            ]
        },
        {
            "cell_type": "code",
            "execution_count": 27,
            "metadata": {},
            "outputs": [],
            "source": [
                "selected_nzes2011 <- selected_nzes2011 %>%\n",
                "  mutate(sameparty = ifelse(jpartyvote == X_singlefav, \"same\", \"different\"))"
            ]
        },
        {
            "cell_type": "markdown",
            "metadata": {},
            "source": [
                "This creates a new variable named `sameparty` that has the value `\"same\"` if `jpartyvote` is equal to `X_singlefav`, and `\"different\"` otherwise.\n",
                "\n",
                "We can again check our work by exploring the groupings in a View:\n"
            ]
        },
        {
            "cell_type": "code",
            "execution_count": 28,
            "metadata": {},
            "outputs": [
                {
                    "name": "stderr",
                    "output_type": "stream",
                    "text": [
                        "`summarise()` has grouped output by 'jpartyvote', 'X_singlefav'. You can override using the `.groups` argument.\n",
                        "\n"
                    ]
                },
                {
                    "data": {
                        "text/html": [
                            "<table class=\"dataframe\">\n",
                            "<caption>A grouped_df: 82 × 4</caption>\n",
                            "<thead>\n",
                            "\t<tr><th scope=col>jpartyvote</th><th scope=col>X_singlefav</th><th scope=col>sameparty</th><th scope=col>count</th></tr>\n",
                            "\t<tr><th scope=col>&lt;chr&gt;</th><th scope=col>&lt;chr&gt;</th><th scope=col>&lt;chr&gt;</th><th scope=col>&lt;int&gt;</th></tr>\n",
                            "</thead>\n",
                            "<tbody>\n",
                            "\t<tr><td>Act          </td><td>Act          </td><td>same     </td><td> 12</td></tr>\n",
                            "\t<tr><td>Act          </td><td>Green        </td><td>different</td><td>  1</td></tr>\n",
                            "\t<tr><td>Act          </td><td>National     </td><td>different</td><td> 14</td></tr>\n",
                            "\t<tr><td>Act          </td><td>United Future</td><td>different</td><td>  1</td></tr>\n",
                            "\t<tr><td>Act          </td><td>NA           </td><td>NA       </td><td>  1</td></tr>\n",
                            "\t<tr><td>ALC          </td><td>Green        </td><td>different</td><td>  1</td></tr>\n",
                            "\t<tr><td>ALC          </td><td>Labour       </td><td>different</td><td>  4</td></tr>\n",
                            "\t<tr><td>ALC          </td><td>National     </td><td>different</td><td>  2</td></tr>\n",
                            "\t<tr><td>ALC          </td><td>United Future</td><td>different</td><td>  3</td></tr>\n",
                            "\t<tr><td>Alliance     </td><td>Labour       </td><td>different</td><td>  1</td></tr>\n",
                            "\t<tr><td>Alliance     </td><td>National     </td><td>different</td><td>  1</td></tr>\n",
                            "\t<tr><td>Another party</td><td>Green        </td><td>different</td><td>  2</td></tr>\n",
                            "\t<tr><td>Another party</td><td>Labour       </td><td>different</td><td>  4</td></tr>\n",
                            "\t<tr><td>Another party</td><td>National     </td><td>different</td><td>  2</td></tr>\n",
                            "\t<tr><td>Conservative </td><td>Act          </td><td>different</td><td>  2</td></tr>\n",
                            "\t<tr><td>Conservative </td><td>Green        </td><td>different</td><td>  3</td></tr>\n",
                            "\t<tr><td>Conservative </td><td>Labour       </td><td>different</td><td> 16</td></tr>\n",
                            "\t<tr><td>Conservative </td><td>National     </td><td>different</td><td> 43</td></tr>\n",
                            "\t<tr><td>Conservative </td><td>NZ First     </td><td>different</td><td>  6</td></tr>\n",
                            "\t<tr><td>Conservative </td><td>United Future</td><td>different</td><td>  3</td></tr>\n",
                            "\t<tr><td>Conservative </td><td>NA           </td><td>NA       </td><td>  1</td></tr>\n",
                            "\t<tr><td>Don't know   </td><td>Green        </td><td>different</td><td>  2</td></tr>\n",
                            "\t<tr><td>Don't know   </td><td>Labour       </td><td>different</td><td>  8</td></tr>\n",
                            "\t<tr><td>Don't know   </td><td>Mana         </td><td>different</td><td>  1</td></tr>\n",
                            "\t<tr><td>Don't know   </td><td>National     </td><td>different</td><td>  2</td></tr>\n",
                            "\t<tr><td>Don't know   </td><td>NZ First     </td><td>different</td><td>  2</td></tr>\n",
                            "\t<tr><td>Don't know   </td><td>United Future</td><td>different</td><td>  1</td></tr>\n",
                            "\t<tr><td>Don't know   </td><td>NA           </td><td>NA       </td><td>  7</td></tr>\n",
                            "\t<tr><td>Green        </td><td>Act          </td><td>different</td><td>  1</td></tr>\n",
                            "\t<tr><td>Green        </td><td>Green        </td><td>same     </td><td>237</td></tr>\n",
                            "\t<tr><td>...</td><td>...</td><td>...</td><td>...</td></tr>\n",
                            "\t<tr><td>Maori Party  </td><td>Mana         </td><td>different</td><td>   2</td></tr>\n",
                            "\t<tr><td>Maori Party  </td><td>National     </td><td>different</td><td>  16</td></tr>\n",
                            "\t<tr><td>Maori Party  </td><td>NZ First     </td><td>different</td><td>   9</td></tr>\n",
                            "\t<tr><td>Maori Party  </td><td>United Future</td><td>different</td><td>  53</td></tr>\n",
                            "\t<tr><td>Maori Party  </td><td>NA           </td><td>NA       </td><td>   2</td></tr>\n",
                            "\t<tr><td>National     </td><td>Act          </td><td>different</td><td>  11</td></tr>\n",
                            "\t<tr><td>National     </td><td>Green        </td><td>different</td><td>  10</td></tr>\n",
                            "\t<tr><td>National     </td><td>Labour       </td><td>different</td><td>  78</td></tr>\n",
                            "\t<tr><td>National     </td><td>National     </td><td>same     </td><td>1004</td></tr>\n",
                            "\t<tr><td>National     </td><td>NZ First     </td><td>different</td><td>   6</td></tr>\n",
                            "\t<tr><td>National     </td><td>United Future</td><td>different</td><td>  14</td></tr>\n",
                            "\t<tr><td>National     </td><td>NA           </td><td>NA       </td><td>   7</td></tr>\n",
                            "\t<tr><td>NZ First     </td><td>Act          </td><td>different</td><td>   1</td></tr>\n",
                            "\t<tr><td>NZ First     </td><td>Green        </td><td>different</td><td>  21</td></tr>\n",
                            "\t<tr><td>NZ First     </td><td>Labour       </td><td>different</td><td>  76</td></tr>\n",
                            "\t<tr><td>NZ First     </td><td>National     </td><td>different</td><td>  25</td></tr>\n",
                            "\t<tr><td>NZ First     </td><td>NZ First     </td><td>same     </td><td>  82</td></tr>\n",
                            "\t<tr><td>NZ First     </td><td>United Future</td><td>different</td><td>   9</td></tr>\n",
                            "\t<tr><td>NZ First     </td><td>NA           </td><td>NA       </td><td>   2</td></tr>\n",
                            "\t<tr><td>United Future</td><td>National     </td><td>different</td><td>   8</td></tr>\n",
                            "\t<tr><td>United Future</td><td>NZ First     </td><td>different</td><td>   1</td></tr>\n",
                            "\t<tr><td>United Future</td><td>United Future</td><td>same     </td><td>   5</td></tr>\n",
                            "\t<tr><td>NA           </td><td>Act          </td><td>NA       </td><td>   4</td></tr>\n",
                            "\t<tr><td>NA           </td><td>Green        </td><td>NA       </td><td>  32</td></tr>\n",
                            "\t<tr><td>NA           </td><td>Labour       </td><td>NA       </td><td> 121</td></tr>\n",
                            "\t<tr><td>NA           </td><td>Mana         </td><td>NA       </td><td>   4</td></tr>\n",
                            "\t<tr><td>NA           </td><td>National     </td><td>NA       </td><td>  92</td></tr>\n",
                            "\t<tr><td>NA           </td><td>NZ First     </td><td>NA       </td><td>  17</td></tr>\n",
                            "\t<tr><td>NA           </td><td>United Future</td><td>NA       </td><td>  12</td></tr>\n",
                            "\t<tr><td>NA           </td><td>NA           </td><td>NA       </td><td>  26</td></tr>\n",
                            "</tbody>\n",
                            "</table>\n"
                        ],
                        "text/latex": [
                            "A grouped\\_df: 82 × 4\n",
                            "\\begin{tabular}{llll}\n",
                            " jpartyvote & X\\_singlefav & sameparty & count\\\\\n",
                            " <chr> & <chr> & <chr> & <int>\\\\\n",
                            "\\hline\n",
                            "\t Act           & Act           & same      &  12\\\\\n",
                            "\t Act           & Green         & different &   1\\\\\n",
                            "\t Act           & National      & different &  14\\\\\n",
                            "\t Act           & United Future & different &   1\\\\\n",
                            "\t Act           & NA            & NA        &   1\\\\\n",
                            "\t ALC           & Green         & different &   1\\\\\n",
                            "\t ALC           & Labour        & different &   4\\\\\n",
                            "\t ALC           & National      & different &   2\\\\\n",
                            "\t ALC           & United Future & different &   3\\\\\n",
                            "\t Alliance      & Labour        & different &   1\\\\\n",
                            "\t Alliance      & National      & different &   1\\\\\n",
                            "\t Another party & Green         & different &   2\\\\\n",
                            "\t Another party & Labour        & different &   4\\\\\n",
                            "\t Another party & National      & different &   2\\\\\n",
                            "\t Conservative  & Act           & different &   2\\\\\n",
                            "\t Conservative  & Green         & different &   3\\\\\n",
                            "\t Conservative  & Labour        & different &  16\\\\\n",
                            "\t Conservative  & National      & different &  43\\\\\n",
                            "\t Conservative  & NZ First      & different &   6\\\\\n",
                            "\t Conservative  & United Future & different &   3\\\\\n",
                            "\t Conservative  & NA            & NA        &   1\\\\\n",
                            "\t Don't know    & Green         & different &   2\\\\\n",
                            "\t Don't know    & Labour        & different &   8\\\\\n",
                            "\t Don't know    & Mana          & different &   1\\\\\n",
                            "\t Don't know    & National      & different &   2\\\\\n",
                            "\t Don't know    & NZ First      & different &   2\\\\\n",
                            "\t Don't know    & United Future & different &   1\\\\\n",
                            "\t Don't know    & NA            & NA        &   7\\\\\n",
                            "\t Green         & Act           & different &   1\\\\\n",
                            "\t Green         & Green         & same      & 237\\\\\n",
                            "\t ... & ... & ... & ...\\\\\n",
                            "\t Maori Party   & Mana          & different &    2\\\\\n",
                            "\t Maori Party   & National      & different &   16\\\\\n",
                            "\t Maori Party   & NZ First      & different &    9\\\\\n",
                            "\t Maori Party   & United Future & different &   53\\\\\n",
                            "\t Maori Party   & NA            & NA        &    2\\\\\n",
                            "\t National      & Act           & different &   11\\\\\n",
                            "\t National      & Green         & different &   10\\\\\n",
                            "\t National      & Labour        & different &   78\\\\\n",
                            "\t National      & National      & same      & 1004\\\\\n",
                            "\t National      & NZ First      & different &    6\\\\\n",
                            "\t National      & United Future & different &   14\\\\\n",
                            "\t National      & NA            & NA        &    7\\\\\n",
                            "\t NZ First      & Act           & different &    1\\\\\n",
                            "\t NZ First      & Green         & different &   21\\\\\n",
                            "\t NZ First      & Labour        & different &   76\\\\\n",
                            "\t NZ First      & National      & different &   25\\\\\n",
                            "\t NZ First      & NZ First      & same      &   82\\\\\n",
                            "\t NZ First      & United Future & different &    9\\\\\n",
                            "\t NZ First      & NA            & NA        &    2\\\\\n",
                            "\t United Future & National      & different &    8\\\\\n",
                            "\t United Future & NZ First      & different &    1\\\\\n",
                            "\t United Future & United Future & same      &    5\\\\\n",
                            "\t NA            & Act           & NA        &    4\\\\\n",
                            "\t NA            & Green         & NA        &   32\\\\\n",
                            "\t NA            & Labour        & NA        &  121\\\\\n",
                            "\t NA            & Mana          & NA        &    4\\\\\n",
                            "\t NA            & National      & NA        &   92\\\\\n",
                            "\t NA            & NZ First      & NA        &   17\\\\\n",
                            "\t NA            & United Future & NA        &   12\\\\\n",
                            "\t NA            & NA            & NA        &   26\\\\\n",
                            "\\end{tabular}\n"
                        ],
                        "text/markdown": [
                            "\n",
                            "A grouped_df: 82 × 4\n",
                            "\n",
                            "| jpartyvote &lt;chr&gt; | X_singlefav &lt;chr&gt; | sameparty &lt;chr&gt; | count &lt;int&gt; |\n",
                            "|---|---|---|---|\n",
                            "| Act           | Act           | same      |  12 |\n",
                            "| Act           | Green         | different |   1 |\n",
                            "| Act           | National      | different |  14 |\n",
                            "| Act           | United Future | different |   1 |\n",
                            "| Act           | NA            | NA        |   1 |\n",
                            "| ALC           | Green         | different |   1 |\n",
                            "| ALC           | Labour        | different |   4 |\n",
                            "| ALC           | National      | different |   2 |\n",
                            "| ALC           | United Future | different |   3 |\n",
                            "| Alliance      | Labour        | different |   1 |\n",
                            "| Alliance      | National      | different |   1 |\n",
                            "| Another party | Green         | different |   2 |\n",
                            "| Another party | Labour        | different |   4 |\n",
                            "| Another party | National      | different |   2 |\n",
                            "| Conservative  | Act           | different |   2 |\n",
                            "| Conservative  | Green         | different |   3 |\n",
                            "| Conservative  | Labour        | different |  16 |\n",
                            "| Conservative  | National      | different |  43 |\n",
                            "| Conservative  | NZ First      | different |   6 |\n",
                            "| Conservative  | United Future | different |   3 |\n",
                            "| Conservative  | NA            | NA        |   1 |\n",
                            "| Don't know    | Green         | different |   2 |\n",
                            "| Don't know    | Labour        | different |   8 |\n",
                            "| Don't know    | Mana          | different |   1 |\n",
                            "| Don't know    | National      | different |   2 |\n",
                            "| Don't know    | NZ First      | different |   2 |\n",
                            "| Don't know    | United Future | different |   1 |\n",
                            "| Don't know    | NA            | NA        |   7 |\n",
                            "| Green         | Act           | different |   1 |\n",
                            "| Green         | Green         | same      | 237 |\n",
                            "| ... | ... | ... | ... |\n",
                            "| Maori Party   | Mana          | different |    2 |\n",
                            "| Maori Party   | National      | different |   16 |\n",
                            "| Maori Party   | NZ First      | different |    9 |\n",
                            "| Maori Party   | United Future | different |   53 |\n",
                            "| Maori Party   | NA            | NA        |    2 |\n",
                            "| National      | Act           | different |   11 |\n",
                            "| National      | Green         | different |   10 |\n",
                            "| National      | Labour        | different |   78 |\n",
                            "| National      | National      | same      | 1004 |\n",
                            "| National      | NZ First      | different |    6 |\n",
                            "| National      | United Future | different |   14 |\n",
                            "| National      | NA            | NA        |    7 |\n",
                            "| NZ First      | Act           | different |    1 |\n",
                            "| NZ First      | Green         | different |   21 |\n",
                            "| NZ First      | Labour        | different |   76 |\n",
                            "| NZ First      | National      | different |   25 |\n",
                            "| NZ First      | NZ First      | same      |   82 |\n",
                            "| NZ First      | United Future | different |    9 |\n",
                            "| NZ First      | NA            | NA        |    2 |\n",
                            "| United Future | National      | different |    8 |\n",
                            "| United Future | NZ First      | different |    1 |\n",
                            "| United Future | United Future | same      |    5 |\n",
                            "| NA            | Act           | NA        |    4 |\n",
                            "| NA            | Green         | NA        |   32 |\n",
                            "| NA            | Labour        | NA        |  121 |\n",
                            "| NA            | Mana          | NA        |    4 |\n",
                            "| NA            | National      | NA        |   92 |\n",
                            "| NA            | NZ First      | NA        |   17 |\n",
                            "| NA            | United Future | NA        |   12 |\n",
                            "| NA            | NA            | NA        |   26 |\n",
                            "\n"
                        ],
                        "text/plain": [
                            "    jpartyvote    X_singlefav   sameparty count\n",
                            "1   Act           Act           same       12  \n",
                            "2   Act           Green         different   1  \n",
                            "3   Act           National      different  14  \n",
                            "4   Act           United Future different   1  \n",
                            "5   Act           NA            NA          1  \n",
                            "6   ALC           Green         different   1  \n",
                            "7   ALC           Labour        different   4  \n",
                            "8   ALC           National      different   2  \n",
                            "9   ALC           United Future different   3  \n",
                            "10  Alliance      Labour        different   1  \n",
                            "11  Alliance      National      different   1  \n",
                            "12  Another party Green         different   2  \n",
                            "13  Another party Labour        different   4  \n",
                            "14  Another party National      different   2  \n",
                            "15  Conservative  Act           different   2  \n",
                            "16  Conservative  Green         different   3  \n",
                            "17  Conservative  Labour        different  16  \n",
                            "18  Conservative  National      different  43  \n",
                            "19  Conservative  NZ First      different   6  \n",
                            "20  Conservative  United Future different   3  \n",
                            "21  Conservative  NA            NA          1  \n",
                            "22  Don't know    Green         different   2  \n",
                            "23  Don't know    Labour        different   8  \n",
                            "24  Don't know    Mana          different   1  \n",
                            "25  Don't know    National      different   2  \n",
                            "26  Don't know    NZ First      different   2  \n",
                            "27  Don't know    United Future different   1  \n",
                            "28  Don't know    NA            NA          7  \n",
                            "29  Green         Act           different   1  \n",
                            "30  Green         Green         same      237  \n",
                            "... ...           ...           ...       ...  \n",
                            "53  Maori Party   Mana          different    2 \n",
                            "54  Maori Party   National      different   16 \n",
                            "55  Maori Party   NZ First      different    9 \n",
                            "56  Maori Party   United Future different   53 \n",
                            "57  Maori Party   NA            NA           2 \n",
                            "58  National      Act           different   11 \n",
                            "59  National      Green         different   10 \n",
                            "60  National      Labour        different   78 \n",
                            "61  National      National      same      1004 \n",
                            "62  National      NZ First      different    6 \n",
                            "63  National      United Future different   14 \n",
                            "64  National      NA            NA           7 \n",
                            "65  NZ First      Act           different    1 \n",
                            "66  NZ First      Green         different   21 \n",
                            "67  NZ First      Labour        different   76 \n",
                            "68  NZ First      National      different   25 \n",
                            "69  NZ First      NZ First      same        82 \n",
                            "70  NZ First      United Future different    9 \n",
                            "71  NZ First      NA            NA           2 \n",
                            "72  United Future National      different    8 \n",
                            "73  United Future NZ First      different    1 \n",
                            "74  United Future United Future same         5 \n",
                            "75  NA            Act           NA           4 \n",
                            "76  NA            Green         NA          32 \n",
                            "77  NA            Labour        NA         121 \n",
                            "78  NA            Mana          NA           4 \n",
                            "79  NA            National      NA          92 \n",
                            "80  NA            NZ First      NA          17 \n",
                            "81  NA            United Future NA          12 \n",
                            "82  NA            NA            NA          26 "
                        ]
                    },
                    "metadata": {},
                    "output_type": "display_data"
                }
            ],
            "source": [
                "selected_nzes2011 %>% \n",
                "group_by(jpartyvote, X_singlefav, sameparty) %>%\n",
                "  summarise(count = n())"
            ]
        },
        {
            "cell_type": "markdown",
            "metadata": {},
            "source": [
                "We can see that observations where `jpartyvote` equaled `X_singlefav`, the value `\"same\"` was recorded for the new variable `sameparty`, and the value `\"different\"` was recorded otherwise. If either `jpartyvote` or `X_singlefav` had an `NA`, R could not check for equality and hence `NA` was recorded for the `sameparty` variable as well.\n",
                "\n",
                "To view and summarize the \"same\" entries we can use the following:\n"
            ]
        },
        {
            "cell_type": "code",
            "execution_count": 29,
            "metadata": {},
            "outputs": [
                {
                    "name": "stderr",
                    "output_type": "stream",
                    "text": [
                        "`summarise()` has grouped output by 'jpartyvote', 'X_singlefav'. You can override using the `.groups` argument.\n",
                        "\n"
                    ]
                },
                {
                    "data": {
                        "text/html": [
                            "<table class=\"dataframe\">\n",
                            "<caption>A grouped_df: 7 × 4</caption>\n",
                            "<thead>\n",
                            "\t<tr><th scope=col>jpartyvote</th><th scope=col>X_singlefav</th><th scope=col>sameparty</th><th scope=col>count</th></tr>\n",
                            "\t<tr><th scope=col>&lt;chr&gt;</th><th scope=col>&lt;chr&gt;</th><th scope=col>&lt;chr&gt;</th><th scope=col>&lt;int&gt;</th></tr>\n",
                            "</thead>\n",
                            "<tbody>\n",
                            "\t<tr><td>Act          </td><td>Act          </td><td>same</td><td>  12</td></tr>\n",
                            "\t<tr><td>Green        </td><td>Green        </td><td>same</td><td> 237</td></tr>\n",
                            "\t<tr><td>Labour       </td><td>Labour       </td><td>same</td><td> 632</td></tr>\n",
                            "\t<tr><td>Mana         </td><td>Mana         </td><td>same</td><td>  31</td></tr>\n",
                            "\t<tr><td>National     </td><td>National     </td><td>same</td><td>1004</td></tr>\n",
                            "\t<tr><td>NZ First     </td><td>NZ First     </td><td>same</td><td>  82</td></tr>\n",
                            "\t<tr><td>United Future</td><td>United Future</td><td>same</td><td>   5</td></tr>\n",
                            "</tbody>\n",
                            "</table>\n"
                        ],
                        "text/latex": [
                            "A grouped\\_df: 7 × 4\n",
                            "\\begin{tabular}{llll}\n",
                            " jpartyvote & X\\_singlefav & sameparty & count\\\\\n",
                            " <chr> & <chr> & <chr> & <int>\\\\\n",
                            "\\hline\n",
                            "\t Act           & Act           & same &   12\\\\\n",
                            "\t Green         & Green         & same &  237\\\\\n",
                            "\t Labour        & Labour        & same &  632\\\\\n",
                            "\t Mana          & Mana          & same &   31\\\\\n",
                            "\t National      & National      & same & 1004\\\\\n",
                            "\t NZ First      & NZ First      & same &   82\\\\\n",
                            "\t United Future & United Future & same &    5\\\\\n",
                            "\\end{tabular}\n"
                        ],
                        "text/markdown": [
                            "\n",
                            "A grouped_df: 7 × 4\n",
                            "\n",
                            "| jpartyvote &lt;chr&gt; | X_singlefav &lt;chr&gt; | sameparty &lt;chr&gt; | count &lt;int&gt; |\n",
                            "|---|---|---|---|\n",
                            "| Act           | Act           | same |   12 |\n",
                            "| Green         | Green         | same |  237 |\n",
                            "| Labour        | Labour        | same |  632 |\n",
                            "| Mana          | Mana          | same |   31 |\n",
                            "| National      | National      | same | 1004 |\n",
                            "| NZ First      | NZ First      | same |   82 |\n",
                            "| United Future | United Future | same |    5 |\n",
                            "\n"
                        ],
                        "text/plain": [
                            "  jpartyvote    X_singlefav   sameparty count\n",
                            "1 Act           Act           same        12 \n",
                            "2 Green         Green         same       237 \n",
                            "3 Labour        Labour        same       632 \n",
                            "4 Mana          Mana          same        31 \n",
                            "5 National      National      same      1004 \n",
                            "6 NZ First      NZ First      same        82 \n",
                            "7 United Future United Future same         5 "
                        ]
                    },
                    "metadata": {},
                    "output_type": "display_data"
                }
            ],
            "source": [
                "selected_nzes2011 %>% \n",
                "  group_by(jpartyvote, X_singlefav, sameparty) %>%\n",
                "  summarise(count = n()) %>% \n",
                "  filter(sameparty == \"same\")"
            ]
        },
        {
            "cell_type": "markdown",
            "metadata": {},
            "source": [
                "And to view and summarize the \"different\" entries we can use the following:\n",
                "\n"
            ]
        },
        {
            "cell_type": "code",
            "execution_count": 30,
            "metadata": {},
            "outputs": [
                {
                    "name": "stderr",
                    "output_type": "stream",
                    "text": [
                        "`summarise()` has grouped output by 'jpartyvote', 'X_singlefav'. You can override using the `.groups` argument.\n",
                        "\n"
                    ]
                },
                {
                    "data": {
                        "text/html": [
                            "<table class=\"dataframe\">\n",
                            "<caption>A grouped_df: 59 × 4</caption>\n",
                            "<thead>\n",
                            "\t<tr><th scope=col>jpartyvote</th><th scope=col>X_singlefav</th><th scope=col>sameparty</th><th scope=col>count</th></tr>\n",
                            "\t<tr><th scope=col>&lt;chr&gt;</th><th scope=col>&lt;chr&gt;</th><th scope=col>&lt;chr&gt;</th><th scope=col>&lt;int&gt;</th></tr>\n",
                            "</thead>\n",
                            "<tbody>\n",
                            "\t<tr><td>Act          </td><td>Green        </td><td>different</td><td> 1</td></tr>\n",
                            "\t<tr><td>Act          </td><td>National     </td><td>different</td><td>14</td></tr>\n",
                            "\t<tr><td>Act          </td><td>United Future</td><td>different</td><td> 1</td></tr>\n",
                            "\t<tr><td>ALC          </td><td>Green        </td><td>different</td><td> 1</td></tr>\n",
                            "\t<tr><td>ALC          </td><td>Labour       </td><td>different</td><td> 4</td></tr>\n",
                            "\t<tr><td>ALC          </td><td>National     </td><td>different</td><td> 2</td></tr>\n",
                            "\t<tr><td>ALC          </td><td>United Future</td><td>different</td><td> 3</td></tr>\n",
                            "\t<tr><td>Alliance     </td><td>Labour       </td><td>different</td><td> 1</td></tr>\n",
                            "\t<tr><td>Alliance     </td><td>National     </td><td>different</td><td> 1</td></tr>\n",
                            "\t<tr><td>Another party</td><td>Green        </td><td>different</td><td> 2</td></tr>\n",
                            "\t<tr><td>Another party</td><td>Labour       </td><td>different</td><td> 4</td></tr>\n",
                            "\t<tr><td>Another party</td><td>National     </td><td>different</td><td> 2</td></tr>\n",
                            "\t<tr><td>Conservative </td><td>Act          </td><td>different</td><td> 2</td></tr>\n",
                            "\t<tr><td>Conservative </td><td>Green        </td><td>different</td><td> 3</td></tr>\n",
                            "\t<tr><td>Conservative </td><td>Labour       </td><td>different</td><td>16</td></tr>\n",
                            "\t<tr><td>Conservative </td><td>National     </td><td>different</td><td>43</td></tr>\n",
                            "\t<tr><td>Conservative </td><td>NZ First     </td><td>different</td><td> 6</td></tr>\n",
                            "\t<tr><td>Conservative </td><td>United Future</td><td>different</td><td> 3</td></tr>\n",
                            "\t<tr><td>Don't know   </td><td>Green        </td><td>different</td><td> 2</td></tr>\n",
                            "\t<tr><td>Don't know   </td><td>Labour       </td><td>different</td><td> 8</td></tr>\n",
                            "\t<tr><td>Don't know   </td><td>Mana         </td><td>different</td><td> 1</td></tr>\n",
                            "\t<tr><td>Don't know   </td><td>National     </td><td>different</td><td> 2</td></tr>\n",
                            "\t<tr><td>Don't know   </td><td>NZ First     </td><td>different</td><td> 2</td></tr>\n",
                            "\t<tr><td>Don't know   </td><td>United Future</td><td>different</td><td> 1</td></tr>\n",
                            "\t<tr><td>Green        </td><td>Act          </td><td>different</td><td> 1</td></tr>\n",
                            "\t<tr><td>Green        </td><td>Labour       </td><td>different</td><td>66</td></tr>\n",
                            "\t<tr><td>Green        </td><td>Mana         </td><td>different</td><td> 2</td></tr>\n",
                            "\t<tr><td>Green        </td><td>National     </td><td>different</td><td>28</td></tr>\n",
                            "\t<tr><td>Green        </td><td>NZ First     </td><td>different</td><td> 4</td></tr>\n",
                            "\t<tr><td>Green        </td><td>United Future</td><td>different</td><td> 9</td></tr>\n",
                            "\t<tr><td>Labour       </td><td>Act          </td><td>different</td><td> 2</td></tr>\n",
                            "\t<tr><td>Labour       </td><td>Green        </td><td>different</td><td>48</td></tr>\n",
                            "\t<tr><td>Labour       </td><td>Mana         </td><td>different</td><td> 7</td></tr>\n",
                            "\t<tr><td>Labour       </td><td>National     </td><td>different</td><td>28</td></tr>\n",
                            "\t<tr><td>Labour       </td><td>NZ First     </td><td>different</td><td> 9</td></tr>\n",
                            "\t<tr><td>Labour       </td><td>United Future</td><td>different</td><td>12</td></tr>\n",
                            "\t<tr><td>Mana         </td><td>Green        </td><td>different</td><td>14</td></tr>\n",
                            "\t<tr><td>Mana         </td><td>Labour       </td><td>different</td><td> 8</td></tr>\n",
                            "\t<tr><td>Mana         </td><td>National     </td><td>different</td><td> 1</td></tr>\n",
                            "\t<tr><td>Mana         </td><td>NZ First     </td><td>different</td><td> 2</td></tr>\n",
                            "\t<tr><td>Mana         </td><td>United Future</td><td>different</td><td> 6</td></tr>\n",
                            "\t<tr><td>Maori Party  </td><td>Green        </td><td>different</td><td>17</td></tr>\n",
                            "\t<tr><td>Maori Party  </td><td>Labour       </td><td>different</td><td>29</td></tr>\n",
                            "\t<tr><td>Maori Party  </td><td>Mana         </td><td>different</td><td> 2</td></tr>\n",
                            "\t<tr><td>Maori Party  </td><td>National     </td><td>different</td><td>16</td></tr>\n",
                            "\t<tr><td>Maori Party  </td><td>NZ First     </td><td>different</td><td> 9</td></tr>\n",
                            "\t<tr><td>Maori Party  </td><td>United Future</td><td>different</td><td>53</td></tr>\n",
                            "\t<tr><td>National     </td><td>Act          </td><td>different</td><td>11</td></tr>\n",
                            "\t<tr><td>National     </td><td>Green        </td><td>different</td><td>10</td></tr>\n",
                            "\t<tr><td>National     </td><td>Labour       </td><td>different</td><td>78</td></tr>\n",
                            "\t<tr><td>National     </td><td>NZ First     </td><td>different</td><td> 6</td></tr>\n",
                            "\t<tr><td>National     </td><td>United Future</td><td>different</td><td>14</td></tr>\n",
                            "\t<tr><td>NZ First     </td><td>Act          </td><td>different</td><td> 1</td></tr>\n",
                            "\t<tr><td>NZ First     </td><td>Green        </td><td>different</td><td>21</td></tr>\n",
                            "\t<tr><td>NZ First     </td><td>Labour       </td><td>different</td><td>76</td></tr>\n",
                            "\t<tr><td>NZ First     </td><td>National     </td><td>different</td><td>25</td></tr>\n",
                            "\t<tr><td>NZ First     </td><td>United Future</td><td>different</td><td> 9</td></tr>\n",
                            "\t<tr><td>United Future</td><td>National     </td><td>different</td><td> 8</td></tr>\n",
                            "\t<tr><td>United Future</td><td>NZ First     </td><td>different</td><td> 1</td></tr>\n",
                            "</tbody>\n",
                            "</table>\n"
                        ],
                        "text/latex": [
                            "A grouped\\_df: 59 × 4\n",
                            "\\begin{tabular}{llll}\n",
                            " jpartyvote & X\\_singlefav & sameparty & count\\\\\n",
                            " <chr> & <chr> & <chr> & <int>\\\\\n",
                            "\\hline\n",
                            "\t Act           & Green         & different &  1\\\\\n",
                            "\t Act           & National      & different & 14\\\\\n",
                            "\t Act           & United Future & different &  1\\\\\n",
                            "\t ALC           & Green         & different &  1\\\\\n",
                            "\t ALC           & Labour        & different &  4\\\\\n",
                            "\t ALC           & National      & different &  2\\\\\n",
                            "\t ALC           & United Future & different &  3\\\\\n",
                            "\t Alliance      & Labour        & different &  1\\\\\n",
                            "\t Alliance      & National      & different &  1\\\\\n",
                            "\t Another party & Green         & different &  2\\\\\n",
                            "\t Another party & Labour        & different &  4\\\\\n",
                            "\t Another party & National      & different &  2\\\\\n",
                            "\t Conservative  & Act           & different &  2\\\\\n",
                            "\t Conservative  & Green         & different &  3\\\\\n",
                            "\t Conservative  & Labour        & different & 16\\\\\n",
                            "\t Conservative  & National      & different & 43\\\\\n",
                            "\t Conservative  & NZ First      & different &  6\\\\\n",
                            "\t Conservative  & United Future & different &  3\\\\\n",
                            "\t Don't know    & Green         & different &  2\\\\\n",
                            "\t Don't know    & Labour        & different &  8\\\\\n",
                            "\t Don't know    & Mana          & different &  1\\\\\n",
                            "\t Don't know    & National      & different &  2\\\\\n",
                            "\t Don't know    & NZ First      & different &  2\\\\\n",
                            "\t Don't know    & United Future & different &  1\\\\\n",
                            "\t Green         & Act           & different &  1\\\\\n",
                            "\t Green         & Labour        & different & 66\\\\\n",
                            "\t Green         & Mana          & different &  2\\\\\n",
                            "\t Green         & National      & different & 28\\\\\n",
                            "\t Green         & NZ First      & different &  4\\\\\n",
                            "\t Green         & United Future & different &  9\\\\\n",
                            "\t Labour        & Act           & different &  2\\\\\n",
                            "\t Labour        & Green         & different & 48\\\\\n",
                            "\t Labour        & Mana          & different &  7\\\\\n",
                            "\t Labour        & National      & different & 28\\\\\n",
                            "\t Labour        & NZ First      & different &  9\\\\\n",
                            "\t Labour        & United Future & different & 12\\\\\n",
                            "\t Mana          & Green         & different & 14\\\\\n",
                            "\t Mana          & Labour        & different &  8\\\\\n",
                            "\t Mana          & National      & different &  1\\\\\n",
                            "\t Mana          & NZ First      & different &  2\\\\\n",
                            "\t Mana          & United Future & different &  6\\\\\n",
                            "\t Maori Party   & Green         & different & 17\\\\\n",
                            "\t Maori Party   & Labour        & different & 29\\\\\n",
                            "\t Maori Party   & Mana          & different &  2\\\\\n",
                            "\t Maori Party   & National      & different & 16\\\\\n",
                            "\t Maori Party   & NZ First      & different &  9\\\\\n",
                            "\t Maori Party   & United Future & different & 53\\\\\n",
                            "\t National      & Act           & different & 11\\\\\n",
                            "\t National      & Green         & different & 10\\\\\n",
                            "\t National      & Labour        & different & 78\\\\\n",
                            "\t National      & NZ First      & different &  6\\\\\n",
                            "\t National      & United Future & different & 14\\\\\n",
                            "\t NZ First      & Act           & different &  1\\\\\n",
                            "\t NZ First      & Green         & different & 21\\\\\n",
                            "\t NZ First      & Labour        & different & 76\\\\\n",
                            "\t NZ First      & National      & different & 25\\\\\n",
                            "\t NZ First      & United Future & different &  9\\\\\n",
                            "\t United Future & National      & different &  8\\\\\n",
                            "\t United Future & NZ First      & different &  1\\\\\n",
                            "\\end{tabular}\n"
                        ],
                        "text/markdown": [
                            "\n",
                            "A grouped_df: 59 × 4\n",
                            "\n",
                            "| jpartyvote &lt;chr&gt; | X_singlefav &lt;chr&gt; | sameparty &lt;chr&gt; | count &lt;int&gt; |\n",
                            "|---|---|---|---|\n",
                            "| Act           | Green         | different |  1 |\n",
                            "| Act           | National      | different | 14 |\n",
                            "| Act           | United Future | different |  1 |\n",
                            "| ALC           | Green         | different |  1 |\n",
                            "| ALC           | Labour        | different |  4 |\n",
                            "| ALC           | National      | different |  2 |\n",
                            "| ALC           | United Future | different |  3 |\n",
                            "| Alliance      | Labour        | different |  1 |\n",
                            "| Alliance      | National      | different |  1 |\n",
                            "| Another party | Green         | different |  2 |\n",
                            "| Another party | Labour        | different |  4 |\n",
                            "| Another party | National      | different |  2 |\n",
                            "| Conservative  | Act           | different |  2 |\n",
                            "| Conservative  | Green         | different |  3 |\n",
                            "| Conservative  | Labour        | different | 16 |\n",
                            "| Conservative  | National      | different | 43 |\n",
                            "| Conservative  | NZ First      | different |  6 |\n",
                            "| Conservative  | United Future | different |  3 |\n",
                            "| Don't know    | Green         | different |  2 |\n",
                            "| Don't know    | Labour        | different |  8 |\n",
                            "| Don't know    | Mana          | different |  1 |\n",
                            "| Don't know    | National      | different |  2 |\n",
                            "| Don't know    | NZ First      | different |  2 |\n",
                            "| Don't know    | United Future | different |  1 |\n",
                            "| Green         | Act           | different |  1 |\n",
                            "| Green         | Labour        | different | 66 |\n",
                            "| Green         | Mana          | different |  2 |\n",
                            "| Green         | National      | different | 28 |\n",
                            "| Green         | NZ First      | different |  4 |\n",
                            "| Green         | United Future | different |  9 |\n",
                            "| Labour        | Act           | different |  2 |\n",
                            "| Labour        | Green         | different | 48 |\n",
                            "| Labour        | Mana          | different |  7 |\n",
                            "| Labour        | National      | different | 28 |\n",
                            "| Labour        | NZ First      | different |  9 |\n",
                            "| Labour        | United Future | different | 12 |\n",
                            "| Mana          | Green         | different | 14 |\n",
                            "| Mana          | Labour        | different |  8 |\n",
                            "| Mana          | National      | different |  1 |\n",
                            "| Mana          | NZ First      | different |  2 |\n",
                            "| Mana          | United Future | different |  6 |\n",
                            "| Maori Party   | Green         | different | 17 |\n",
                            "| Maori Party   | Labour        | different | 29 |\n",
                            "| Maori Party   | Mana          | different |  2 |\n",
                            "| Maori Party   | National      | different | 16 |\n",
                            "| Maori Party   | NZ First      | different |  9 |\n",
                            "| Maori Party   | United Future | different | 53 |\n",
                            "| National      | Act           | different | 11 |\n",
                            "| National      | Green         | different | 10 |\n",
                            "| National      | Labour        | different | 78 |\n",
                            "| National      | NZ First      | different |  6 |\n",
                            "| National      | United Future | different | 14 |\n",
                            "| NZ First      | Act           | different |  1 |\n",
                            "| NZ First      | Green         | different | 21 |\n",
                            "| NZ First      | Labour        | different | 76 |\n",
                            "| NZ First      | National      | different | 25 |\n",
                            "| NZ First      | United Future | different |  9 |\n",
                            "| United Future | National      | different |  8 |\n",
                            "| United Future | NZ First      | different |  1 |\n",
                            "\n"
                        ],
                        "text/plain": [
                            "   jpartyvote    X_singlefav   sameparty count\n",
                            "1  Act           Green         different  1   \n",
                            "2  Act           National      different 14   \n",
                            "3  Act           United Future different  1   \n",
                            "4  ALC           Green         different  1   \n",
                            "5  ALC           Labour        different  4   \n",
                            "6  ALC           National      different  2   \n",
                            "7  ALC           United Future different  3   \n",
                            "8  Alliance      Labour        different  1   \n",
                            "9  Alliance      National      different  1   \n",
                            "10 Another party Green         different  2   \n",
                            "11 Another party Labour        different  4   \n",
                            "12 Another party National      different  2   \n",
                            "13 Conservative  Act           different  2   \n",
                            "14 Conservative  Green         different  3   \n",
                            "15 Conservative  Labour        different 16   \n",
                            "16 Conservative  National      different 43   \n",
                            "17 Conservative  NZ First      different  6   \n",
                            "18 Conservative  United Future different  3   \n",
                            "19 Don't know    Green         different  2   \n",
                            "20 Don't know    Labour        different  8   \n",
                            "21 Don't know    Mana          different  1   \n",
                            "22 Don't know    National      different  2   \n",
                            "23 Don't know    NZ First      different  2   \n",
                            "24 Don't know    United Future different  1   \n",
                            "25 Green         Act           different  1   \n",
                            "26 Green         Labour        different 66   \n",
                            "27 Green         Mana          different  2   \n",
                            "28 Green         National      different 28   \n",
                            "29 Green         NZ First      different  4   \n",
                            "30 Green         United Future different  9   \n",
                            "31 Labour        Act           different  2   \n",
                            "32 Labour        Green         different 48   \n",
                            "33 Labour        Mana          different  7   \n",
                            "34 Labour        National      different 28   \n",
                            "35 Labour        NZ First      different  9   \n",
                            "36 Labour        United Future different 12   \n",
                            "37 Mana          Green         different 14   \n",
                            "38 Mana          Labour        different  8   \n",
                            "39 Mana          National      different  1   \n",
                            "40 Mana          NZ First      different  2   \n",
                            "41 Mana          United Future different  6   \n",
                            "42 Maori Party   Green         different 17   \n",
                            "43 Maori Party   Labour        different 29   \n",
                            "44 Maori Party   Mana          different  2   \n",
                            "45 Maori Party   National      different 16   \n",
                            "46 Maori Party   NZ First      different  9   \n",
                            "47 Maori Party   United Future different 53   \n",
                            "48 National      Act           different 11   \n",
                            "49 National      Green         different 10   \n",
                            "50 National      Labour        different 78   \n",
                            "51 National      NZ First      different  6   \n",
                            "52 National      United Future different 14   \n",
                            "53 NZ First      Act           different  1   \n",
                            "54 NZ First      Green         different 21   \n",
                            "55 NZ First      Labour        different 76   \n",
                            "56 NZ First      National      different 25   \n",
                            "57 NZ First      United Future different  9   \n",
                            "58 United Future National      different  8   \n",
                            "59 United Future NZ First      different  1   "
                        ]
                    },
                    "metadata": {},
                    "output_type": "display_data"
                }
            ],
            "source": [
                "selected_nzes2011 %>% \n",
                "  group_by(jpartyvote, X_singlefav, sameparty) %>%\n",
                "  summarise(count = n()) %>% \n",
                "  filter(sameparty == \"different\")"
            ]
        },
        {
            "cell_type": "markdown",
            "metadata": {},
            "source": [
                "We can also check how we got any `NA`s we have by using the `is.na()` function:\n",
                "\n"
            ]
        },
        {
            "cell_type": "code",
            "execution_count": 31,
            "metadata": {},
            "outputs": [
                {
                    "name": "stderr",
                    "output_type": "stream",
                    "text": [
                        "`summarise()` has grouped output by 'jpartyvote', 'X_singlefav'. You can override using the `.groups` argument.\n",
                        "\n"
                    ]
                },
                {
                    "data": {
                        "text/html": [
                            "<table class=\"dataframe\">\n",
                            "<caption>A grouped_df: 16 × 4</caption>\n",
                            "<thead>\n",
                            "\t<tr><th scope=col>jpartyvote</th><th scope=col>X_singlefav</th><th scope=col>sameparty</th><th scope=col>count</th></tr>\n",
                            "\t<tr><th scope=col>&lt;chr&gt;</th><th scope=col>&lt;chr&gt;</th><th scope=col>&lt;chr&gt;</th><th scope=col>&lt;int&gt;</th></tr>\n",
                            "</thead>\n",
                            "<tbody>\n",
                            "\t<tr><td>Act         </td><td>NA           </td><td>NA</td><td>  1</td></tr>\n",
                            "\t<tr><td>Conservative</td><td>NA           </td><td>NA</td><td>  1</td></tr>\n",
                            "\t<tr><td>Don't know  </td><td>NA           </td><td>NA</td><td>  7</td></tr>\n",
                            "\t<tr><td>Green       </td><td>NA           </td><td>NA</td><td>  1</td></tr>\n",
                            "\t<tr><td>Labour      </td><td>NA           </td><td>NA</td><td> 11</td></tr>\n",
                            "\t<tr><td>Maori Party </td><td>NA           </td><td>NA</td><td>  2</td></tr>\n",
                            "\t<tr><td>National    </td><td>NA           </td><td>NA</td><td>  7</td></tr>\n",
                            "\t<tr><td>NZ First    </td><td>NA           </td><td>NA</td><td>  2</td></tr>\n",
                            "\t<tr><td>NA          </td><td>Act          </td><td>NA</td><td>  4</td></tr>\n",
                            "\t<tr><td>NA          </td><td>Green        </td><td>NA</td><td> 32</td></tr>\n",
                            "\t<tr><td>NA          </td><td>Labour       </td><td>NA</td><td>121</td></tr>\n",
                            "\t<tr><td>NA          </td><td>Mana         </td><td>NA</td><td>  4</td></tr>\n",
                            "\t<tr><td>NA          </td><td>National     </td><td>NA</td><td> 92</td></tr>\n",
                            "\t<tr><td>NA          </td><td>NZ First     </td><td>NA</td><td> 17</td></tr>\n",
                            "\t<tr><td>NA          </td><td>United Future</td><td>NA</td><td> 12</td></tr>\n",
                            "\t<tr><td>NA          </td><td>NA           </td><td>NA</td><td> 26</td></tr>\n",
                            "</tbody>\n",
                            "</table>\n"
                        ],
                        "text/latex": [
                            "A grouped\\_df: 16 × 4\n",
                            "\\begin{tabular}{llll}\n",
                            " jpartyvote & X\\_singlefav & sameparty & count\\\\\n",
                            " <chr> & <chr> & <chr> & <int>\\\\\n",
                            "\\hline\n",
                            "\t Act          & NA            & NA &   1\\\\\n",
                            "\t Conservative & NA            & NA &   1\\\\\n",
                            "\t Don't know   & NA            & NA &   7\\\\\n",
                            "\t Green        & NA            & NA &   1\\\\\n",
                            "\t Labour       & NA            & NA &  11\\\\\n",
                            "\t Maori Party  & NA            & NA &   2\\\\\n",
                            "\t National     & NA            & NA &   7\\\\\n",
                            "\t NZ First     & NA            & NA &   2\\\\\n",
                            "\t NA           & Act           & NA &   4\\\\\n",
                            "\t NA           & Green         & NA &  32\\\\\n",
                            "\t NA           & Labour        & NA & 121\\\\\n",
                            "\t NA           & Mana          & NA &   4\\\\\n",
                            "\t NA           & National      & NA &  92\\\\\n",
                            "\t NA           & NZ First      & NA &  17\\\\\n",
                            "\t NA           & United Future & NA &  12\\\\\n",
                            "\t NA           & NA            & NA &  26\\\\\n",
                            "\\end{tabular}\n"
                        ],
                        "text/markdown": [
                            "\n",
                            "A grouped_df: 16 × 4\n",
                            "\n",
                            "| jpartyvote &lt;chr&gt; | X_singlefav &lt;chr&gt; | sameparty &lt;chr&gt; | count &lt;int&gt; |\n",
                            "|---|---|---|---|\n",
                            "| Act          | NA            | NA |   1 |\n",
                            "| Conservative | NA            | NA |   1 |\n",
                            "| Don't know   | NA            | NA |   7 |\n",
                            "| Green        | NA            | NA |   1 |\n",
                            "| Labour       | NA            | NA |  11 |\n",
                            "| Maori Party  | NA            | NA |   2 |\n",
                            "| National     | NA            | NA |   7 |\n",
                            "| NZ First     | NA            | NA |   2 |\n",
                            "| NA           | Act           | NA |   4 |\n",
                            "| NA           | Green         | NA |  32 |\n",
                            "| NA           | Labour        | NA | 121 |\n",
                            "| NA           | Mana          | NA |   4 |\n",
                            "| NA           | National      | NA |  92 |\n",
                            "| NA           | NZ First      | NA |  17 |\n",
                            "| NA           | United Future | NA |  12 |\n",
                            "| NA           | NA            | NA |  26 |\n",
                            "\n"
                        ],
                        "text/plain": [
                            "   jpartyvote   X_singlefav   sameparty count\n",
                            "1  Act          NA            NA          1  \n",
                            "2  Conservative NA            NA          1  \n",
                            "3  Don't know   NA            NA          7  \n",
                            "4  Green        NA            NA          1  \n",
                            "5  Labour       NA            NA         11  \n",
                            "6  Maori Party  NA            NA          2  \n",
                            "7  National     NA            NA          7  \n",
                            "8  NZ First     NA            NA          2  \n",
                            "9  NA           Act           NA          4  \n",
                            "10 NA           Green         NA         32  \n",
                            "11 NA           Labour        NA        121  \n",
                            "12 NA           Mana          NA          4  \n",
                            "13 NA           National      NA         92  \n",
                            "14 NA           NZ First      NA         17  \n",
                            "15 NA           United Future NA         12  \n",
                            "16 NA           NA            NA         26  "
                        ]
                    },
                    "metadata": {},
                    "output_type": "display_data"
                }
            ],
            "source": [
                "selected_nzes2011 %>% \n",
                "  group_by(jpartyvote, X_singlefav, sameparty) %>%\n",
                "  summarise(count = n()) %>% \n",
                "  filter(is.na(sameparty))"
            ]
        },
        {
            "cell_type": "markdown",
            "metadata": {},
            "source": [
                "The checks show that the observations with `NA`s in the `sameparty`are going to be excluded from the analysis when we fiter out the `NA`s in the `jpartyvote` and `X_singlefav` variables, so we don't need to worry about them anymore. \n",
                "\n",
                "## Step four. Prepare for the second question\n",
                "\n",
                "As a second question, we might be interested in exploring the relationship between age of voters and how much they like the NZ First party. We become familiar with the variables `jnzflike` and `jage` in the codebook, then explore the data.\n"
            ]
        },
        {
            "cell_type": "code",
            "execution_count": 32,
            "metadata": {},
            "outputs": [
                {
                    "name": "stdout",
                    "output_type": "stream",
                    "text": [
                        " Factor w/ 12 levels \"0\",\"1\",\"10\",\"2\",..: 1 1 4 10 4 11 NA NA 1 12 ...\n",
                        " int [1:3101] 37 37 28 71 43 NA 59 68 64 70 ...\n"
                    ]
                }
            ],
            "source": [
                "str(selected_nzes2011$jnzflike)\n",
                "str(selected_nzes2011$jage)"
            ]
        },
        {
            "cell_type": "markdown",
            "metadata": {},
            "source": [
                "`jnzflike` is a factor variable, in fact it's ordinal and by default the levels are listed in alphabetical order. Since this is a categorical variable, we can also summarize the occurances of each level with `group_by()` and `summarise()` again:\n",
                "\n"
            ]
        },
        {
            "cell_type": "code",
            "execution_count": 33,
            "metadata": {},
            "outputs": [
                {
                    "data": {
                        "text/html": [
                            "<table class=\"dataframe\">\n",
                            "<caption>A tibble: 13 × 2</caption>\n",
                            "<thead>\n",
                            "\t<tr><th scope=col>jnzflike</th><th scope=col>count</th></tr>\n",
                            "\t<tr><th scope=col>&lt;fct&gt;</th><th scope=col>&lt;int&gt;</th></tr>\n",
                            "</thead>\n",
                            "<tbody>\n",
                            "\t<tr><td>0         </td><td>622</td></tr>\n",
                            "\t<tr><td>1         </td><td>298</td></tr>\n",
                            "\t<tr><td>10        </td><td>134</td></tr>\n",
                            "\t<tr><td>2         </td><td>266</td></tr>\n",
                            "\t<tr><td>3         </td><td>227</td></tr>\n",
                            "\t<tr><td>4         </td><td>162</td></tr>\n",
                            "\t<tr><td>5         </td><td>544</td></tr>\n",
                            "\t<tr><td>6         </td><td>165</td></tr>\n",
                            "\t<tr><td>7         </td><td>138</td></tr>\n",
                            "\t<tr><td>8         </td><td>107</td></tr>\n",
                            "\t<tr><td>9         </td><td> 81</td></tr>\n",
                            "\t<tr><td>Don't know</td><td>224</td></tr>\n",
                            "\t<tr><td>NA        </td><td>133</td></tr>\n",
                            "</tbody>\n",
                            "</table>\n"
                        ],
                        "text/latex": [
                            "A tibble: 13 × 2\n",
                            "\\begin{tabular}{ll}\n",
                            " jnzflike & count\\\\\n",
                            " <fct> & <int>\\\\\n",
                            "\\hline\n",
                            "\t 0          & 622\\\\\n",
                            "\t 1          & 298\\\\\n",
                            "\t 10         & 134\\\\\n",
                            "\t 2          & 266\\\\\n",
                            "\t 3          & 227\\\\\n",
                            "\t 4          & 162\\\\\n",
                            "\t 5          & 544\\\\\n",
                            "\t 6          & 165\\\\\n",
                            "\t 7          & 138\\\\\n",
                            "\t 8          & 107\\\\\n",
                            "\t 9          &  81\\\\\n",
                            "\t Don't know & 224\\\\\n",
                            "\t NA         & 133\\\\\n",
                            "\\end{tabular}\n"
                        ],
                        "text/markdown": [
                            "\n",
                            "A tibble: 13 × 2\n",
                            "\n",
                            "| jnzflike &lt;fct&gt; | count &lt;int&gt; |\n",
                            "|---|---|\n",
                            "| 0          | 622 |\n",
                            "| 1          | 298 |\n",
                            "| 10         | 134 |\n",
                            "| 2          | 266 |\n",
                            "| 3          | 227 |\n",
                            "| 4          | 162 |\n",
                            "| 5          | 544 |\n",
                            "| 6          | 165 |\n",
                            "| 7          | 138 |\n",
                            "| 8          | 107 |\n",
                            "| 9          |  81 |\n",
                            "| Don't know | 224 |\n",
                            "| NA         | 133 |\n",
                            "\n"
                        ],
                        "text/plain": [
                            "   jnzflike   count\n",
                            "1  0          622  \n",
                            "2  1          298  \n",
                            "3  10         134  \n",
                            "4  2          266  \n",
                            "5  3          227  \n",
                            "6  4          162  \n",
                            "7  5          544  \n",
                            "8  6          165  \n",
                            "9  7          138  \n",
                            "10 8          107  \n",
                            "11 9           81  \n",
                            "12 Don't know 224  \n",
                            "13 NA         133  "
                        ]
                    },
                    "metadata": {},
                    "output_type": "display_data"
                }
            ],
            "source": [
                "selected_nzes2011 %>% \n",
                "  group_by(jnzflike) %>% \n",
                "  summarise(count = n())"
            ]
        },
        {
            "cell_type": "markdown",
            "metadata": {},
            "source": [
                "While `jnzflike` is on a 0 to 10 scale, this variable also has a level labeled `\"Don't know\"`, which is why R stores this variable as not a numeric variable.\n",
                "\n",
                "`jage`, on the other hand, is an integer, with values that are whole numbers between 0 and infinity (or `NA`). For this variable we would want to take a look at numerical summaries such as means, medians, etc.\n"
            ]
        },
        {
            "cell_type": "code",
            "execution_count": 34,
            "metadata": {},
            "outputs": [
                {
                    "data": {
                        "text/html": [
                            "<table class=\"dataframe\">\n",
                            "<caption>A data.frame: 1 × 5</caption>\n",
                            "<thead>\n",
                            "\t<tr><th scope=col>agemean</th><th scope=col>agemedian</th><th scope=col>agesd</th><th scope=col>agemin</th><th scope=col>agemax</th></tr>\n",
                            "\t<tr><th scope=col>&lt;dbl&gt;</th><th scope=col>&lt;int&gt;</th><th scope=col>&lt;dbl&gt;</th><th scope=col>&lt;int&gt;</th><th scope=col>&lt;int&gt;</th></tr>\n",
                            "</thead>\n",
                            "<tbody>\n",
                            "\t<tr><td>NA</td><td>NA</td><td>NA</td><td>NA</td><td>NA</td></tr>\n",
                            "</tbody>\n",
                            "</table>\n"
                        ],
                        "text/latex": [
                            "A data.frame: 1 × 5\n",
                            "\\begin{tabular}{lllll}\n",
                            " agemean & agemedian & agesd & agemin & agemax\\\\\n",
                            " <dbl> & <int> & <dbl> & <int> & <int>\\\\\n",
                            "\\hline\n",
                            "\t NA & NA & NA & NA & NA\\\\\n",
                            "\\end{tabular}\n"
                        ],
                        "text/markdown": [
                            "\n",
                            "A data.frame: 1 × 5\n",
                            "\n",
                            "| agemean &lt;dbl&gt; | agemedian &lt;int&gt; | agesd &lt;dbl&gt; | agemin &lt;int&gt; | agemax &lt;int&gt; |\n",
                            "|---|---|---|---|---|\n",
                            "| NA | NA | NA | NA | NA |\n",
                            "\n"
                        ],
                        "text/plain": [
                            "  agemean agemedian agesd agemin agemax\n",
                            "1 NA      NA        NA    NA     NA    "
                        ]
                    },
                    "metadata": {},
                    "output_type": "display_data"
                }
            ],
            "source": [
                "selected_nzes2011 %>% \n",
                "  summarise(agemean = mean(jage), agemedian = median(jage), agesd = sd(jage), \n",
                "            agemin = min(jage), agemax = max(jage))"
            ]
        },
        {
            "cell_type": "markdown",
            "metadata": {},
            "source": [
                "What went wrong? The reason why all of the results were reported as NAs is that there were some NA entries in the `jage` variable (people not reporting their age). Since it is not possible to take the average of a series of values that contain `NA`s, obtaining the numerical summaries requires that we exclude the `NA`s from the calculation.\n",
                "\n",
                "Most numerical summary functions allow us to easily exclude `NA`s with the `na.rm` argument. See the help documentation for the `median` function for more information.\n"
            ]
        },
        {
            "cell_type": "code",
            "execution_count": 35,
            "metadata": {},
            "outputs": [
                {
                    "name": "stdout",
                    "output_type": "stream",
                    "text": [
                        "median                  package:stats                  R Documentation\n",
                        "\n",
                        "_\bM_\be_\bd_\bi_\ba_\bn _\bV_\ba_\bl_\bu_\be\n",
                        "\n",
                        "_\bD_\be_\bs_\bc_\br_\bi_\bp_\bt_\bi_\bo_\bn:\n",
                        "\n",
                        "     Compute the sample median.\n",
                        "\n",
                        "_\bU_\bs_\ba_\bg_\be:\n",
                        "\n",
                        "     median(x, na.rm = FALSE, ...)\n",
                        "     \n",
                        "_\bA_\br_\bg_\bu_\bm_\be_\bn_\bt_\bs:\n",
                        "\n",
                        "       x: an object for which a method has been defined, or a numeric\n",
                        "          vector containing the values whose median is to be computed.\n",
                        "\n",
                        "   na.rm: a logical value indicating whether 'NA' values should be\n",
                        "          stripped before the computation proceeds.\n",
                        "\n",
                        "     ...: potentially further arguments for methods; not used in the\n",
                        "          default method.\n",
                        "\n",
                        "_\bD_\be_\bt_\ba_\bi_\bl_\bs:\n",
                        "\n",
                        "     This is a generic function for which methods can be written.\n",
                        "     However, the default method makes use of 'is.na', 'sort' and\n",
                        "     'mean' from package 'base' all of which are generic, and so the\n",
                        "     default method will work for most classes (e.g., '\"Date\"') for\n",
                        "     which a median is a reasonable concept.\n",
                        "\n",
                        "_\bV_\ba_\bl_\bu_\be:\n",
                        "\n",
                        "     The default method returns a length-one object of the same type as\n",
                        "     'x', except when 'x' is logical or integer of even length, when\n",
                        "     the result will be double.\n",
                        "\n",
                        "     If there are no values or if 'na.rm = FALSE' and there are 'NA'\n",
                        "     values the result is 'NA' of the same type as 'x' (or more\n",
                        "     generally the result of 'x[FALSE][NA]').\n",
                        "\n",
                        "_\bR_\be_\bf_\be_\br_\be_\bn_\bc_\be_\bs:\n",
                        "\n",
                        "     Becker, R. A., Chambers, J. M. and Wilks, A. R. (1988) _The New S\n",
                        "     Language_.  Wadsworth & Brooks/Cole.\n",
                        "\n",
                        "_\bS_\be_\be _\bA_\bl_\bs_\bo:\n",
                        "\n",
                        "     'quantile' for general quantiles.\n",
                        "\n",
                        "_\bE_\bx_\ba_\bm_\bp_\bl_\be_\bs:\n",
                        "\n",
                        "     median(1:4)                # = 2.5 [even number]\n",
                        "     median(c(1:3, 100, 1000))  # = 3 [odd, robust]\n",
                        "     "
                    ]
                }
            ],
            "source": [
                "?median"
            ]
        },
        {
            "cell_type": "markdown",
            "metadata": {},
            "source": [
                "An alternative approach is just to `filter` out the `NA`s first, and then ask for the numerical summaries:\n",
                "\n"
            ]
        },
        {
            "cell_type": "code",
            "execution_count": 36,
            "metadata": {},
            "outputs": [
                {
                    "data": {
                        "text/html": [
                            "<table class=\"dataframe\">\n",
                            "<caption>A data.frame: 1 × 5</caption>\n",
                            "<thead>\n",
                            "\t<tr><th scope=col>agemean</th><th scope=col>agemedian</th><th scope=col>agesd</th><th scope=col>agemin</th><th scope=col>agemax</th></tr>\n",
                            "\t<tr><th scope=col>&lt;dbl&gt;</th><th scope=col>&lt;dbl&gt;</th><th scope=col>&lt;dbl&gt;</th><th scope=col>&lt;int&gt;</th><th scope=col>&lt;int&gt;</th></tr>\n",
                            "</thead>\n",
                            "<tbody>\n",
                            "\t<tr><td>53.22328</td><td>54</td><td>17.5371</td><td>18</td><td>100</td></tr>\n",
                            "</tbody>\n",
                            "</table>\n"
                        ],
                        "text/latex": [
                            "A data.frame: 1 × 5\n",
                            "\\begin{tabular}{lllll}\n",
                            " agemean & agemedian & agesd & agemin & agemax\\\\\n",
                            " <dbl> & <dbl> & <dbl> & <int> & <int>\\\\\n",
                            "\\hline\n",
                            "\t 53.22328 & 54 & 17.5371 & 18 & 100\\\\\n",
                            "\\end{tabular}\n"
                        ],
                        "text/markdown": [
                            "\n",
                            "A data.frame: 1 × 5\n",
                            "\n",
                            "| agemean &lt;dbl&gt; | agemedian &lt;dbl&gt; | agesd &lt;dbl&gt; | agemin &lt;int&gt; | agemax &lt;int&gt; |\n",
                            "|---|---|---|---|---|\n",
                            "| 53.22328 | 54 | 17.5371 | 18 | 100 |\n",
                            "\n"
                        ],
                        "text/plain": [
                            "  agemean  agemedian agesd   agemin agemax\n",
                            "1 53.22328 54        17.5371 18     100   "
                        ]
                    },
                    "metadata": {},
                    "output_type": "display_data"
                }
            ],
            "source": [
                "selected_nzes2011 %>% \n",
                "  filter(!(is.na(jage))) %>%\n",
                "  summarise(agemean = mean(jage), agemedian = median(jage), agesd = sd(jage), \n",
                "            agemin = min(jage), agemax = max(jage))"
            ]
        },
        {
            "cell_type": "markdown",
            "metadata": {},
            "source": [
                "An age range of 18 to 100 is a reasonable age range for a voting age population, so there are no obvious errors in the data. If there were, we would need to decide if we should filter them out of the analysis.\n",
                "\n",
                "Having gained some familiarity with the specific variables we are using, we next need to consider if there is additional work we should do on the data in investigating the question. There are a number of different approaches we might take. For example, we could consider if those that strongly like NZ First are older than those that strongly dislike NZ First, or we could consider if old people like NZ First more than young people.\n",
                "\n",
                "### Approach 1: Strongly liking and disliking NZ First and age\n",
                "\n",
                "If we wanted to select only two of the possible levels in how much people like NZ First, we can filter for these specific levels. When interested in filtering for multiple values a variable can take, the `%in%` operator can come in handy:\n"
            ]
        },
        {
            "cell_type": "code",
            "execution_count": 37,
            "metadata": {},
            "outputs": [
                {
                    "data": {
                        "text/html": [
                            "<table class=\"dataframe\">\n",
                            "<caption>A tibble: 2 × 2</caption>\n",
                            "<thead>\n",
                            "\t<tr><th scope=col>jnzflike</th><th scope=col>count</th></tr>\n",
                            "\t<tr><th scope=col>&lt;fct&gt;</th><th scope=col>&lt;int&gt;</th></tr>\n",
                            "</thead>\n",
                            "<tbody>\n",
                            "\t<tr><td>0 </td><td>622</td></tr>\n",
                            "\t<tr><td>10</td><td>134</td></tr>\n",
                            "</tbody>\n",
                            "</table>\n"
                        ],
                        "text/latex": [
                            "A tibble: 2 × 2\n",
                            "\\begin{tabular}{ll}\n",
                            " jnzflike & count\\\\\n",
                            " <fct> & <int>\\\\\n",
                            "\\hline\n",
                            "\t 0  & 622\\\\\n",
                            "\t 10 & 134\\\\\n",
                            "\\end{tabular}\n"
                        ],
                        "text/markdown": [
                            "\n",
                            "A tibble: 2 × 2\n",
                            "\n",
                            "| jnzflike &lt;fct&gt; | count &lt;int&gt; |\n",
                            "|---|---|\n",
                            "| 0  | 622 |\n",
                            "| 10 | 134 |\n",
                            "\n"
                        ],
                        "text/plain": [
                            "  jnzflike count\n",
                            "1 0        622  \n",
                            "2 10       134  "
                        ]
                    },
                    "metadata": {},
                    "output_type": "display_data"
                }
            ],
            "source": [
                "selected_nzes2011 %>% \n",
                "  filter(jnzflike %in% c(\"0\",\"10\")) %>%\n",
                "  group_by(jnzflike) %>% \n",
                "  summarise(count = n())"
            ]
        },
        {
            "cell_type": "markdown",
            "metadata": {},
            "source": [
                "Remember that the `jnzflike` is not a numerical variable, hence we use the quotation marks around the values (even though they happen to be numbers).\n",
                "\n",
                "This is an example of simpligying the analysis by considering only two levels of a categorical variable, as opposed to all possible levels.\n",
                "\n",
                "### Approach 2: Age and liking for NZ First\n",
                "\n",
                "We might also like to refine our question slightly, asking do people above retirement age (65 in New Zealand) like NZ First more than younger people. To do this we can turn the numeric age variable into a categorical variable based on whether people are 65 years or older or younger than 65. Once again we make use of the `mutate()` and `ifelse()` functions:\n"
            ]
        },
        {
            "cell_type": "code",
            "execution_count": 38,
            "metadata": {},
            "outputs": [
                {
                    "data": {
                        "text/html": [
                            "<table class=\"dataframe\">\n",
                            "<caption>A tibble: 3 × 2</caption>\n",
                            "<thead>\n",
                            "\t<tr><th scope=col>retiredage</th><th scope=col>count</th></tr>\n",
                            "\t<tr><th scope=col>&lt;chr&gt;</th><th scope=col>&lt;int&gt;</th></tr>\n",
                            "</thead>\n",
                            "<tbody>\n",
                            "\t<tr><td>retired age</td><td> 876</td></tr>\n",
                            "\t<tr><td>working age</td><td>2156</td></tr>\n",
                            "\t<tr><td>NA         </td><td>  69</td></tr>\n",
                            "</tbody>\n",
                            "</table>\n"
                        ],
                        "text/latex": [
                            "A tibble: 3 × 2\n",
                            "\\begin{tabular}{ll}\n",
                            " retiredage & count\\\\\n",
                            " <chr> & <int>\\\\\n",
                            "\\hline\n",
                            "\t retired age &  876\\\\\n",
                            "\t working age & 2156\\\\\n",
                            "\t NA          &   69\\\\\n",
                            "\\end{tabular}\n"
                        ],
                        "text/markdown": [
                            "\n",
                            "A tibble: 3 × 2\n",
                            "\n",
                            "| retiredage &lt;chr&gt; | count &lt;int&gt; |\n",
                            "|---|---|\n",
                            "| retired age |  876 |\n",
                            "| working age | 2156 |\n",
                            "| NA          |   69 |\n",
                            "\n"
                        ],
                        "text/plain": [
                            "  retiredage  count\n",
                            "1 retired age  876 \n",
                            "2 working age 2156 \n",
                            "3 NA            69 "
                        ]
                    },
                    "metadata": {},
                    "output_type": "display_data"
                }
            ],
            "source": [
                "selected_nzes2011 <- selected_nzes2011 %>% \n",
                "  mutate(retiredage = ifelse(jage >= 65, \"retired age\", \"working age\"))\n",
                "selected_nzes2011 %>% \n",
                "  group_by(retiredage) %>% \n",
                "  summarise(count = n())"
            ]
        },
        {
            "cell_type": "markdown",
            "metadata": {},
            "source": [
                "We can see that individuals in the dataset are now labeled as either `\"retired age\"` or `\"working age\"` or neither (`NA`), which we can easily filter out if need be.\n",
                "\n",
                "This is an example of using a numerical threshold to convert a numerical variable to a categorical variable.\n",
                "\n",
                "For approach 2, we might also be want to turn the scale of liking into numeric values, because at the moment we cannot easily get summary information of the data in factor form. For example, if we ty to run the following command, we get an error saying \"need numeric data\".\n"
            ]
        },
        {
            "cell_type": "code",
            "execution_count": null,
            "metadata": {},
            "outputs": [],
            "source": [
                "selected_nzes2011 %>% \n",
                "  group_by(retiredage) %>% \n",
                "  summarise(medlike = median(jnzflike))"
            ]
        },
        {
            "cell_type": "markdown",
            "metadata": {},
            "source": [
                "it generates a \"need numeric data\" error.\n",
                "\n",
                "We can change the type of data with functions of the form `as.thingtochangeto()`, but it is easy to go wrong with factors. For example, this is wrong:\n"
            ]
        },
        {
            "cell_type": "code",
            "execution_count": 40,
            "metadata": {},
            "outputs": [],
            "source": [
                "selected_nzes2011 <- selected_nzes2011 %>% \n",
                "  mutate(numlikenzf = as.numeric(jnzflike))"
            ]
        },
        {
            "cell_type": "markdown",
            "metadata": {},
            "source": [
                "We can see it has gone wrong if we use grouping to check our work (and it is a very good plan to check our work after converting factors).\n",
                "\n"
            ]
        },
        {
            "cell_type": "code",
            "execution_count": 41,
            "metadata": {},
            "outputs": [
                {
                    "name": "stderr",
                    "output_type": "stream",
                    "text": [
                        "`summarise()` has grouped output by 'jnzflike'. You can override using the `.groups` argument.\n",
                        "\n"
                    ]
                },
                {
                    "data": {
                        "text/html": [
                            "<table class=\"dataframe\">\n",
                            "<caption>A grouped_df: 13 × 3</caption>\n",
                            "<thead>\n",
                            "\t<tr><th scope=col>jnzflike</th><th scope=col>numlikenzf</th><th scope=col>count</th></tr>\n",
                            "\t<tr><th scope=col>&lt;fct&gt;</th><th scope=col>&lt;dbl&gt;</th><th scope=col>&lt;int&gt;</th></tr>\n",
                            "</thead>\n",
                            "<tbody>\n",
                            "\t<tr><td>0         </td><td> 1</td><td>622</td></tr>\n",
                            "\t<tr><td>1         </td><td> 2</td><td>298</td></tr>\n",
                            "\t<tr><td>10        </td><td> 3</td><td>134</td></tr>\n",
                            "\t<tr><td>2         </td><td> 4</td><td>266</td></tr>\n",
                            "\t<tr><td>3         </td><td> 5</td><td>227</td></tr>\n",
                            "\t<tr><td>4         </td><td> 6</td><td>162</td></tr>\n",
                            "\t<tr><td>5         </td><td> 7</td><td>544</td></tr>\n",
                            "\t<tr><td>6         </td><td> 8</td><td>165</td></tr>\n",
                            "\t<tr><td>7         </td><td> 9</td><td>138</td></tr>\n",
                            "\t<tr><td>8         </td><td>10</td><td>107</td></tr>\n",
                            "\t<tr><td>9         </td><td>11</td><td> 81</td></tr>\n",
                            "\t<tr><td>Don't know</td><td>12</td><td>224</td></tr>\n",
                            "\t<tr><td>NA        </td><td>NA</td><td>133</td></tr>\n",
                            "</tbody>\n",
                            "</table>\n"
                        ],
                        "text/latex": [
                            "A grouped\\_df: 13 × 3\n",
                            "\\begin{tabular}{lll}\n",
                            " jnzflike & numlikenzf & count\\\\\n",
                            " <fct> & <dbl> & <int>\\\\\n",
                            "\\hline\n",
                            "\t 0          &  1 & 622\\\\\n",
                            "\t 1          &  2 & 298\\\\\n",
                            "\t 10         &  3 & 134\\\\\n",
                            "\t 2          &  4 & 266\\\\\n",
                            "\t 3          &  5 & 227\\\\\n",
                            "\t 4          &  6 & 162\\\\\n",
                            "\t 5          &  7 & 544\\\\\n",
                            "\t 6          &  8 & 165\\\\\n",
                            "\t 7          &  9 & 138\\\\\n",
                            "\t 8          & 10 & 107\\\\\n",
                            "\t 9          & 11 &  81\\\\\n",
                            "\t Don't know & 12 & 224\\\\\n",
                            "\t NA         & NA & 133\\\\\n",
                            "\\end{tabular}\n"
                        ],
                        "text/markdown": [
                            "\n",
                            "A grouped_df: 13 × 3\n",
                            "\n",
                            "| jnzflike &lt;fct&gt; | numlikenzf &lt;dbl&gt; | count &lt;int&gt; |\n",
                            "|---|---|---|\n",
                            "| 0          |  1 | 622 |\n",
                            "| 1          |  2 | 298 |\n",
                            "| 10         |  3 | 134 |\n",
                            "| 2          |  4 | 266 |\n",
                            "| 3          |  5 | 227 |\n",
                            "| 4          |  6 | 162 |\n",
                            "| 5          |  7 | 544 |\n",
                            "| 6          |  8 | 165 |\n",
                            "| 7          |  9 | 138 |\n",
                            "| 8          | 10 | 107 |\n",
                            "| 9          | 11 |  81 |\n",
                            "| Don't know | 12 | 224 |\n",
                            "| NA         | NA | 133 |\n",
                            "\n"
                        ],
                        "text/plain": [
                            "   jnzflike   numlikenzf count\n",
                            "1  0           1         622  \n",
                            "2  1           2         298  \n",
                            "3  10          3         134  \n",
                            "4  2           4         266  \n",
                            "5  3           5         227  \n",
                            "6  4           6         162  \n",
                            "7  5           7         544  \n",
                            "8  6           8         165  \n",
                            "9  7           9         138  \n",
                            "10 8          10         107  \n",
                            "11 9          11          81  \n",
                            "12 Don't know 12         224  \n",
                            "13 NA         NA         133  "
                        ]
                    },
                    "metadata": {},
                    "output_type": "display_data"
                }
            ],
            "source": [
                "selected_nzes2011 %>% \n",
                "  group_by(jnzflike, numlikenzf) %>% \n",
                "  summarise(count = n())"
            ]
        },
        {
            "cell_type": "markdown",
            "metadata": {},
            "source": [
                "Factor entries have two parts: the text we see on the screen, and a numeric order (remember how 10 was coming between 1 and 2 because of the alphabetical order). When we say \"turn this into a number\", R uses the numeric order in which it stores the values to do that conversion, as opposed to the names of the levels of the categorical variable. Hence, we need a conversion method that will use the text strings that label the levels, as opposed to the storage order of these levels. We can do this by first saving the variable as a character variable, and then turning it into a number:\n",
                "\n"
            ]
        },
        {
            "cell_type": "code",
            "execution_count": 42,
            "metadata": {},
            "outputs": [
                {
                    "name": "stderr",
                    "output_type": "stream",
                    "text": [
                        "Warning message in mask$eval_all_mutate(quo):\n",
                        "\"NAs introduced by coercion\"\n"
                    ]
                }
            ],
            "source": [
                "selected_nzes2011 <- selected_nzes2011 %>% \n",
                "  mutate(numlikenzf = as.numeric(as.character(jnzflike)))"
            ]
        },
        {
            "cell_type": "markdown",
            "metadata": {},
            "source": [
                "The warning \"NAs introduced by coercion\" happens since the level `\"Don't know\"` cannot be turned into a number. But this should be fine for our purposes since we are interested in the numerical responses anyway.\n",
                "\n"
            ]
        },
        {
            "cell_type": "code",
            "execution_count": 43,
            "metadata": {},
            "outputs": [
                {
                    "name": "stderr",
                    "output_type": "stream",
                    "text": [
                        "`summarise()` has grouped output by 'jnzflike'. You can override using the `.groups` argument.\n",
                        "\n"
                    ]
                },
                {
                    "data": {
                        "text/html": [
                            "<table class=\"dataframe\">\n",
                            "<caption>A grouped_df: 13 × 3</caption>\n",
                            "<thead>\n",
                            "\t<tr><th scope=col>jnzflike</th><th scope=col>numlikenzf</th><th scope=col>count</th></tr>\n",
                            "\t<tr><th scope=col>&lt;fct&gt;</th><th scope=col>&lt;dbl&gt;</th><th scope=col>&lt;int&gt;</th></tr>\n",
                            "</thead>\n",
                            "<tbody>\n",
                            "\t<tr><td>0         </td><td> 0</td><td>622</td></tr>\n",
                            "\t<tr><td>1         </td><td> 1</td><td>298</td></tr>\n",
                            "\t<tr><td>10        </td><td>10</td><td>134</td></tr>\n",
                            "\t<tr><td>2         </td><td> 2</td><td>266</td></tr>\n",
                            "\t<tr><td>3         </td><td> 3</td><td>227</td></tr>\n",
                            "\t<tr><td>4         </td><td> 4</td><td>162</td></tr>\n",
                            "\t<tr><td>5         </td><td> 5</td><td>544</td></tr>\n",
                            "\t<tr><td>6         </td><td> 6</td><td>165</td></tr>\n",
                            "\t<tr><td>7         </td><td> 7</td><td>138</td></tr>\n",
                            "\t<tr><td>8         </td><td> 8</td><td>107</td></tr>\n",
                            "\t<tr><td>9         </td><td> 9</td><td> 81</td></tr>\n",
                            "\t<tr><td>Don't know</td><td>NA</td><td>224</td></tr>\n",
                            "\t<tr><td>NA        </td><td>NA</td><td>133</td></tr>\n",
                            "</tbody>\n",
                            "</table>\n"
                        ],
                        "text/latex": [
                            "A grouped\\_df: 13 × 3\n",
                            "\\begin{tabular}{lll}\n",
                            " jnzflike & numlikenzf & count\\\\\n",
                            " <fct> & <dbl> & <int>\\\\\n",
                            "\\hline\n",
                            "\t 0          &  0 & 622\\\\\n",
                            "\t 1          &  1 & 298\\\\\n",
                            "\t 10         & 10 & 134\\\\\n",
                            "\t 2          &  2 & 266\\\\\n",
                            "\t 3          &  3 & 227\\\\\n",
                            "\t 4          &  4 & 162\\\\\n",
                            "\t 5          &  5 & 544\\\\\n",
                            "\t 6          &  6 & 165\\\\\n",
                            "\t 7          &  7 & 138\\\\\n",
                            "\t 8          &  8 & 107\\\\\n",
                            "\t 9          &  9 &  81\\\\\n",
                            "\t Don't know & NA & 224\\\\\n",
                            "\t NA         & NA & 133\\\\\n",
                            "\\end{tabular}\n"
                        ],
                        "text/markdown": [
                            "\n",
                            "A grouped_df: 13 × 3\n",
                            "\n",
                            "| jnzflike &lt;fct&gt; | numlikenzf &lt;dbl&gt; | count &lt;int&gt; |\n",
                            "|---|---|---|\n",
                            "| 0          |  0 | 622 |\n",
                            "| 1          |  1 | 298 |\n",
                            "| 10         | 10 | 134 |\n",
                            "| 2          |  2 | 266 |\n",
                            "| 3          |  3 | 227 |\n",
                            "| 4          |  4 | 162 |\n",
                            "| 5          |  5 | 544 |\n",
                            "| 6          |  6 | 165 |\n",
                            "| 7          |  7 | 138 |\n",
                            "| 8          |  8 | 107 |\n",
                            "| 9          |  9 |  81 |\n",
                            "| Don't know | NA | 224 |\n",
                            "| NA         | NA | 133 |\n",
                            "\n"
                        ],
                        "text/plain": [
                            "   jnzflike   numlikenzf count\n",
                            "1  0           0         622  \n",
                            "2  1           1         298  \n",
                            "3  10         10         134  \n",
                            "4  2           2         266  \n",
                            "5  3           3         227  \n",
                            "6  4           4         162  \n",
                            "7  5           5         544  \n",
                            "8  6           6         165  \n",
                            "9  7           7         138  \n",
                            "10 8           8         107  \n",
                            "11 9           9          81  \n",
                            "12 Don't know NA         224  \n",
                            "13 NA         NA         133  "
                        ]
                    },
                    "metadata": {},
                    "output_type": "display_data"
                }
            ],
            "source": [
                "selected_nzes2011 %>% \n",
                "  group_by(jnzflike, numlikenzf) %>% \n",
                "  summarise(count = n())"
            ]
        },
        {
            "cell_type": "markdown",
            "metadata": {},
            "source": [
                "Converting the factor to a character first ensures that the numerical values used in the labels of the levels of the categorical variable are used.\n",
                "\n",
                "Now that we cleaned up the data in a way that addresses the needs of the research questions we want to explore, we are ready to continue with our analysis.\n",
                "\n",
                "## Appendix: List of fields in example data\n",
                "\n",
                "|Variable         |Question                                                                                 |DataType |\n",
                "|:----------------|:----------------------------------------------------------------------------------------|:--------|\n",
                "|`jactlike`       |A14: how much like Act                                                                   |Factor   |\n",
                "|`jactlr`         |A18: Act on left-right scale                                                             |chr      |\n",
                "|`jage`           |Respondent's age in years                                                                |int      |\n",
                "|`jblogel`        |A6h: visit political blog for election                                                   |chr      |\n",
                "|`jdiffvoting`    |A13: does voting make any difference to what happens                                     |chr      |\n",
                "|`jdiscussp`      |A11a: how often discussed politics with others                                           |chr      |\n",
                "|`Jelect`         |Electorate                                                                               |int      |\n",
                "|`jelecvote`      |C4: if cast electorate vote, for which party's candidate                                 |chr      |\n",
                "|`jethnicity_a`   |F19a: ethnicity - Asian                                                                  |chr      |\n",
                "|`jethnicity_e`   |F19a: ethnicity - NZ European                                                            |chr      |\n",
                "|`jethnicity_m`   |F19a: ethnicity - NZ Maori                                                               |chr      |\n",
                "|`jethnicity_o`   |F19a: ethnicity - Other                                                                  |chr      |\n",
                "|`jethnicity_p`   |F19a: ethnicity - Pacific                                                                |chr      |\n",
                "|`jethnicityx`    |F19ax: other ethnic group belonged to detail                                             |chr      |\n",
                "|`jethnicmost`    |F19b: ethnic group identified with most                                                  |chr      |\n",
                "|`jethnicmostx`   |F19bx: other ethnic group identified with most                                           |chr      |\n",
                "|`jfirstpx`       |C10x: on election day other party most wanted to be in government                        |chr      |\n",
                "|`jgovpact`       |C8: Act helped form the government after 2008 election                                   |chr      |\n",
                "|`jgovpdk`        |C8: can't recall which parties formed the government after 2008 election                 |chr      |\n",
                "|`jgovpgrn`       |C8: Greens helped form the government after 2008 election                                |chr      |\n",
                "|`jgovplab`       |C8: Labour helped form the government after 2008 election                                |chr      |\n",
                "|`jgovpmao`       |C8: Maori Party helped form the government after 2008 election                           |chr      |\n",
                "|`jgovpmnp`       |C8: Mana Party helped form the government after 2008 election                            |chr      |\n",
                "|`jgovpnat`       |C8: National helped form the government after 2008 election                              |chr      |\n",
                "|`jgovpnzf`       |C8: NZ First helped form the government after 2008 election                              |chr      |\n",
                "|`jgovunf`        |C8: United Future helped form the government after 2008 election                         |chr      |\n",
                "|`jgrnlike`       |A14: how much like Greens                                                                |Factor   |\n",
                "|`jgrnlr`         |A18: Greens on left-right scale                                                          |chr      |\n",
                "|`jhhadults`      |F23a: number of adults in household                                                      |int      |\n",
                "|`jhhchn`         |F23b: number of children in household                                                    |int      |\n",
                "|`jhhincome`      |F22: household income between 1 April 2010 and 31 March 2011                             |chr      |\n",
                "|`jhqual`         |F8: highest formal educational qualification                                             |chr      |\n",
                "|`jlablike`       |A14: how much like Labour                                                                |Factor   |\n",
                "|`jlablr`         |A18: Labour on left-right scale                                                          |chr      |\n",
                "|`jlanguage`      |F3: main language spoken at your home                                                    |chr      |\n",
                "|`jlanguagex`     |F3x: other main language spoken                                                          |chr      |\n",
                "|`jmaolike`       |A14: how much like Maori Party                                                           |Factor   |\n",
                "|`jmaolr`         |A18: Maori Party on left-right scale                                                     |chr      |\n",
                "|`jmarital`       |F24: marital status                                                                      |chr      |\n",
                "|`jmnplike`       |A14: how much like Mana Party                                                            |Factor   |\n",
                "|`jmnplr`         |A18: Mana Party on left-right scale                                                      |chr      |\n",
                "|`jmostlike`      |A15: on election day which party liked most                                              |chr      |\n",
                "|`jmostlikex`     |A15x: other party liked most                                                             |chr      |\n",
                "|`jnatlike`       |A14: how much like National                                                              |Factor   |\n",
                "|`jnatlr`         |A18: National on left-right scale                                                        |chr      |\n",
                "|`jnatradio`      |A10d: how often followed election news on Radio New Zealand: National                    |chr      |\n",
                "|`jnevervoteact`  |C16: would never vote for Act                                                            |chr      |\n",
                "|`jnevervotegrn`  |C16: would never vote for Greens                                                         |chr      |\n",
                "|`jnevervotelab`  |C16: would never vote for Labour                                                         |chr      |\n",
                "|`jnevervotemao`  |C16: would never vote for Maori Party                                                    |chr      |\n",
                "|`jnevervotemnp`  |C16: would never vote for Mana Party                                                     |chr      |\n",
                "|`jnevervotenat`  |C16: would never vote for National                                                       |chr      |\n",
                "|`jnevervoteno`   |C16: no party for which you would never vote                                             |chr      |\n",
                "|`jnevervotenzf`  |C16: would never vote for NZ First                                                       |chr      |\n",
                "|`jnevervoteoth`  |C16: would never vote for another party                                                  |chr      |\n",
                "|`jnevervoteothx` |C16: other party for for which you would never vote                                      |chr      |\n",
                "|`jnevervoteunf`  |C16: would never vote for United Future                                                  |chr      |\n",
                "|`jnewspaper`     |A10c: how often followed election news in newspaper                                      |chr      |\n",
                "|`jnzflike`       |A14: how much like NZ First                                                              |Factor   |\n",
                "|`jnzflr`         |A18: NZ First on left-right scale                                                        |chr      |\n",
                "|`jpartyvote`     |C3: if cast party vote, for which party                                                  |chr      |\n",
                "|`jpcmoney`       |A11d: how often contributed money to a party or candidate                                |chr      |\n",
                "|`jpcposter`      |A11e: how often put up party or candidate posters                                        |chr      |\n",
                "|`jpersuade`      |A11c: how often talk to anyone to persuade them how to vote                              |chr      |\n",
                "|`jrallies`       |A11b: how often attended political meetings or rallies                                   |chr      |\n",
                "|`jrelang`        |F17: anglican                                                                            |chr      |\n",
                "|`jrelbap`        |F17: baptist                                                                             |chr      |\n",
                "|`jrelcath`       |F17: catholic                                                                            |chr      |\n",
                "|`jrelfun`        |F17: independent-fundamentalist-pentecostal church                                       |chr      |\n",
                "|`jreligionx`     |F17x: other religion detail                                                              |chr      |\n",
                "|`jreligiousity`  |F18: how religious are you                                                               |chr      |\n",
                "|`jrellat`        |F17: latter day saints                                                                   |chr      |\n",
                "|`jrelmeth`       |F17: methodist                                                                           |chr      |\n",
                "|`jrelnonc`       |F17: non-Christian                                                                       |chr      |\n",
                "|`jrelnone`       |F17: no religion                                                                         |chr      |\n",
                "|`jrelothc`       |F17: other Christian                                                                     |chr      |\n",
                "|`jrelpres`       |F17: presbyterian                                                                        |chr      |\n",
                "|`jrelrat`        |F17: ratana                                                                              |chr      |\n",
                "|`jrelservices`   |F16: apart from weddings, funerals, baptisms, how often do you attend religious services |chr      |\n",
                "|`jrepublic`      |B1: should NZ become a republic or retain Queen as head of state                         |chr      |\n",
                "|`jrollsex`       |Respondent's gender from electoral roll                                                  |chr      |\n",
                "|`jsecondp`       |C11: on election day which party overall was you second choice to be in government       |chr      |\n",
                "|`jslflr`         |A19: yourself on left-right scale                                                        |chr      |\n",
                "|`jspbusind`      |B3f: should there be more or less public spending on business and industry               |chr      |\n",
                "|`jspdefence`     |B3d: should there be more or less public spending on defence                             |chr      |\n",
                "|`jspedu`         |B3b: should there be more or less public spending on education                           |chr      |\n",
                "|`jspenviro`      |B3i: should there be more or less public spending on the environment                     |chr      |\n",
                "|`jsphealth`      |B3a: should there be more or less public spending on health                              |chr      |\n",
                "|`jsppolice`      |B3g: should there be more or less public spending on police and law enforcement          |chr      |\n",
                "|`jspsuper`       |B3e: should there be more or less public spending on superannuation                      |chr      |\n",
                "|`jspunemp`       |B3c: should there be more or less public spending on unemployment benefits               |chr      |\n",
                "|`jspwelfare`     |B3h: should there be more or less public spending on welfare benefits                    |chr      |\n",
                "|`jtalkback`      |A10e: how often followed election news on talkback radio                                 |chr      |\n",
                "|`junflike`       |A14: how much like United Future                                                         |Factor   |\n",
                "|`junflr`         |A18: United Future on left-right scale                                                   |chr      |\n",
                "|`jwkdis`         |F9: disabled, unable to work                                                             |chr      |\n",
                "|`jwkft`          |F9: working full-time for pay or other income                                            |chr      |\n",
                "|`jwkpt`          |F9: working part-time for pay or other income                                            |chr      |\n",
                "|`jwkret`         |F9: retired                                                                              |chr      |\n",
                "|`jwksch`         |F9: at school, university, or other educational institution                              |chr      |\n",
                "|`jwkun`          |F9: unemployed, laid off, looking for work                                               |chr      |\n",
                "|`jwkunpi`        |F9: working unpaid within the home                                                       |chr      |\n",
                "|`jwkunpo`        |F9: working unpaid outside the home                                                      |chr      |\n",
                "|`njelecvote`     |Electorate Vote with nonvote                                                             |chr      |\n",
                "|`njptyvote`      |Party Vote with nonvote                                                                  |chr      |\n",
                "|`r_jind`         |Respondent Industry Codes                                                                |chr      |\n",
                "|`_singlefav`    |Caluclated Variable of most liked of major parties Question A14                          |chr      |\n"
            ]
        }
    ],
    "metadata": {
        "anaconda-cloud": "",
        "kernelspec": {
            "display_name": "R",
            "langauge": "R",
            "language": "R",
            "name": "ir"
        },
        "language_info": {
            "codemirror_mode": "r",
            "file_extension": ".r",
            "mimetype": "text/x-r-source",
            "name": "R",
            "pygments_lexer": "r",
            "version": "4.1.2"
        }
    },
    "nbformat": 4,
    "nbformat_minor": 1
}
