{
    "cells": [
        {
            "cell_type": "markdown",
            "metadata": {},
            "source": [
                "## Setup\n",
                "\n",
                "### Load packages\n"
            ]
        },
        {
            "cell_type": "code",
            "execution_count": 90,
            "metadata": {},
            "outputs": [],
            "source": [
                "library(ggplot2)\n",
                "library(dplyr)\n",
                "library(ggpubr)\n",
                "library(gridExtra)\n",
                "library(scales)"
            ]
        },
        {
            "cell_type": "markdown",
            "metadata": {},
            "source": [
                "### Load data\n",
                "\n",
                "Make sure your data and R Markdown files are in the same directory. When loaded\n",
                "your data file will be called `brfss2013`. Delete this note when before you submit \n",
                "your work. \n"
            ]
        },
        {
            "cell_type": "code",
            "execution_count": 2,
            "metadata": {},
            "outputs": [],
            "source": [
                "load(\"brfss2013.RData\")"
            ]
        },
        {
            "cell_type": "markdown",
            "metadata": {},
            "source": [
                "* * *\n",
                "\n",
                "## Part 1: Data\n",
                "\n",
                "The BRFSS data contains preventive health practices and risk behaviors collected from non-institutionalized adult population, aged 18 years or older via telephonics interviews.\n",
                "It is a collabortaive effort between all of the states in the United States (US) and the Centers for Disease Control and Prevention (CDC).\n",
                "\n",
                "### Sample\n",
                "\n",
                "1. The states use a standardized core questionnaire, optional modules, and state-added questions.\n",
                "2. The survey is conducted using Random Digit Dialing (RDD) techniques on both landlines and cell phones.\n",
                "\n",
                "### Inference\n",
                "\n",
                "1. It is an observational study, not experimental, since we are monitoring what occurs, while experiments require the primary explanatory variable in a study be assigned for each subject by the researchers.\n",
                "2. It is a randomized study using Stratified Sampling. (Point #2 above)\n",
                "\n",
                "### Generalizability\n",
                "\n",
                "1. The study is generalizable to all non-institutionalized adults equal to or above 18 years in the US.\n",
                "\n",
                "### Causality\n",
                "\n",
                "1. Observational nature of the study makes the results non-causal, i.e., we can show correlation or association only.\n",
                "2. Labeling variables as explanatory and response does not guarantee the relationship between the two is actually causal, even if there is an association identified between the two variables.\n",
                "\n",
                "\n",
                "* * *\n",
                "\n",
                "## Part 2: Research questions\n",
                "\n",
                "**Research quesion 1:**\n",
                "How does sleep time affect Physical and Mental Health\n",
                "\n",
                "- physhlth: Number Of Days Physical Health Not Good\n",
                "- menthlth: Number Of Days Mental Health Not Good\n",
                "- sleptim1: How Much Time Do You Sleep\n",
                "\n",
                "Does lower sleep time indicate poor health?\n",
                "We will check the correlation between Sleep Time and Physical & Mental Health of an individual.\n",
                "\n",
                "**Research quesion 2:**\n",
                "How does Education level associate to Income and general health\n",
                "\n",
                "- educa: Education Level\n",
                "- income2: Income Level\n",
                "- genhlth: General Health\n",
                "\n",
                "We would expect a higher education to yield a higher income, i.e. a positive correlation.\n",
                "Are richer people more healthy?\n",
                "\n",
                "**Research quesion 3:**\n",
                "Does better general health correlate to longer Length Of Time Since Last Routine Checkup \n",
                "\n",
                "- genhlth: General Health\n",
                "- checkup1: Length Of Time Since Last Routine Checkup\n",
                "\n",
                "\n",
                "* * *\n",
                "\n",
                "## Part 3: Exploratory data analysis\n",
                "\n",
                "NOTE: Insert code chunks as needed by clicking on the \"Insert a new code chunk\" \n",
                "button (green button with orange arrow) above. Make sure that your code is visible\n",
                "in the project you submit. Delete this note when before you submit your work.\n",
                "\n",
                "**Research quesion 1:**\n"
            ]
        },
        {
            "cell_type": "markdown",
            "metadata": {},
            "source": [
                "#### How does sleep time affect Physical and Mental Health\n",
                "\n",
                "- physhlth: Number Of Days Physical Health Not Good\n",
                "- menthlth: Number Of Days Mental Health Not Good\n",
                "- sleptim1: How Much Time Do You Sleep\n",
                "\n",
                "Does lower sleep time indicate poor health?\n",
                "We will check the correlation between Sleep Time and Health of an individual.\n"
            ]
        },
        {
            "cell_type": "code",
            "execution_count": 5,
            "metadata": {},
            "outputs": [],
            "source": [
                "rq1_select <- brfss2013 %>%\n",
                "  select('physical' = physhlth, 'mental' = menthlth, 'sleep' = sleptim1)"
            ]
        },
        {
            "cell_type": "markdown",
            "metadata": {},
            "source": [
                "We want to work with non NA values. Hence, we remove the NAs. Note that none of the statistical summaries will be affected by this ommision."
            ]
        },
        {
            "cell_type": "code",
            "execution_count": 6,
            "metadata": {},
            "outputs": [],
            "source": [
                "rq1_omit <- rq1_select %>% na.omit()"
            ]
        },
        {
            "cell_type": "code",
            "execution_count": 7,
            "metadata": {},
            "outputs": [
                {
                    "data": {
                        "text/html": [
                            "0"
                        ],
                        "text/latex": [
                            "0"
                        ],
                        "text/markdown": [
                            "0"
                        ],
                        "text/plain": [
                            "[1] 0"
                        ]
                    },
                    "metadata": {},
                    "output_type": "display_data"
                }
            ],
            "source": [
                "#Checking if all NA's have been omitted\n",
                "sum(is.na(rq1_omit))"
            ]
        },
        {
            "cell_type": "code",
            "execution_count": 8,
            "metadata": {},
            "outputs": [
                {
                    "data": {
                        "text/plain": [
                            "    physical          mental             sleep        \n",
                            " Min.   : 0.000   Min.   :   0.000   Min.   :  0.000  \n",
                            " 1st Qu.: 0.000   1st Qu.:   0.000   1st Qu.:  6.000  \n",
                            " Median : 0.000   Median :   0.000   Median :  7.000  \n",
                            " Mean   : 4.247   Mean   :   3.339   Mean   :  7.052  \n",
                            " 3rd Qu.: 3.000   3rd Qu.:   2.000   3rd Qu.:  8.000  \n",
                            " Max.   :60.000   Max.   :5000.000   Max.   :450.000  "
                        ]
                    },
                    "metadata": {},
                    "output_type": "display_data"
                }
            ],
            "source": [
                "summary(rq1_omit)"
            ]
        },
        {
            "cell_type": "markdown",
            "metadata": {},
            "source": [
                "The above summary shows that there are anomalous rows in the dataframe wherein the maximum number of days in Physical and Mental exceeds 30, and/or sleep exceed 24 hours. Thus-\n",
                "\n",
                "- We need to remove values breaching 30 days threshold in Physical and Mental variables as the data collection time horizon was set at 30 days.\n",
                "- We need to limit maximum sleep to a realistic 22 hours. Hence we filter out >22 hour observations (there are only 24 hours in a day)"
            ]
        },
        {
            "cell_type": "code",
            "execution_count": 9,
            "metadata": {},
            "outputs": [],
            "source": [
                "rq1 <- rq1_omit %>%\n",
                " filter(physical <= 30 & mental <= 30 & sleep <= 22)"
            ]
        },
        {
            "cell_type": "code",
            "execution_count": 10,
            "metadata": {},
            "outputs": [
                {
                    "data": {
                        "text/plain": [
                            "    physical          mental           sleep      \n",
                            " Min.   : 0.000   Min.   : 0.000   Min.   : 1.00  \n",
                            " 1st Qu.: 0.000   1st Qu.: 0.000   1st Qu.: 6.00  \n",
                            " Median : 0.000   Median : 0.000   Median : 7.00  \n",
                            " Mean   : 4.247   Mean   : 3.327   Mean   : 7.05  \n",
                            " 3rd Qu.: 3.000   3rd Qu.: 2.000   3rd Qu.: 8.00  \n",
                            " Max.   :30.000   Max.   :30.000   Max.   :22.00  "
                        ]
                    },
                    "metadata": {},
                    "output_type": "display_data"
                }
            ],
            "source": [
                "summary(rq1)"
            ]
        },
        {
            "cell_type": "markdown",
            "metadata": {},
            "source": [
                "The new summary shows the data are within expected thresholds. Now we move on to regression of physical and mental health against sleep time to show correlation"
            ]
        },
        {
            "cell_type": "code",
            "execution_count": 11,
            "metadata": {},
            "outputs": [],
            "source": [
                "rq1_physical <- rq1 %>%\n",
                " group_by(sleep) %>%\n",
                " summarise_at(vars(physical), list(physical_health_mean = mean))"
            ]
        },
        {
            "cell_type": "code",
            "execution_count": 12,
            "metadata": {},
            "outputs": [
                {
                    "data": {
                        "image/png": "[encoded data removed]",
                        "text/plain": [
                            "plot without title"
                        ]
                    },
                    "metadata": {
                        "image/png": {
                            "height": 420,
                            "width": 420
                        }
                    },
                    "output_type": "display_data"
                }
            ],
            "source": [
                "ggplot(rq1_physical, aes(x=sleep, y=physical_health_mean))+geom_col()+scale_x_continuous(breaks = round(seq(0, 23, by = 1),1))+\n",
                " labs(x='Hours of Sleep per day', y='Number of Days of Poor Physical health', title='Average Poor Physical Health days per hour of Sleep')"
            ]
        },
        {
            "cell_type": "markdown",
            "metadata": {},
            "source": [
                "This plot yields a very interesting fact about the relationship between sleep cycle and the physical health of the sample.\n",
                "\n",
                "### Observation\n",
                "- We note that as the number of hours of sleep increases from 1 to 7, there is an improvement in physical health (indicated by the decrease in avg. numeber of poor physical health days reported)\n",
                "- Further, as the sleep time increases from 7 to 22 hours per day, we see more average poor physical health days in the month (past 30 days).\n",
                "\n",
                "### Inference\n",
                "- 6-9 hours of sleep yields the best average physical health among the adults sampled.\n",
                "- This finding conforms to the medical recommendation of 8 hours of sleep per day."
            ]
        },
        {
            "cell_type": "code",
            "execution_count": 13,
            "metadata": {},
            "outputs": [],
            "source": [
                "rq1_mental <- rq1 %>%\n",
                " group_by(sleep) %>%\n",
                " summarise_at(vars(mental), list(mental_health_mean = mean))"
            ]
        },
        {
            "cell_type": "code",
            "execution_count": 14,
            "metadata": {},
            "outputs": [
                {
                    "data": {
                        "image/png": "[encoded data removed]",
                        "text/plain": [
                            "plot without title"
                        ]
                    },
                    "metadata": {
                        "image/png": {
                            "height": 420,
                            "width": 420
                        }
                    },
                    "output_type": "display_data"
                }
            ],
            "source": [
                "ggplot(rq1_mental, aes(x=sleep, y=mental_health_mean))+geom_col()+scale_x_continuous(breaks = round(seq(0, 23, by = 1),1))+\n",
                " labs(x='Hours of Sleep per day', y='Number of Days of Poor Mental health', title='Average Poor Mental Health days per hour of Sleep')"
            ]
        },
        {
            "cell_type": "markdown",
            "metadata": {},
            "source": [
                "- The Mental Health shows almost identical behaviour to the Physical Health discussion held above. Please refer to the detailed note above to match observations and inference.\n",
                "- An additional observation here is that <4 hours of sleep yields higher number of poor mental health days as compared to sleeping >11 hours."
            ]
        },
        {
            "cell_type": "markdown",
            "metadata": {},
            "source": [
                "**Research quesion 2:**\n",
                "\n"
            ]
        },
        {
            "cell_type": "markdown",
            "metadata": {},
            "source": [
                "#### How does Education level associate to Income and general health\n",
                "\n",
                "- educa: Education Level\n",
                "- income2: Income Level\n",
                "- genhlth: General Health\n",
                "\n",
                "We would expect a higher education to yield a higher income, i.e. a positive correlation.\n",
                "Are richer people more healthy?"
            ]
        },
        {
            "cell_type": "markdown",
            "metadata": {},
            "source": [
                "#### Data Selection"
            ]
        },
        {
            "cell_type": "code",
            "execution_count": 26,
            "metadata": {},
            "outputs": [],
            "source": [
                "rq2_select <- brfss2013 %>%\n",
                "  select('education' = educa, 'income' = income2, 'health' = genhlth)"
            ]
        },
        {
            "cell_type": "code",
            "execution_count": 27,
            "metadata": {},
            "outputs": [
                {
                    "data": {
                        "text/plain": [
                            "                                                        education     \n",
                            " Never attended school or only kindergarten                  :   677  \n",
                            " Grades 1 through 8 (Elementary)                             : 13395  \n",
                            " Grades 9 though 11 (Some high school)                       : 28141  \n",
                            " Grade 12 or GED (High school graduate)                      :142971  \n",
                            " College 1 year to 3 years (Some college or technical school):134197  \n",
                            " College 4 years or more (College graduate)                  :170120  \n",
                            " NA's                                                        :  2274  \n",
                            "               income             health      \n",
                            " $75,000 or more  :115902   Excellent: 85482  \n",
                            " Less than $75,000: 65231   Very good:159076  \n",
                            " Less than $50,000: 61509   Good     :150555  \n",
                            " Less than $35,000: 48867   Fair     : 66726  \n",
                            " Less than $25,000: 41732   Poor     : 27951  \n",
                            " (Other)          : 87108   NA's     :  1985  \n",
                            " NA's             : 71426                     "
                        ]
                    },
                    "metadata": {},
                    "output_type": "display_data"
                }
            ],
            "source": [
                "summary(rq2_select)"
            ]
        },
        {
            "cell_type": "markdown",
            "metadata": {},
            "source": [
                "#### Data Cleanup\n",
                "We want to work with non NA values. Hence, we remove the NAs. Note that none of the statistical summaries will be affected by this ommision."
            ]
        },
        {
            "cell_type": "code",
            "execution_count": 28,
            "metadata": {},
            "outputs": [],
            "source": [
                "rq2_omit <- rq2_select %>% na.omit()"
            ]
        },
        {
            "cell_type": "code",
            "execution_count": 29,
            "metadata": {},
            "outputs": [
                {
                    "data": {
                        "text/html": [
                            "0"
                        ],
                        "text/latex": [
                            "0"
                        ],
                        "text/markdown": [
                            "0"
                        ],
                        "text/plain": [
                            "[1] 0"
                        ]
                    },
                    "metadata": {},
                    "output_type": "display_data"
                }
            ],
            "source": [
                "#Checking if all NA's have been omitted\n",
                "sum(is.na(rq2_omit))"
            ]
        },
        {
            "cell_type": "code",
            "execution_count": 32,
            "metadata": {},
            "outputs": [
                {
                    "data": {
                        "text/plain": [
                            "                                                        education     \n",
                            " Never attended school or only kindergarten                  :   443  \n",
                            " Grades 1 through 8 (Elementary)                             : 10152  \n",
                            " Grades 9 though 11 (Some high school)                       : 22359  \n",
                            " Grade 12 or GED (High school graduate)                      :118227  \n",
                            " College 1 year to 3 years (Some college or technical school):115668  \n",
                            " College 4 years or more (College graduate)                  :151557  \n",
                            "                                                                      \n",
                            "               income             health      \n",
                            " $75,000 or more  :115570   Excellent: 74177  \n",
                            " Less than $75,000: 65058   Very good:138126  \n",
                            " Less than $50,000: 61266   Good     :127531  \n",
                            " Less than $35,000: 48617   Fair     : 55514  \n",
                            " Less than $25,000: 41491   Poor     : 23058  \n",
                            " Less than $20,000: 34628                     \n",
                            " (Other)          : 51776                     "
                        ]
                    },
                    "metadata": {},
                    "output_type": "display_data"
                }
            ],
            "source": [
                "summary(rq2_omit)"
            ]
        },
        {
            "cell_type": "markdown",
            "metadata": {},
            "source": [
                "The above summmary shows that all three variables are categorical, can seen in the \"value labels\". As per the code-book of this data set these are all factor data types which can be sorted based on their \"value\" which are inteegers starting at numeric \"1\".\n",
                "\n",
                "Now we will begin to visualize the association between education and income/health.\n",
                "\n",
                "#### Exploration"
            ]
        },
        {
            "cell_type": "code",
            "execution_count": 34,
            "metadata": {},
            "outputs": [
                {
                    "data": {
                        "text/html": [
                            "<table class=\"dataframe\">\n",
                            "<caption>A grouped_df: 5 × 4</caption>\n",
                            "<thead>\n",
                            "\t<tr><th scope=col>income</th><th scope=col>education</th><th scope=col>n</th><th scope=col>p</th></tr>\n",
                            "\t<tr><th scope=col>&lt;fct&gt;</th><th scope=col>&lt;fct&gt;</th><th scope=col>&lt;int&gt;</th><th scope=col>&lt;dbl&gt;</th></tr>\n",
                            "</thead>\n",
                            "<tbody>\n",
                            "\t<tr><td>Less than $10,000</td><td>Never attended school or only kindergarten                  </td><td> 117</td><td>0.26410835</td></tr>\n",
                            "\t<tr><td>Less than $10,000</td><td>Grades 1 through 8 (Elementary)                             </td><td>2565</td><td>0.25265957</td></tr>\n",
                            "\t<tr><td>Less than $10,000</td><td>Grades 9 though 11 (Some high school)                       </td><td>4232</td><td>0.18927501</td></tr>\n",
                            "\t<tr><td>Less than $10,000</td><td>Grade 12 or GED (High school graduate)                      </td><td>9357</td><td>0.07914436</td></tr>\n",
                            "\t<tr><td>Less than $10,000</td><td>College 1 year to 3 years (Some college or technical school)</td><td>6070</td><td>0.05247778</td></tr>\n",
                            "</tbody>\n",
                            "</table>\n"
                        ],
                        "text/latex": [
                            "A grouped\\_df: 5 × 4\n",
                            "\\begin{tabular}{llll}\n",
                            " income & education & n & p\\\\\n",
                            " <fct> & <fct> & <int> & <dbl>\\\\\n",
                            "\\hline\n",
                            "\t Less than \\$10,000 & Never attended school or only kindergarten                   &  117 & 0.26410835\\\\\n",
                            "\t Less than \\$10,000 & Grades 1 through 8 (Elementary)                              & 2565 & 0.25265957\\\\\n",
                            "\t Less than \\$10,000 & Grades 9 though 11 (Some high school)                        & 4232 & 0.18927501\\\\\n",
                            "\t Less than \\$10,000 & Grade 12 or GED (High school graduate)                       & 9357 & 0.07914436\\\\\n",
                            "\t Less than \\$10,000 & College 1 year to 3 years (Some college or technical school) & 6070 & 0.05247778\\\\\n",
                            "\\end{tabular}\n"
                        ],
                        "text/markdown": [
                            "\n",
                            "A grouped_df: 5 × 4\n",
                            "\n",
                            "| income &lt;fct&gt; | education &lt;fct&gt; | n &lt;int&gt; | p &lt;dbl&gt; |\n",
                            "|---|---|---|---|\n",
                            "| Less than $10,000 | Never attended school or only kindergarten                   |  117 | 0.26410835 |\n",
                            "| Less than $10,000 | Grades 1 through 8 (Elementary)                              | 2565 | 0.25265957 |\n",
                            "| Less than $10,000 | Grades 9 though 11 (Some high school)                        | 4232 | 0.18927501 |\n",
                            "| Less than $10,000 | Grade 12 or GED (High school graduate)                       | 9357 | 0.07914436 |\n",
                            "| Less than $10,000 | College 1 year to 3 years (Some college or technical school) | 6070 | 0.05247778 |\n",
                            "\n"
                        ],
                        "text/plain": [
                            "  income           \n",
                            "1 Less than $10,000\n",
                            "2 Less than $10,000\n",
                            "3 Less than $10,000\n",
                            "4 Less than $10,000\n",
                            "5 Less than $10,000\n",
                            "  education                                                    n    p         \n",
                            "1 Never attended school or only kindergarten                    117 0.26410835\n",
                            "2 Grades 1 through 8 (Elementary)                              2565 0.25265957\n",
                            "3 Grades 9 though 11 (Some high school)                        4232 0.18927501\n",
                            "4 Grade 12 or GED (High school graduate)                       9357 0.07914436\n",
                            "5 College 1 year to 3 years (Some college or technical school) 6070 0.05247778"
                        ]
                    },
                    "metadata": {},
                    "output_type": "display_data"
                }
            ],
            "source": [
                "rq2_education <- rq2_omit %>%\n",
                " count(income, education) %>%\n",
                " group_by(education) %>%\n",
                " mutate(p = n/sum(n))\n",
                "\n",
                "head(rq2_education, 5)"
            ]
        },
        {
            "cell_type": "code",
            "execution_count": 53,
            "metadata": {},
            "outputs": [
                {
                    "name": "stderr",
                    "output_type": "stream",
                    "text": [
                        "Warning message in pal_name(palette, type):\n",
                        "\"Unknown palette Set4\"\n"
                    ]
                },
                {
                    "data": {
                        "image/png": "[encoded data removed]",
                        "text/plain": [
                            "plot without title"
                        ]
                    },
                    "metadata": {
                        "image/png": {
                            "height": 420,
                            "width": 420
                        }
                    },
                    "output_type": "display_data"
                }
            ],
            "source": [
                "ggplot(rq2_education, aes(education, n, fill=income))+\n",
                " geom_col() +\n",
                " labs(x='Education level', y='Count', title='Income level distribution across education levels')+\n",
                " theme(axis.text.x = element_text(face = \"bold\", color = \"#993333\",size=8,angle = 45,vjust = 1, hjust=0.9))+\n",
                " scale_fill_brewer(palette=\"Set4\")"
            ]
        },
        {
            "cell_type": "markdown",
            "metadata": {},
            "source": [
                "- Looking at this plot we can see the three most common levels of education Grade 12 or GED, College 1-3 years, and College 4 years or more.\n",
                "- There are very few adults in our sample who \"Never attended school\" = 443\n",
                "\n",
                "Now lets plot the same curve based on proportions rather than number to get a clearer picture of the distribution."
            ]
        },
        {
            "cell_type": "code",
            "execution_count": 68,
            "metadata": {},
            "outputs": [
                {
                    "name": "stderr",
                    "output_type": "stream",
                    "text": [
                        "Warning message in pal_name(palette, type):\n",
                        "\"Unknown palette Set10\"\n"
                    ]
                },
                {
                    "data": {
                        "image/png": "[encoded data removed]",
                        "text/plain": [
                            "plot without title"
                        ]
                    },
                    "metadata": {
                        "image/png": {
                            "height": 420,
                            "width": 420
                        }
                    },
                    "output_type": "display_data"
                }
            ],
            "source": [
                "ggplot(rq2_education, aes(education, p, fill=income))+\n",
                " geom_col() +\n",
                " labs(x='Education level', y='Proportion', title='Income level distribution across education levels')+\n",
                " theme(axis.text.x = element_text(face = \"bold\", color = \"#993333\",size=8,angle = 45,vjust = 1, hjust=0.9))+\n",
                " scale_fill_brewer(palette=\"Set10\")"
            ]
        },
        {
            "cell_type": "markdown",
            "metadata": {},
            "source": [
                "We do see a positive association, that is, higher levels of study leading to better incomes. While this is more or less expected, it is re-assuring to see that the data conforms to this line of thought.\n",
                "\n",
                "Next we move on to the see if the Health of an individual is correlated to his/her education level."
            ]
        },
        {
            "cell_type": "code",
            "execution_count": 64,
            "metadata": {},
            "outputs": [
                {
                    "data": {
                        "text/html": [
                            "<table class=\"dataframe\">\n",
                            "<caption>A grouped_df: 5 × 4</caption>\n",
                            "<thead>\n",
                            "\t<tr><th scope=col>health</th><th scope=col>education</th><th scope=col>n</th><th scope=col>p</th></tr>\n",
                            "\t<tr><th scope=col>&lt;fct&gt;</th><th scope=col>&lt;fct&gt;</th><th scope=col>&lt;int&gt;</th><th scope=col>&lt;dbl&gt;</th></tr>\n",
                            "</thead>\n",
                            "<tbody>\n",
                            "\t<tr><td>Excellent</td><td>Never attended school or only kindergarten                  </td><td>   43</td><td>0.09706546</td></tr>\n",
                            "\t<tr><td>Excellent</td><td>Grades 1 through 8 (Elementary)                             </td><td>  716</td><td>0.07052797</td></tr>\n",
                            "\t<tr><td>Excellent</td><td>Grades 9 though 11 (Some high school)                       </td><td> 1806</td><td>0.08077284</td></tr>\n",
                            "\t<tr><td>Excellent</td><td>Grade 12 or GED (High school graduate)                      </td><td>14671</td><td>0.12409179</td></tr>\n",
                            "\t<tr><td>Excellent</td><td>College 1 year to 3 years (Some college or technical school)</td><td>18541</td><td>0.16029498</td></tr>\n",
                            "</tbody>\n",
                            "</table>\n"
                        ],
                        "text/latex": [
                            "A grouped\\_df: 5 × 4\n",
                            "\\begin{tabular}{llll}\n",
                            " health & education & n & p\\\\\n",
                            " <fct> & <fct> & <int> & <dbl>\\\\\n",
                            "\\hline\n",
                            "\t Excellent & Never attended school or only kindergarten                   &    43 & 0.09706546\\\\\n",
                            "\t Excellent & Grades 1 through 8 (Elementary)                              &   716 & 0.07052797\\\\\n",
                            "\t Excellent & Grades 9 though 11 (Some high school)                        &  1806 & 0.08077284\\\\\n",
                            "\t Excellent & Grade 12 or GED (High school graduate)                       & 14671 & 0.12409179\\\\\n",
                            "\t Excellent & College 1 year to 3 years (Some college or technical school) & 18541 & 0.16029498\\\\\n",
                            "\\end{tabular}\n"
                        ],
                        "text/markdown": [
                            "\n",
                            "A grouped_df: 5 × 4\n",
                            "\n",
                            "| health &lt;fct&gt; | education &lt;fct&gt; | n &lt;int&gt; | p &lt;dbl&gt; |\n",
                            "|---|---|---|---|\n",
                            "| Excellent | Never attended school or only kindergarten                   |    43 | 0.09706546 |\n",
                            "| Excellent | Grades 1 through 8 (Elementary)                              |   716 | 0.07052797 |\n",
                            "| Excellent | Grades 9 though 11 (Some high school)                        |  1806 | 0.08077284 |\n",
                            "| Excellent | Grade 12 or GED (High school graduate)                       | 14671 | 0.12409179 |\n",
                            "| Excellent | College 1 year to 3 years (Some college or technical school) | 18541 | 0.16029498 |\n",
                            "\n"
                        ],
                        "text/plain": [
                            "  health    education                                                    n    \n",
                            "1 Excellent Never attended school or only kindergarten                      43\n",
                            "2 Excellent Grades 1 through 8 (Elementary)                                716\n",
                            "3 Excellent Grades 9 though 11 (Some high school)                         1806\n",
                            "4 Excellent Grade 12 or GED (High school graduate)                       14671\n",
                            "5 Excellent College 1 year to 3 years (Some college or technical school) 18541\n",
                            "  p         \n",
                            "1 0.09706546\n",
                            "2 0.07052797\n",
                            "3 0.08077284\n",
                            "4 0.12409179\n",
                            "5 0.16029498"
                        ]
                    },
                    "metadata": {},
                    "output_type": "display_data"
                }
            ],
            "source": [
                "rq2_health <- rq2_omit %>%\n",
                " count(health, education) %>%\n",
                " group_by(education) %>%\n",
                " mutate(p = n/sum(n))\n",
                "\n",
                "head(rq2_health, 5)"
            ]
        },
        {
            "cell_type": "code",
            "execution_count": 67,
            "metadata": {},
            "outputs": [
                {
                    "name": "stderr",
                    "output_type": "stream",
                    "text": [
                        "Warning message in pal_name(palette, type):\n",
                        "\"Unknown palette Set6\"\n"
                    ]
                },
                {
                    "data": {
                        "image/png": "[encoded data removed]",
                        "text/plain": [
                            "plot without title"
                        ]
                    },
                    "metadata": {
                        "image/png": {
                            "height": 420,
                            "width": 420
                        }
                    },
                    "output_type": "display_data"
                }
            ],
            "source": [
                "ggplot(rq2_health, aes(education, n, fill=health))+\n",
                " geom_col() +\n",
                " labs(x='Health level', y='Count', title='Health level distribution across education levels')+\n",
                " theme(axis.text.x = element_text(face = \"bold\", color = \"#993333\",size=8,angle = 45,vjust = 1, hjust=0.9))+\n",
                " scale_fill_brewer(palette=\"Set6\")"
            ]
        },
        {
            "cell_type": "markdown",
            "metadata": {},
            "source": [
                "- Looking at this plot we can see the three most common levels of education Grade 12 or GED, College 1-3 years, and College 4 years or more.\n",
                "- We would need to look at exact proportions of the distribution to determine any associativity."
            ]
        },
        {
            "cell_type": "code",
            "execution_count": 69,
            "metadata": {},
            "outputs": [
                {
                    "name": "stderr",
                    "output_type": "stream",
                    "text": [
                        "Warning message in pal_name(palette, type):\n",
                        "\"Unknown palette Set6\"\n"
                    ]
                },
                {
                    "data": {
                        "image/png": "[encoded data removed]",
                        "text/plain": [
                            "plot without title"
                        ]
                    },
                    "metadata": {
                        "image/png": {
                            "height": 420,
                            "width": 420
                        }
                    },
                    "output_type": "display_data"
                }
            ],
            "source": [
                "ggplot(rq2_health, aes(education, p, fill=health))+\n",
                " geom_col() +\n",
                " labs(x='Health level', y='Proportion', title='Health level distribution across education levels')+\n",
                " theme(axis.text.x = element_text(face = \"bold\", color = \"#993333\",size=8,angle = 45,vjust = 1, hjust=0.9))+\n",
                " scale_fill_brewer(palette=\"Set6\")"
            ]
        },
        {
            "cell_type": "markdown",
            "metadata": {},
            "source": [
                "#### Wow!\n",
                "- Note how the proportion of \"Excellent\" health adults increases as the education level increases.\n",
                "- Furthermore, the proportion of people with \"Poor\" health increases as the education level decreases.\n",
                "- Infact, even the percentage (%) of people in \"Fair\" health decreases with increase in education level.\n",
                "- Hence we may present a blanket statement that better education is positively correlated to the health level of an adult of the said demograhics.\n",
                "- While our intial thinking behind undertaking this exploration is proven true, further statistical analysis is beyond the scope of this EDA (Exploratory Data Analysis)."
            ]
        },
        {
            "cell_type": "markdown",
            "metadata": {},
            "source": [
                "**Research quesion 3:**\n",
                "\n"
            ]
        },
        {
            "cell_type": "markdown",
            "metadata": {},
            "source": [
                "Does better general health correlate to longer Length Of Time Since Last Routine Checkup \n",
                "\n",
                "- genhlth: General Health\n",
                "- checkup1: Length Of Time Since Last Routine Checkup"
            ]
        },
        {
            "cell_type": "code",
            "execution_count": 79,
            "metadata": {},
            "outputs": [],
            "source": [
                "rq3_select <- brfss2013 %>%\n",
                "  select('health' = genhlth, 'checkup' = checkup1)"
            ]
        },
        {
            "cell_type": "code",
            "execution_count": 80,
            "metadata": {},
            "outputs": [
                {
                    "data": {
                        "text/plain": [
                            "       health                      checkup      \n",
                            " Excellent: 85482   Within past year   :356228  \n",
                            " Very good:159076   Within past 2 years: 57298  \n",
                            " Good     :150555   Within past 5 years: 33674  \n",
                            " Fair     : 66726   5 or more years ago: 33748  \n",
                            " Poor     : 27951   Never              :  4522  \n",
                            " NA's     :  1985   NA's               :  6305  "
                        ]
                    },
                    "metadata": {},
                    "output_type": "display_data"
                }
            ],
            "source": [
                "summary(rq3_select)"
            ]
        },
        {
            "cell_type": "markdown",
            "metadata": {},
            "source": [
                "#### Data Cleanup\n",
                "We want to work with non NA values. Hence, we remove the NAs. Note that none of the statistical summaries will be affected by this ommision."
            ]
        },
        {
            "cell_type": "code",
            "execution_count": 81,
            "metadata": {},
            "outputs": [],
            "source": [
                "rq3_omit <- rq3_select %>% na.omit()"
            ]
        },
        {
            "cell_type": "code",
            "execution_count": 82,
            "metadata": {},
            "outputs": [
                {
                    "data": {
                        "text/html": [
                            "0"
                        ],
                        "text/latex": [
                            "0"
                        ],
                        "text/markdown": [
                            "0"
                        ],
                        "text/plain": [
                            "[1] 0"
                        ]
                    },
                    "metadata": {},
                    "output_type": "display_data"
                }
            ],
            "source": [
                "#Checking if all NA's have been omitted\n",
                "sum(is.na(rq3_omit))"
            ]
        },
        {
            "cell_type": "code",
            "execution_count": 83,
            "metadata": {},
            "outputs": [
                {
                    "data": {
                        "text/plain": [
                            "       health                      checkup      \n",
                            " Excellent: 84586   Within past year   :354841  \n",
                            " Very good:157574   Within past 2 years: 57132  \n",
                            " Good     :148584   Within past 5 years: 33547  \n",
                            " Fair     : 65619   5 or more years ago: 33594  \n",
                            " Poor     : 27233   Never              :  4482  "
                        ]
                    },
                    "metadata": {},
                    "output_type": "display_data"
                }
            ],
            "source": [
                "summary(rq3_omit)"
            ]
        },
        {
            "cell_type": "markdown",
            "metadata": {},
            "source": [
                "The above summmary shows that both the variables are categorical, can seen in the \"value labels\". As per the code-book of this data set these are all factor data types which can be sorted based on their \"value\" which are inteegers starting at numeric \"1\".\n",
                "\n",
                "Now we will begin to visualize the association between Health and Checkup lag time.\n",
                "\n",
                "#### Exploration"
            ]
        },
        {
            "cell_type": "code",
            "execution_count": 84,
            "metadata": {},
            "outputs": [
                {
                    "data": {
                        "text/html": [
                            "<table class=\"dataframe\">\n",
                            "<caption>A grouped_df: 5 × 4</caption>\n",
                            "<thead>\n",
                            "\t<tr><th scope=col>health</th><th scope=col>checkup</th><th scope=col>n</th><th scope=col>p</th></tr>\n",
                            "\t<tr><th scope=col>&lt;fct&gt;</th><th scope=col>&lt;fct&gt;</th><th scope=col>&lt;int&gt;</th><th scope=col>&lt;dbl&gt;</th></tr>\n",
                            "</thead>\n",
                            "<tbody>\n",
                            "\t<tr><td>Excellent</td><td>Within past year   </td><td>58384</td><td>0.690232426</td></tr>\n",
                            "\t<tr><td>Excellent</td><td>Within past 2 years</td><td>11832</td><td>0.139881304</td></tr>\n",
                            "\t<tr><td>Excellent</td><td>Within past 5 years</td><td> 6874</td><td>0.081266403</td></tr>\n",
                            "\t<tr><td>Excellent</td><td>5 or more years ago</td><td> 6702</td><td>0.079232970</td></tr>\n",
                            "\t<tr><td>Excellent</td><td>Never              </td><td>  794</td><td>0.009386896</td></tr>\n",
                            "</tbody>\n",
                            "</table>\n"
                        ],
                        "text/latex": [
                            "A grouped\\_df: 5 × 4\n",
                            "\\begin{tabular}{llll}\n",
                            " health & checkup & n & p\\\\\n",
                            " <fct> & <fct> & <int> & <dbl>\\\\\n",
                            "\\hline\n",
                            "\t Excellent & Within past year    & 58384 & 0.690232426\\\\\n",
                            "\t Excellent & Within past 2 years & 11832 & 0.139881304\\\\\n",
                            "\t Excellent & Within past 5 years &  6874 & 0.081266403\\\\\n",
                            "\t Excellent & 5 or more years ago &  6702 & 0.079232970\\\\\n",
                            "\t Excellent & Never               &   794 & 0.009386896\\\\\n",
                            "\\end{tabular}\n"
                        ],
                        "text/markdown": [
                            "\n",
                            "A grouped_df: 5 × 4\n",
                            "\n",
                            "| health &lt;fct&gt; | checkup &lt;fct&gt; | n &lt;int&gt; | p &lt;dbl&gt; |\n",
                            "|---|---|---|---|\n",
                            "| Excellent | Within past year    | 58384 | 0.690232426 |\n",
                            "| Excellent | Within past 2 years | 11832 | 0.139881304 |\n",
                            "| Excellent | Within past 5 years |  6874 | 0.081266403 |\n",
                            "| Excellent | 5 or more years ago |  6702 | 0.079232970 |\n",
                            "| Excellent | Never               |   794 | 0.009386896 |\n",
                            "\n"
                        ],
                        "text/plain": [
                            "  health    checkup             n     p          \n",
                            "1 Excellent Within past year    58384 0.690232426\n",
                            "2 Excellent Within past 2 years 11832 0.139881304\n",
                            "3 Excellent Within past 5 years  6874 0.081266403\n",
                            "4 Excellent 5 or more years ago  6702 0.079232970\n",
                            "5 Excellent Never                 794 0.009386896"
                        ]
                    },
                    "metadata": {},
                    "output_type": "display_data"
                }
            ],
            "source": [
                "rq3_checkup <- rq3_omit %>%\n",
                " count(health, checkup) %>%\n",
                " group_by(health) %>%\n",
                " mutate(p = n/sum(n))\n",
                "\n",
                "head(rq3_checkup, 5)"
            ]
        },
        {
            "cell_type": "code",
            "execution_count": 89,
            "metadata": {},
            "outputs": [
                {
                    "data": {
                        "image/png": "[encoded data removed]",
                        "text/plain": [
                            "plot without title"
                        ]
                    },
                    "metadata": {
                        "image/png": {
                            "height": 420,
                            "width": 420
                        }
                    },
                    "output_type": "display_data"
                }
            ],
            "source": [
                "ggplot(rq3_checkup, aes(health, n, fill=checkup))+\n",
                " geom_col() +\n",
                " labs(x='Health level', y='Count', title='Distribution of Days from last Routine Checkup across Health levels')+\n",
                " theme(axis.text.x = element_text(face = \"bold\", color = \"#993333\",size=8,angle = 45,vjust = 1, hjust=0.9))"
            ]
        },
        {
            "cell_type": "markdown",
            "metadata": {},
            "source": [
                "- Looking at this plot we can see the two most common levels of health are \"Very Good\" and \"Good\"\n",
                "- We would need to make a proportion or percentage plot to see any association between the variables."
            ]
        },
        {
            "cell_type": "code",
            "execution_count": 88,
            "metadata": {},
            "outputs": [
                {
                    "data": {
                        "image/png": "[encoded data removed]",
                        "text/plain": [
                            "plot without title"
                        ]
                    },
                    "metadata": {
                        "image/png": {
                            "height": 420,
                            "width": 420
                        }
                    },
                    "output_type": "display_data"
                }
            ],
            "source": [
                "ggplot(rq3_checkup, aes(health, p, fill=checkup))+\n",
                " geom_col() +\n",
                " labs(x='Health level', y='Count', title='Distribution of Days from last Routine Checkup across Health levels')+\n",
                " theme(axis.text.x = element_text(face = \"bold\", color = \"#993333\",size=8,angle = 45,vjust = 1, hjust=0.9))"
            ]
        },
        {
            "cell_type": "markdown",
            "metadata": {},
            "source": [
                "- It is clear that adults with poor general health have had a recent general/routine consultation with the doctor.\n",
                "- While the proportion is not drastically different across ordinal health levels, does prove a positive correlation across atleast the \"Within past year\" and \"Withing past 2 year\" ordinal catergories."
            ]
        }
    ],
    "metadata": {
        "anaconda-cloud": "",
        "kernelspec": {
            "display_name": "R",
            "langauge": "R",
            "language": "R",
            "name": "ir"
        },
        "language_info": {
            "codemirror_mode": "r",
            "file_extension": ".r",
            "mimetype": "text/x-r-source",
            "name": "R",
            "pygments_lexer": "r",
            "version": "4.1.2"
        }
    },
    "nbformat": 4,
    "nbformat_minor": 1
}
